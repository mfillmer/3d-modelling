{
 "cells": [
  {
   "cell_type": "code",
   "execution_count": null,
   "metadata": {},
   "outputs": [],
   "source": [
    "from viewscad import Renderer\n",
    "\n",
    "r = Renderer()\n",
    "r.width = 700\n",
    "r.height = 700\n",
    "\n",
    "render = r.render\n"
   ]
  },
  {
   "cell_type": "code",
   "execution_count": null,
   "metadata": {},
   "outputs": [],
   "source": [
    "from stackable_pipe import ring, connection, pipe, cutout\n",
    "from solid import cylinder, translate, rotate, cube\n",
    "from viewscad import Renderer\n",
    "\n",
    "r = Renderer()\n",
    "r.width = 700\n",
    "r.height = 700\n",
    "\n",
    "render = r.render\n",
    "\n",
    "\n",
    "def bottom_grid(d=60, w=2, hole_size=6, hole_gap=2):\n",
    "    plate = cylinder(h=w, d=d, segments=100)\n",
    "    hole = cylinder(h=w, d=hole_size, segments=10)\n",
    "    pane = range(-d//2, d//2, hole_size+hole_gap)\n",
    "    transition = ring(d1=d, h=w, w=w*2)\n",
    "\n",
    "    holes = [translate((x, y, 0))(hole) for x in pane for y in pane]\n",
    "\n",
    "    return plate - holes + transition\n",
    "\n",
    "\n",
    "def spin_around_tower(obj, count=4, alpha=45, h=160):\n",
    "    angles = range(180, 540, int(360/count))\n",
    "    # drehen und dann kippen\n",
    "    return translate((0, 0, h/2))([rotate((alpha, 0, z))(obj) for z in angles])\n",
    "\n",
    "\n",
    "def cup_con(d1=52, d2=60, w=2, height=80, inlet_delta=5):\n",
    "    c = d2\n",
    "    gradient = (d2-d1)/height\n",
    "    inlet = (gradient*inlet_delta+w) * 2\n",
    "    socket_d1_delta = d1 + inlet\n",
    "    socket_d2_delta = d2 + inlet\n",
    "    c = cutout(c)\n",
    "\n",
    "    base = ring(d1=socket_d1_delta, d2=socket_d2_delta, h=height, w=w)\n",
    "    socket = base - c\n",
    "\n",
    "\n",
    "    cup = ring(d1=d1, d2=d2, w=w, h=height)\n",
    "    cup += bottom_grid(d=d1, w=w)\n",
    "\n",
    "    outline = cylinder(d1=d1, d2=d2, h=height*2, segments=100)\n",
    "\n",
    "    return (socket, cup, outline)\n",
    "\n",
    "\n",
    "def aero_tower(w=2, h=160, d=160, socket_h=20, pipe_count=1, alpha=45, cup_d = 60, cup_h=80, tooth=2):\n",
    "    gap = 0.2\n",
    "    delta = w + tooth + gap\n",
    "    aero_tower = pipe(d=d, h=h, w=w, tooth=2, socket_h=socket_h)\n",
    "    (cup_s, cup, cup_outline) = cup_con(d1=cup_d-cup_h//10,d2=cup_d, w=w, height=cup_h, inlet_delta=5)\n",
    "    outline = cylinder(d=d, h=d, segments=100)\n",
    "    holes = spin_around_tower(cup_outline, count=pipe_count, alpha=alpha)\n",
    "    sockets = spin_around_tower(\n",
    "        translate((0, 0, h/2+w))(cup_s), h=d, count=pipe_count, alpha=alpha)\n",
    "\n",
    "    holes = translate((0, 0, -h/2))(holes)\n",
    "    sockets = translate((0, 0, -h/2))(sockets)\n",
    "    aero_tower = aero_tower - holes + sockets\n",
    "    aero_tower *= outline\n",
    "\n",
    "    return (aero_tower, cup)\n",
    "\n",
    "\n",
    "(tower, cup ) = aero_tower(pipe_count=5)\n",
    "render(tower, outfile='./outfiles/aero_tower.stl')\n",
    "render(cup, outfile='./outfiles/plant_cup.stl')\n"
   ]
  },
  {
   "cell_type": "code",
   "execution_count": 12,
   "metadata": {},
   "outputs": [
    {
     "ename": "KeyboardInterrupt",
     "evalue": "",
     "output_type": "error",
     "traceback": [
      "\u001b[0;31m---------------------------------------------------------------------------\u001b[0m",
      "\u001b[0;31mKeyboardInterrupt\u001b[0m                         Traceback (most recent call last)",
      "\u001b[1;32m/home/malte/3d-modelling/smart_grow/aero_tower/aero_tower.ipynb Cell 3'\u001b[0m in \u001b[0;36m<cell line: 21>\u001b[0;34m()\u001b[0m\n\u001b[1;32m     <a href='vscode-notebook-cell:/home/malte/3d-modelling/smart_grow/aero_tower/aero_tower.ipynb#ch0000002?line=14'>15</a>\u001b[0m     (_, socket) \u001b[39m=\u001b[39m connection(d\u001b[39m=\u001b[39mwidth, h\u001b[39m=\u001b[39msocket_h,\n\u001b[1;32m     <a href='vscode-notebook-cell:/home/malte/3d-modelling/smart_grow/aero_tower/aero_tower.ipynb#ch0000002?line=15'>16</a>\u001b[0m                              wall\u001b[39m=\u001b[39mwall, tooth_depth\u001b[39m=\u001b[39mtooth, tooth_height\u001b[39m=\u001b[39mtooth\u001b[39m*\u001b[39m\u001b[39m2\u001b[39m)\n\u001b[1;32m     <a href='vscode-notebook-cell:/home/malte/3d-modelling/smart_grow/aero_tower/aero_tower.ipynb#ch0000002?line=17'>18</a>\u001b[0m     \u001b[39mreturn\u001b[39;00m bottom \u001b[39m+\u001b[39m body \u001b[39m+\u001b[39m up(height\u001b[39m-\u001b[39msocket_h)(socket)\n\u001b[0;32m---> <a href='vscode-notebook-cell:/home/malte/3d-modelling/smart_grow/aero_tower/aero_tower.ipynb#ch0000002?line=20'>21</a>\u001b[0m render(two_sided_connection(), outfile\u001b[39m=\u001b[39;49m\u001b[39m'\u001b[39;49m\u001b[39m./outfiles/aero_tower_tank_adapter.stl\u001b[39;49m\u001b[39m'\u001b[39;49m)\n\u001b[1;32m     <a href='vscode-notebook-cell:/home/malte/3d-modelling/smart_grow/aero_tower/aero_tower.ipynb#ch0000002?line=21'>22</a>\u001b[0m render(tank(), outfile\u001b[39m=\u001b[39m\u001b[39m'\u001b[39m\u001b[39m./outfiles/aero_tower_tank.stl\u001b[39m\u001b[39m'\u001b[39m)\n",
      "File \u001b[0;32m~/.local/lib/python3.9/site-packages/viewscad/renderer.py:384\u001b[0m, in \u001b[0;36mRenderer.render\u001b[0;34m(self, in_obj, **kw)\u001b[0m\n\u001b[1;32m    382\u001b[0m \u001b[39mif\u001b[39;00m \u001b[39misinstance\u001b[39m(in_obj, solid\u001b[39m.\u001b[39mOpenSCADObject):\n\u001b[1;32m    383\u001b[0m     kw[\u001b[39m'\u001b[39m\u001b[39mscad_object\u001b[39m\u001b[39m'\u001b[39m] \u001b[39m=\u001b[39m in_obj\n\u001b[0;32m--> 384\u001b[0m     \u001b[39mself\u001b[39;49m\u001b[39m.\u001b[39;49mcreate_rendered_obj_if_needed(in_obj, \u001b[39m*\u001b[39;49m\u001b[39m*\u001b[39;49mkw)\n\u001b[1;32m    385\u001b[0m     \u001b[39mif\u001b[39;00m \u001b[39mhasattr\u001b[39m(in_obj, \u001b[39m'\u001b[39m\u001b[39mrendered_object\u001b[39m\u001b[39m'\u001b[39m):\n\u001b[1;32m    386\u001b[0m         \u001b[39mself\u001b[39m\u001b[39m.\u001b[39m_render_obj(in_obj\u001b[39m.\u001b[39mrendered_object, \u001b[39m*\u001b[39m\u001b[39m*\u001b[39mkw)\n",
      "File \u001b[0;32m~/.local/lib/python3.9/site-packages/viewscad/renderer.py:582\u001b[0m, in \u001b[0;36mRenderer.create_rendered_obj_if_needed\u001b[0;34m(self, openSCADObj, **kw)\u001b[0m\n\u001b[1;32m    580\u001b[0m \u001b[39mif\u001b[39;00m scad_str \u001b[39mis\u001b[39;00m \u001b[39mNone\u001b[39;00m:\n\u001b[1;32m    581\u001b[0m     scad_str \u001b[39m=\u001b[39m solid\u001b[39m.\u001b[39mscad_render(openSCADObj)\n\u001b[0;32m--> 582\u001b[0m rend_obj \u001b[39m=\u001b[39m \u001b[39mself\u001b[39;49m\u001b[39m.\u001b[39;49mrender_openscad_str(scad_str, \u001b[39m*\u001b[39;49m\u001b[39m*\u001b[39;49mkw)\n\u001b[1;32m    583\u001b[0m \u001b[39mif\u001b[39;00m rend_obj \u001b[39mis\u001b[39;00m \u001b[39mnot\u001b[39;00m \u001b[39mNone\u001b[39;00m:\n\u001b[1;32m    584\u001b[0m     openSCADObj\u001b[39m.\u001b[39mrendered_object \u001b[39m=\u001b[39m rend_obj\n",
      "File \u001b[0;32m~/.local/lib/python3.9/site-packages/viewscad/renderer.py:608\u001b[0m, in \u001b[0;36mRenderer.render_openscad_str\u001b[0;34m(self, openscad_str, **kw)\u001b[0m\n\u001b[1;32m    606\u001b[0m \u001b[39mtry\u001b[39;00m:\n\u001b[1;32m    607\u001b[0m     kw[\u001b[39m'\u001b[39m\u001b[39mrough\u001b[39m\u001b[39m'\u001b[39m] \u001b[39m=\u001b[39m \u001b[39mTrue\u001b[39;00m            \n\u001b[0;32m--> 608\u001b[0m     \u001b[39mself\u001b[39;49m\u001b[39m.\u001b[39;49mrender_to_file(openscad_str, openscad_out_file, \u001b[39m*\u001b[39;49m\u001b[39m*\u001b[39;49mkw)\n\u001b[1;32m    609\u001b[0m     \u001b[39mif\u001b[39;00m openscad_out_file\u001b[39m.\u001b[39mfind(\u001b[39m'\u001b[39m\u001b[39m.stl\u001b[39m\u001b[39m'\u001b[39m) \u001b[39m>\u001b[39m\u001b[39m=\u001b[39m \u001b[39m0\u001b[39m:                \n\u001b[1;32m    610\u001b[0m         \u001b[39m#self._render_stl(openscad_out_file)\u001b[39;00m\n\u001b[1;32m    611\u001b[0m         return_obj \u001b[39m=\u001b[39m RenderedObject(\u001b[39mopen\u001b[39m(openscad_out_file))\n",
      "File \u001b[0;32m~/.local/lib/python3.9/site-packages/viewscad/renderer.py:365\u001b[0m, in \u001b[0;36mRenderer.render_to_file\u001b[0;34m(self, openscad_str, fl_name, **kw)\u001b[0m\n\u001b[1;32m    363\u001b[0m \u001b[39m# now run openscad to generate stl:\u001b[39;00m\n\u001b[1;32m    364\u001b[0m cmd \u001b[39m=\u001b[39m [\u001b[39mself\u001b[39m\u001b[39m.\u001b[39mopenscad_exec, \u001b[39m'\u001b[39m\u001b[39m-o\u001b[39m\u001b[39m'\u001b[39m, fl_name, scad_tmp_file]\n\u001b[0;32m--> 365\u001b[0m out \u001b[39m=\u001b[39m subprocess\u001b[39m.\u001b[39;49mcheck_output(cmd)\n\u001b[1;32m    366\u001b[0m \u001b[39mif\u001b[39;00m out \u001b[39m!=\u001b[39m \u001b[39mb\u001b[39m\u001b[39m'\u001b[39m\u001b[39m'\u001b[39m: \u001b[39mprint\u001b[39m(out)\n\u001b[1;32m    367\u001b[0m \u001b[39m#if return_code < 0:\u001b[39;00m\n\u001b[1;32m    368\u001b[0m \u001b[39m#    raise Exception('openscad command line returned code {}'.format(return_code))\u001b[39;00m\n",
      "File \u001b[0;32m/usr/lib/python3.9/subprocess.py:424\u001b[0m, in \u001b[0;36mcheck_output\u001b[0;34m(timeout, *popenargs, **kwargs)\u001b[0m\n\u001b[1;32m    421\u001b[0m         empty \u001b[39m=\u001b[39m \u001b[39mb\u001b[39m\u001b[39m'\u001b[39m\u001b[39m'\u001b[39m\n\u001b[1;32m    422\u001b[0m     kwargs[\u001b[39m'\u001b[39m\u001b[39minput\u001b[39m\u001b[39m'\u001b[39m] \u001b[39m=\u001b[39m empty\n\u001b[0;32m--> 424\u001b[0m \u001b[39mreturn\u001b[39;00m run(\u001b[39m*\u001b[39;49mpopenargs, stdout\u001b[39m=\u001b[39;49mPIPE, timeout\u001b[39m=\u001b[39;49mtimeout, check\u001b[39m=\u001b[39;49m\u001b[39mTrue\u001b[39;49;00m,\n\u001b[1;32m    425\u001b[0m            \u001b[39m*\u001b[39;49m\u001b[39m*\u001b[39;49mkwargs)\u001b[39m.\u001b[39mstdout\n",
      "File \u001b[0;32m/usr/lib/python3.9/subprocess.py:507\u001b[0m, in \u001b[0;36mrun\u001b[0;34m(input, capture_output, timeout, check, *popenargs, **kwargs)\u001b[0m\n\u001b[1;32m    505\u001b[0m \u001b[39mwith\u001b[39;00m Popen(\u001b[39m*\u001b[39mpopenargs, \u001b[39m*\u001b[39m\u001b[39m*\u001b[39mkwargs) \u001b[39mas\u001b[39;00m process:\n\u001b[1;32m    506\u001b[0m     \u001b[39mtry\u001b[39;00m:\n\u001b[0;32m--> 507\u001b[0m         stdout, stderr \u001b[39m=\u001b[39m process\u001b[39m.\u001b[39;49mcommunicate(\u001b[39minput\u001b[39;49m, timeout\u001b[39m=\u001b[39;49mtimeout)\n\u001b[1;32m    508\u001b[0m     \u001b[39mexcept\u001b[39;00m TimeoutExpired \u001b[39mas\u001b[39;00m exc:\n\u001b[1;32m    509\u001b[0m         process\u001b[39m.\u001b[39mkill()\n",
      "File \u001b[0;32m/usr/lib/python3.9/subprocess.py:1121\u001b[0m, in \u001b[0;36mPopen.communicate\u001b[0;34m(self, input, timeout)\u001b[0m\n\u001b[1;32m   1119\u001b[0m     \u001b[39mself\u001b[39m\u001b[39m.\u001b[39m_stdin_write(\u001b[39minput\u001b[39m)\n\u001b[1;32m   1120\u001b[0m \u001b[39melif\u001b[39;00m \u001b[39mself\u001b[39m\u001b[39m.\u001b[39mstdout:\n\u001b[0;32m-> 1121\u001b[0m     stdout \u001b[39m=\u001b[39m \u001b[39mself\u001b[39;49m\u001b[39m.\u001b[39;49mstdout\u001b[39m.\u001b[39;49mread()\n\u001b[1;32m   1122\u001b[0m     \u001b[39mself\u001b[39m\u001b[39m.\u001b[39mstdout\u001b[39m.\u001b[39mclose()\n\u001b[1;32m   1123\u001b[0m \u001b[39melif\u001b[39;00m \u001b[39mself\u001b[39m\u001b[39m.\u001b[39mstderr:\n",
      "\u001b[0;31mKeyboardInterrupt\u001b[0m: "
     ]
    }
   ],
   "source": [
    "from solid import cylinder\n",
    "from solid.utils import up\n",
    "from stackable_pipe import connection, ring, two_sided_connection\n",
    "from viewscad import Renderer\n",
    "\n",
    "r = Renderer()\n",
    "r.width = 1000\n",
    "r.height = 700\n",
    "\n",
    "render = r.render\n",
    "\n",
    "def tank(width=180, height=180, wall=2, socket_h=20, tooth=2):\n",
    "    body = ring(d1=width, h=height, w=wall)\n",
    "    bottom = cylinder(d=width, h=wall, segments=100)\n",
    "    (_, socket) = connection(d=width, h=socket_h,\n",
    "                             wall=wall, tooth_depth=tooth, tooth_height=tooth*2)\n",
    "\n",
    "    return bottom + body + up(height-socket_h)(socket)\n",
    "\n",
    "\n",
    "render(two_sided_connection(), outfile='./outfiles/aero_tower_tank_adapter.stl')\n",
    "render(tank(), outfile='./outfiles/aero_tower_tank.stl')\n"
   ]
  },
  {
   "cell_type": "code",
   "execution_count": 13,
   "metadata": {},
   "outputs": [
    {
     "name": "stderr",
     "output_type": "stream",
     "text": [
      "Geometries in cache: 35\n",
      "Geometry cache size in bytes: 1021312\n",
      "CGAL Polyhedrons in cache: 41\n",
      "CGAL cache size in bytes: 91840464\n",
      "Total rendering time: 0:02:09.823\n",
      "   Top level object is a 3D object:\n",
      "   Simple:        yes\n",
      "   Vertices:    15681\n",
      "   Halfedges:   52272\n",
      "   Edges:       26136\n",
      "   Halffacets:  18018\n",
      "   Facets:       9009\n",
      "   Volumes:         3\n"
     ]
    },
    {
     "data": {
      "application/vnd.jupyter.widget-view+json": {
       "model_id": "617ea73b57134a0b858a0a60ffe70ce5",
       "version_major": 2,
       "version_minor": 0
      },
      "text/plain": [
       "VBox(children=(HTML(value=''), Renderer(background='#cccc88', background_opacity=0.0, camera=PerspectiveCamera…"
      ]
     },
     "metadata": {},
     "output_type": "display_data"
    },
    {
     "name": "stderr",
     "output_type": "stream",
     "text": [
      "Geometries in cache: 16\n",
      "Geometry cache size in bytes: 409088\n",
      "CGAL Polyhedrons in cache: 17\n",
      "CGAL cache size in bytes: 49833464\n",
      "Total rendering time: 0:01:13.286\n",
      "   Top level object is a 3D object:\n",
      "   Simple:        yes\n",
      "   Vertices:     7713\n",
      "   Halfedges:   25876\n",
      "   Edges:       12938\n",
      "   Halffacets:   8550\n",
      "   Facets:       4275\n",
      "   Volumes:         2\n"
     ]
    },
    {
     "data": {
      "application/vnd.jupyter.widget-view+json": {
       "model_id": "5269efd1c4eb414e80f16a5c50f80ade",
       "version_major": 2,
       "version_minor": 0
      },
      "text/plain": [
       "VBox(children=(HTML(value=''), Renderer(background='#cccc88', background_opacity=0.0, camera=PerspectiveCamera…"
      ]
     },
     "metadata": {},
     "output_type": "display_data"
    },
    {
     "name": "stderr",
     "output_type": "stream",
     "text": [
      "Geometries in cache: 8\n",
      "Geometry cache size in bytes: 198496\n",
      "CGAL Polyhedrons in cache: 6\n",
      "CGAL cache size in bytes: 12215992\n",
      "Total rendering time: 0:00:15.270\n",
      "   Top level object is a 3D object:\n",
      "   Simple:        yes\n",
      "   Vertices:     2615\n",
      "   Halfedges:    8130\n",
      "   Edges:        4065\n",
      "   Halffacets:   2904\n",
      "   Facets:       1452\n",
      "   Volumes:         2\n"
     ]
    },
    {
     "data": {
      "application/vnd.jupyter.widget-view+json": {
       "model_id": "70e18e2aca734a6fba9c6ab658477276",
       "version_major": 2,
       "version_minor": 0
      },
      "text/plain": [
       "VBox(children=(HTML(value=''), Renderer(background='#cccc88', background_opacity=0.0, camera=PerspectiveCamera…"
      ]
     },
     "metadata": {},
     "output_type": "display_data"
    }
   ],
   "source": [
    "\n",
    "from stackable_pipe import pipe, ring, connection, mount_to_bottom, tended_obj, cutout\n",
    "from solid import cylinder, translate, rotate, cube, hull, projection, linear_extrude\n",
    "from solid.utils import up, forward, down\n",
    "from viewscad import Renderer\n",
    "from math import sqrt\n",
    "\n",
    "r = Renderer()\n",
    "r.width = 700\n",
    "r.height = 700\n",
    "\n",
    "render = r.render\n",
    "\n",
    "def electronics_mounts(d=150, hole_d=67, strength=10, bb_mount_h=16, bb_w=83, bb_d=10, pump_d=24):\n",
    "    # mock = ring(h=1, d1=d, w=(d-hole_d)/2)\n",
    "\n",
    "    bb_mount_delta = (hole_d + bb_d)/2\n",
    "    bb_mount = up(bb_mount_h/2)(\n",
    "        cube((bb_d+strength, bb_w+2, bb_mount_h), center=True)\n",
    "        - cube((bb_d, bb_w, bb_mount_h), center=True)\n",
    "    )\n",
    "    bb_mount = translate((-bb_mount_delta, 0, 0))(bb_mount)\n",
    "    bb_mount *= ring(r1=bb_mount_delta + strength, h=bb_mount_h, w=strength)\n",
    "\n",
    "    pm_d = pump_d + 2\n",
    "    pump_mount_delta = (hole_d + pm_d)/2\n",
    "    pump_mount = tended_obj(w=pm_d)(cylinder(d=pm_d, h=24, segments=100))\n",
    "    pump_mount = mount_to_bottom(pump_mount)\n",
    "    pump_mount -= tended_obj(w=pump_d)(down(2)(cutout(pump_d)))\n",
    "    pump_mount -= tended_obj(w=pump_d)(down(20)(\n",
    "        cylinder(d=pump_d, h=60, segments=100))\n",
    "    )\n",
    "    pump_mount = rotate(100)(\n",
    "        translate((-pump_mount_delta, pm_d/2, 0))(pump_mount)\n",
    "    )\n",
    "\n",
    "    return bb_mount + pump_mount\n",
    "\n",
    "def fog_well(inner_d=50, wall=2, well_depth=60, adapter_h=10, hole_h=20, tube_d=8, cable_d=15, tooth=2):\n",
    "    outer_d = inner_d+wall*2+tooth*2\n",
    "    total_h = well_depth+wall+adapter_h+hole_h\n",
    "    well = ring(d1=outer_d, w=wall, h=total_h)\n",
    "    base = cylinder(h=wall, d=outer_d, segments=100)\n",
    "\n",
    "    hole = cylinder(d=hole_h, segments=3, h=outer_d)\n",
    "    holes = [rotate((0, 270, z))(hole) for z in range(0, 360, 360//5)]\n",
    "\n",
    "    (adapter, socket) = connection(wall=wall, d=outer_d,\n",
    "                                   h=adapter_h, tooth_depth=tooth, tooth_height=tooth*2, gap=0.1)\n",
    "\n",
    "    fog_well = base + well\\\n",
    "        - up(well_depth)(holes)\\\n",
    "        + up(well_depth+hole_h)(socket)\n",
    "    lid = adapter\\\n",
    "        + cylinder(d=inner_d, h=adapter_h, segments=100)\\\n",
    "        - cylinder(d=cable_d, h=adapter_h, segments=100)\\\n",
    "        - forward((inner_d-cable_d)/2)(\n",
    "            cylinder(d=tube_d, h=adapter_h, segments=100)\n",
    "        )\n",
    "\n",
    "    return (fog_well, lid)\n",
    "\n",
    "\n",
    "def tower_head(d=160, w=2, tooth=2, socket_h=20, h=100, gap=0.1, fogger_d=50, fw_depth=60, fw_socket_h=10, fw_hole_h=20):\n",
    "    delta_r = w + tooth + gap\n",
    "    base_d = d-delta_r*2\n",
    "    body = pipe(d=d, w=w, tooth=tooth, socket_h=socket_h, h=h)\n",
    "    fog_well_d = fogger_d + (tooth + w)*2 + (tooth + w + gap)*2\n",
    "\n",
    "    (adapter, socket) = connection(d=fog_well_d,\n",
    "                                   tooth_depth=tooth, tooth_height=tooth*2, h=socket_h, gap=gap)\n",
    "    (well, lid) = fog_well(inner_d=fogger_d, wall=w, tooth=tooth,\n",
    "                           well_depth=fw_depth, adapter_h=fw_socket_h, hole_h=fw_hole_h)\n",
    "\n",
    "    well_h = fw_depth + fw_socket_h + fw_hole_h + w\n",
    "    well = well + up(well_h-socket_h)(adapter)\n",
    "\n",
    "    base = cylinder(d=base_d, h=w, segments=100)\\\n",
    "        - cylinder(d=fog_well_d, h=w, segments=100)\\\n",
    "        + socket\n",
    "    mounts = electronics_mounts(d=base_d, hole_d=fog_well_d,)\n",
    "\n",
    "    head = body + base + mounts\n",
    "\n",
    "    return (head, well, lid)\n",
    "\n",
    "\n",
    "\n",
    "\n",
    "(head, well, lid) = tower_head()\n",
    "\n",
    "render(head, outfile='outfiles/aero_tower_head.stl')\n",
    "render(well, outfile='outfiles/fog_well.stl')\n",
    "render(lid, outfile='outfiles/fog_well_lid.stl')\n"
   ]
  }
 ],
 "metadata": {
  "kernelspec": {
   "display_name": "Python 3.9.2 64-bit",
   "language": "python",
   "name": "python3"
  },
  "language_info": {
   "codemirror_mode": {
    "name": "ipython",
    "version": 3
   },
   "file_extension": ".py",
   "mimetype": "text/x-python",
   "name": "python",
   "nbconvert_exporter": "python",
   "pygments_lexer": "ipython3",
   "version": "3.9.2"
  },
  "orig_nbformat": 4,
  "vscode": {
   "interpreter": {
    "hash": "31f2aee4e71d21fbe5cf8b01ff0e069b9275f58929596ceb00d14d90e3e16cd6"
   }
  }
 },
 "nbformat": 4,
 "nbformat_minor": 2
}
