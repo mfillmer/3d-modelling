{
 "cells": [
  {
   "cell_type": "code",
   "execution_count": 1,
   "metadata": {},
   "outputs": [],
   "source": [
    "from viewscad import Renderer\n",
    "\n",
    "r = Renderer()\n",
    "r.width = 500\n",
    "r.height = 500\n",
    "\n",
    "render = r.render"
   ]
  },
  {
   "cell_type": "code",
   "execution_count": 36,
   "metadata": {},
   "outputs": [
    {
     "name": "stderr",
     "output_type": "stream",
     "text": [
      "/home/gitpod/.pyenv/versions/3.8.12/lib/python3.8/site-packages/jupyter_client/session.py:716: UserWarning: Message serialization failed with:\n",
      "Out of range float values are not JSON compliant\n",
      "Supporting this message is deprecated in jupyter-client 7, please make sure your message is JSON-compliant\n",
      "  content = self.pack(content)\n"
     ]
    },
    {
     "data": {
      "application/vnd.jupyter.widget-view+json": {
       "model_id": "b91194b206c7418694145ac7e64a332c",
       "version_major": 2,
       "version_minor": 0
      },
      "text/plain": [
       "VBox(children=(HTML(value=''), Renderer(background='#cccc88', background_opacity=0.0, camera=PerspectiveCamera…"
      ]
     },
     "metadata": {},
     "output_type": "display_data"
    }
   ],
   "source": [
    "from stackable_pipe import pipe\n",
    "from solid import cylinder\n",
    "\n",
    "w = 4\n",
    "tower = pipe(r=60, h = 160, w=w)\n",
    "\n",
    "pipes = translate((0,0,25))( [rotate((45,0,z))(cylinder(d=80, h=130, segments=60)) for z in [0,120,240]])\\\n",
    "    - translate((0,0,-6))(cylinder(d=120-w, h=150, segments=60))\n",
    "holes=  translate((0,0,25))( [rotate((45,0,z))(cylinder(d=77, h=132, segments=60)) for z in [0,120,240]])\n",
    "\n",
    "scene = tower + pipes - holes\n",
    "\n",
    "\n",
    "render(scene, outfile='hydrotower.stl')"
   ]
  }
 ],
 "metadata": {
  "interpreter": {
   "hash": "8b8334dab9339717f727a1deaf837b322d7a41c20d15cc86be99a8e69ceec8ce"
  },
  "kernelspec": {
   "display_name": "Python 3.8.12 64-bit ('3.8.12': pyenv)",
   "language": "python",
   "name": "python3"
  },
  "language_info": {
   "codemirror_mode": {
    "name": "ipython",
    "version": 3
   },
   "file_extension": ".py",
   "mimetype": "text/x-python",
   "name": "python",
   "nbconvert_exporter": "python",
   "pygments_lexer": "ipython3",
   "version": "3.8.12"
  },
  "orig_nbformat": 4
 },
 "nbformat": 4,
 "nbformat_minor": 2
}
