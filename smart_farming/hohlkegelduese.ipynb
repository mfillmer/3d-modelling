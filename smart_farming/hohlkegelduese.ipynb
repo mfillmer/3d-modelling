{
 "cells": [
  {
   "cell_type": "code",
   "execution_count": 1,
   "metadata": {},
   "outputs": [],
   "source": [
    "from viewscad import Renderer\n",
    "\n",
    "r = Renderer()\n",
    "r.width = 500\n",
    "r.height = 500\n",
    "\n",
    "render = r.render"
   ]
  },
  {
   "cell_type": "code",
   "execution_count": 13,
   "metadata": {},
   "outputs": [
    {
     "data": {
      "application/vnd.jupyter.widget-view+json": {
       "model_id": "c43f72322c934ba492036ba0d426ad37",
       "version_major": 2,
       "version_minor": 0
      },
      "text/plain": [
       "VBox(children=(HTML(value=''), Renderer(background='#cccc88', background_opacity=0.0, camera=PerspectiveCamera…"
      ]
     },
     "metadata": {},
     "output_type": "display_data"
    },
    {
     "data": {
      "application/vnd.jupyter.widget-view+json": {
       "model_id": "b5b53c530f8a4bdbad52bf13a1d20dd2",
       "version_major": 2,
       "version_minor": 0
      },
      "text/plain": [
       "VBox(children=(HTML(value=''), Renderer(background='#cccc88', background_opacity=0.0, camera=PerspectiveCamera…"
      ]
     },
     "metadata": {},
     "output_type": "display_data"
    }
   ],
   "source": [
    "from solid import cylinder, cube, translate, rotate, sphere\n",
    "\n",
    "body = cylinder(d=20, h=20)\n",
    "top = translate((0, 0, 20))(cylinder(d1=20, d2=5, h=10))\n",
    "hole = cylinder(d=12, h=20)\\\n",
    "    + translate((0, 0, 20))(sphere(6))\\\n",
    "    + translate((0, 0, 25))(cylinder(d=1, h=5))\\\n",
    "    + translate((0, 0, 29))(cylinder(d1=1, d2=2, h=1))\\\n",
    "\n",
    "lamella = translate((0,10,0.5))(cube((20, 20, 1), center=True))\\\n",
    "    + translate((0,0,10))(cube((20, 1, 20), center=True))\\\n",
    "    - translate((4,0.5,0))(cube(2))\n",
    "\n",
    "spinner = rotate((0,45,0))(lamella) + rotate((0,45,180))(lamella)\n",
    "spinner = translate((0,0,5))(spinner)\n",
    "spinner *= cylinder(d=12, h=12)\n",
    "spinner = translate((0,0,20))(rotate((0,180,0))(spinner))\n",
    "\n",
    "hkd = top + body - hole + spinner\n",
    "\n",
    "render(hkd-cube(30))\n",
    "render(hkd, outfile='hohlkegelduese.stl')\n"
   ]
  }
 ],
 "metadata": {
  "interpreter": {
   "hash": "8b8334dab9339717f727a1deaf837b322d7a41c20d15cc86be99a8e69ceec8ce"
  },
  "kernelspec": {
   "display_name": "Python 3.8.12 64-bit ('3.8.12')",
   "language": "python",
   "name": "python3"
  },
  "language_info": {
   "codemirror_mode": {
    "name": "ipython",
    "version": 3
   },
   "file_extension": ".py",
   "mimetype": "text/x-python",
   "name": "python",
   "nbconvert_exporter": "python",
   "pygments_lexer": "ipython3",
   "version": "3.8.12"
  },
  "orig_nbformat": 4
 },
 "nbformat": 4,
 "nbformat_minor": 2
}
