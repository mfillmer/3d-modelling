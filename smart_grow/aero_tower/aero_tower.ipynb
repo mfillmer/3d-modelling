{
 "cells": [
  {
   "cell_type": "code",
   "execution_count": 2,
   "metadata": {},
   "outputs": [],
   "source": [
    "from viewscad import Renderer\n",
    "\n",
    "r = Renderer()\n",
    "r.width = 700\n",
    "r.height = 700\n",
    "\n",
    "render = r.render\n"
   ]
  },
  {
   "cell_type": "code",
   "execution_count": null,
   "metadata": {},
   "outputs": [],
   "source": [
    "from stackable_pipe import pipe, slot, ring, socket\n",
    "from solid import cylinder, translate, rotate\n",
    "\n",
    "\n",
    "def spin_around_tower(obj, count=4, alpha=45,h=160):\n",
    "    angles = range(0, 360, int(360/count))\n",
    "    # drehen und dann kippen\n",
    "    return translate((0, 0, h/2))([rotate((alpha, 0, z))(obj) for z in angles])\n",
    "\n",
    "\n",
    "def tower_socket(d=60, w=4):\n",
    "    r = d/2\n",
    "    base = rotate((0, 0, 15))(socket(d=d, w=w)) + ring(d1=d, h=d+2*w, w=w/2)\n",
    "    transition = ring(r2=r+w*3, r1=r, h=w*3, w=w*4) - cylinder(h=w*3, d=d)\n",
    "\n",
    "    return base # + transition\n",
    "\n",
    "\n",
    "def aero_tower(w=4,h=160,d=160,pipe_count=5, alpha=45):\n",
    "    tower = pipe(d=d, h=h, w=w)\n",
    "    outline = cylinder(d=d, h=d, segments=60)\n",
    "    holes = spin_around_tower(cylinder(d=60, h=h, segments=60), count=pipe_count, alpha=alpha)\n",
    "    sockets = spin_around_tower(translate((0, 0, d/2))(tower_socket(w=w)), h=d, count=pipe_count, alpha=alpha)\n",
    "    \n",
    "    holes = translate((0,0,-h/2))(holes)\n",
    "    sockets = translate((0,0,-h/2))(sockets)\n",
    "\n",
    "    aero_tower = tower - holes\n",
    "    aero_tower += sockets\n",
    "    aero_tower *= outline\n",
    "    return aero_tower\n",
    "\n",
    "\n",
    "render(aero_tower(), outfile='./outfiles/aero_tower.stl')\n"
   ]
  },
  {
   "cell_type": "code",
   "execution_count": 3,
   "metadata": {},
   "outputs": [
    {
     "name": "stderr",
     "output_type": "stream",
     "text": [
      "/home/gitpod/.pyenv/versions/3.8.12/lib/python3.8/site-packages/jupyter_client/session.py:716: UserWarning: Message serialization failed with:\n",
      "Out of range float values are not JSON compliant\n",
      "Supporting this message is deprecated in jupyter-client 7, please make sure your message is JSON-compliant\n",
      "  content = self.pack(content)\n"
     ]
    },
    {
     "data": {
      "application/vnd.jupyter.widget-view+json": {
       "model_id": "839dd2a48e964f90a599db68f7e6c6d1",
       "version_major": 2,
       "version_minor": 0
      },
      "text/plain": [
       "VBox(children=(HTML(value=''), Renderer(background='#cccc88', background_opacity=0.0, camera=PerspectiveCamera…"
      ]
     },
     "metadata": {},
     "output_type": "display_data"
    }
   ],
   "source": [
    "from stackable_pipe import pipe, slot, ring, socket, cube\n",
    "from solid import cylinder, translate, rotate\n",
    "\n",
    "def bottom_grid(d=160, fogger_diameter=100, slots=5):\n",
    "    plate = cylinder(h=2, d=d, segments=60)\n",
    "    hole = translate((fogger_diameter/2, -5, 0))(cube(((d-fogger_diameter)/2,10,2)))\n",
    "\n",
    "    holes = sum([rotate((0, 0, r))(hole) for r in range(0, 360, 360//slots)])\n",
    "\n",
    "    return plate - holes\n",
    "\n",
    "def aero_tower_fogger_inlet(w=4,d=160, fogger_height=80, fogger_diameter=100, fogger_gap=1, fog_slots=5):\n",
    "    h = fogger_height + 7*w + 2\n",
    "\n",
    "    tower = pipe(d=d, h=h, w=w)\n",
    "    \n",
    "    inlet = cylinder(segments=60, d=fogger_diameter+w, h=fogger_height + 2)\\\n",
    "         - cylinder(segments=60, d=fogger_diameter+fogger_gap, h=fogger_height + 2)\n",
    "\n",
    "    return tower + inlet + bottom_grid(d=d-4*w, slots=10, fogger_diameter=fogger_diameter+w)\n",
    "\n",
    "render(aero_tower_fogger_inlet(), outfile='./outfiles/aero_tower_fogger_inlet.stl')"
   ]
  },
  {
   "cell_type": "code",
   "execution_count": 13,
   "metadata": {},
   "outputs": [
    {
     "name": "stderr",
     "output_type": "stream",
     "text": [
      "/home/gitpod/.pyenv/versions/3.8.12/lib/python3.8/site-packages/jupyter_client/session.py:716: UserWarning: Message serialization failed with:\n",
      "Out of range float values are not JSON compliant\n",
      "Supporting this message is deprecated in jupyter-client 7, please make sure your message is JSON-compliant\n",
      "  content = self.pack(content)\n"
     ]
    },
    {
     "data": {
      "application/vnd.jupyter.widget-view+json": {
       "model_id": "4d7f8587480b46d0aa847088f66fbf95",
       "version_major": 2,
       "version_minor": 0
      },
      "text/plain": [
       "VBox(children=(HTML(value=''), Renderer(background='#cccc88', background_opacity=0.0, camera=PerspectiveCamera…"
      ]
     },
     "metadata": {},
     "output_type": "display_data"
    }
   ],
   "source": [
    "from stackable_pipe import pipe, slot, ring, socket, adapter\n",
    "from solid import cylinder, translate, rotate, cube, hull\n",
    "\n",
    "\n",
    "def adapter_bottom_grid(d=60, w=4):\n",
    "    plate = cylinder(h=2, d=d-4*w)\n",
    "    hole = cylinder(h=2, d=6)\n",
    "\n",
    "    holes = sum([rotate((0, 0, r))(translate((x, 0, 0))(hole))\n",
    "                for r in range(0, 360, 360//8) for x in [0, 9, 16]])\n",
    "\n",
    "    return plate - holes\n",
    "\n",
    "\n",
    "def aero_tower_plant_cup(w=4, d=60, h=90, gap=2):\n",
    "    bottom = adapter(d=d, w=w)\n",
    "    grid = adapter_bottom_grid(d=d, w=w)\n",
    "    pipe = ring(d1=d-2*w, w=w, h=h-4*w, dz=4*w)\n",
    "    outline = cylinder(d=d-2*(w+gap), h=h, segments=100)\n",
    "\n",
    "    return (bottom + grid + pipe) * outline\n",
    "\n",
    "\n",
    "render(aero_tower_plant_cup(), outfile='./outfiles/aero_tower_plant_cup.stl')\n"
   ]
  },
  {
   "cell_type": "code",
   "execution_count": null,
   "metadata": {},
   "outputs": [],
   "source": [
    "d = 160\n",
    "h=160\n",
    "w=4\n",
    "pipes=1\n",
    "cups = spin_around_tower(translate((0,0, d/2-w))(rotate((0,0,180))(aero_tower_cap())), count=pipes)\n",
    "cups = translate((0,0,-h/2))(cups)\n",
    "\n",
    "showcase = aero_tower(pipe_count=pipes) + cups\n",
    "render(showcase - cube(200))\n",
    "\n",
    "\n",
    "\n",
    "\n",
    "# render(sum([translate((0,0,z))(showcase) for z in range(0,h*6,h-(4*w))]), outfile='./outfiles/showcase.stl')"
   ]
  },
  {
   "cell_type": "code",
   "execution_count": 17,
   "metadata": {},
   "outputs": [
    {
     "data": {
      "application/vnd.jupyter.widget-view+json": {
       "model_id": "b9462a9e04a3451fa6e52bd9796d9e52",
       "version_major": 2,
       "version_minor": 0
      },
      "text/plain": [
       "VBox(children=(HTML(value=''), Renderer(background='#cccc88', background_opacity=0.0, camera=PerspectiveCamera…"
      ]
     },
     "metadata": {},
     "output_type": "display_data"
    }
   ],
   "source": [
    "from viewscad import Renderer\n",
    "\n",
    "r = Renderer()\n",
    "r.width = 700\n",
    "r.height = 700\n",
    "\n",
    "render = r.render\n",
    "\n",
    "\n",
    "from stackable_pipe import socket\n",
    "from solid import cylinder, sphere, translate, cube\n",
    "\n",
    "def tank(size=180, wall=2, border_radius=30, socket_d=160, socket_w=4):\n",
    "    top_height = size-socket_d+socket_w*3\n",
    " \n",
    "    body = cylinder(d=size, h=size-top_height, segments=100)\\\n",
    "        - translate((0,0,wall))(cylinder(d=(size-(wall*2)), h=size, segments=100))\n",
    "\n",
    "    top = translate((0,0,size-socket_d))(socket(d=socket_d, w=socket_w))\\\n",
    "        + cylinder(d1=size, d2=socket_d, h=size-socket_d, segments=100)\\\n",
    "        - cylinder(d1=size-(wall*2), d2=socket_d-(wall*2), h=size-socket_d, segments=100) \n",
    "\n",
    "    return body + translate((0,0,size-top_height))(top)\n",
    "\n",
    "\n",
    "render(tank(), outfile='./outfiles/tank.stl')"
   ]
  }
 ],
 "metadata": {
  "interpreter": {
   "hash": "8b8334dab9339717f727a1deaf837b322d7a41c20d15cc86be99a8e69ceec8ce"
  },
  "kernelspec": {
   "display_name": "Python 3.8.12 64-bit ('3.8.12': pyenv)",
   "language": "python",
   "name": "python3"
  },
  "language_info": {
   "codemirror_mode": {
    "name": "ipython",
    "version": 3
   },
   "file_extension": ".py",
   "mimetype": "text/x-python",
   "name": "python",
   "nbconvert_exporter": "python",
   "pygments_lexer": "ipython3",
   "version": "3.8.12"
  },
  "orig_nbformat": 4
 },
 "nbformat": 4,
 "nbformat_minor": 2
}
