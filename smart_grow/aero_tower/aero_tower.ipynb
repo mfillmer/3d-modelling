{
 "cells": [
  {
   "cell_type": "code",
   "execution_count": 4,
   "metadata": {},
   "outputs": [],
   "source": [
    "from viewscad import Renderer\n",
    "\n",
    "r = Renderer()\n",
    "r.width = 700\n",
    "r.height = 700\n",
    "\n",
    "render = r.render\n"
   ]
  },
  {
   "cell_type": "code",
   "execution_count": 5,
   "metadata": {},
   "outputs": [
    {
     "data": {
      "application/vnd.jupyter.widget-view+json": {
       "model_id": "d5ea2a7738e14051bc1b4696b00c85a3",
       "version_major": 2,
       "version_minor": 0
      },
      "text/plain": [
       "VBox(children=(HTML(value=''), Renderer(background='#cccc88', background_opacity=0.0, camera=PerspectiveCamera…"
      ]
     },
     "metadata": {},
     "output_type": "display_data"
    }
   ],
   "source": [
    "from stackable_pipe import pipe, slot, ring, socket\n",
    "from solid import cylinder, translate, rotate\n",
    "\n",
    "\n",
    "def spin_around_tower(obj, count=4, alpha=45, h=160):\n",
    "    angles = range(0, 360, int(360/count))\n",
    "    # drehen und dann kippen\n",
    "    return translate((0, 0, h/2))([rotate((alpha, 0, z))(obj) for z in angles])\n",
    "\n",
    "\n",
    "def tower_socket(d=60, w=4):\n",
    "    r = d/2\n",
    "    base = rotate((0, 0, 15))(socket(d=d, w=w)) + ring(d1=d, h=d+2*w, w=w/2)\n",
    "    transition = ring(r2=r+w*3, r1=r, h=w*3, w=w*4) - cylinder(h=w*3, d=d)\n",
    "\n",
    "    return base  # + transition\n",
    "\n",
    "\n",
    "def aero_tower(w=4, h=160, d=160, pipe_count=5, alpha=45):\n",
    "    tower = pipe(d=d, h=h, w=w)\n",
    "    outline = cylinder(d=d, h=d, segments=60)\n",
    "    holes = spin_around_tower(\n",
    "        cylinder(d=60, h=h, segments=60), count=pipe_count, alpha=alpha)\n",
    "    sockets = spin_around_tower(\n",
    "        translate((0, 0, d/2))(tower_socket(w=w)), h=d, count=pipe_count, alpha=alpha)\n",
    "\n",
    "    holes = translate((0, 0, -h/2))(holes)\n",
    "    sockets = translate((0, 0, -h/2))(sockets)\n",
    "\n",
    "    aero_tower = tower - holes\n",
    "    aero_tower += sockets\n",
    "    aero_tower *= outline\n",
    "    return aero_tower\n",
    "\n",
    "\n",
    "render(aero_tower(), outfile='./outfiles/aero_tower_module.stl')\n"
   ]
  },
  {
   "cell_type": "code",
   "execution_count": 12,
   "metadata": {},
   "outputs": [
    {
     "name": "stderr",
     "output_type": "stream",
     "text": [
      "EXPORT-WARNING: Exported object may not be a valid 2-manifold and may need repair\n",
      "/home/gitpod/.pyenv/versions/3.8.13/lib/python3.8/site-packages/jupyter_client/session.py:716: UserWarning: Message serialization failed with:\n",
      "Out of range float values are not JSON compliant\n",
      "Supporting this message is deprecated in jupyter-client 7, please make sure your message is JSON-compliant\n",
      "  content = self.pack(content)\n"
     ]
    },
    {
     "data": {
      "application/vnd.jupyter.widget-view+json": {
       "model_id": "73f3e500e8bc412990c32da1f7ed3b04",
       "version_major": 2,
       "version_minor": 0
      },
      "text/plain": [
       "VBox(children=(HTML(value=''), Renderer(background='#cccc88', background_opacity=0.0, camera=PerspectiveCamera…"
      ]
     },
     "metadata": {},
     "output_type": "display_data"
    }
   ],
   "source": [
    "from stackable_pipe import pipe, slot, ring, socket, connection\n",
    "from solid import cylinder, translate, rotate, cube\n",
    "from viewscad import Renderer\n",
    "\n",
    "r = Renderer()\n",
    "r.width = 700\n",
    "r.height = 700\n",
    "\n",
    "render = r.render\n",
    "\n",
    "\n",
    "def spin_around_tower(obj, count=4, alpha=45, h=160):\n",
    "    angles = range(180, 540, int(360/count))\n",
    "    # drehen und dann kippen\n",
    "    return translate((0, 0, h/2))([rotate((alpha, 0, z))(obj) for z in angles])\n",
    "\n",
    "\n",
    "def tower_socket(d=60, w=4):\n",
    "    r = d/2\n",
    "    c = d\n",
    "    td=2\n",
    "    cutout = cube(c)\\\n",
    "        - translate((c/2, 0, 0))(cylinder(r=c/2, h=c, segments=100))\\\n",
    "        - translate((c/2, c, 0))(cylinder(r=c/2, h=c, segments=100))\\\n",
    "        - translate((c/2, 0, 0))(cube(c))\n",
    "\n",
    "    cutout = translate((c/2, -c/2, 0))(rotate((0, -90, 0))(cutout))\n",
    "    cutout = rotate(90)(cutout)\n",
    "    cutout = translate((0, c/2, 0))(cutout)\n",
    "    (adapter,socket) = connection(d=d, h=6*td,  tooth_depth=td, tooth_height=2*td,)\n",
    "    base = ring(d1=d, h=d+2*w, w=w/2)\n",
    "    return base + socket - cutout\n",
    "\n",
    "\n",
    "def test(w=2, h=160, d=160, pipe_count=1, alpha=45):\n",
    "    gap = 0.2\n",
    "    td = 2\n",
    "    delta = w + td + gap \n",
    "    tower = ring(d1=d, h=h-20+delta, w=w)\n",
    "    outline = cylinder(d=d, h=d, segments=100)\n",
    "    holes = spin_around_tower(\n",
    "        cylinder(d=60, h=h, segments=100), count=pipe_count, alpha=alpha)\n",
    "    sockets = spin_around_tower(\n",
    "        translate((0, 0, h/2))(tower_socket(w=2*w)), h=d, count=pipe_count, alpha=alpha)\n",
    "\n",
    "    holes = translate((0, 0, -h/2))(holes)\n",
    "    sockets = translate((0, 0, -h/2))(sockets)\n",
    "    (adapter, socket) = connection(d=d, h=20,\n",
    "                                   wall=w, tooth_depth=td, tooth_height=2*td, gap=gap)\n",
    "    aero_tower = translate((0, 0, 20+delta))(tower)\n",
    "    aero_tower = aero_tower - holes + sockets\n",
    "    aero_tower += adapter + \\\n",
    "        translate((0, 0, 20))(ring(r2=d/2, r1=d/2-delta, h=delta))\n",
    "\n",
    "    aero_tower += translate((0, 0, h-20))(socket)\n",
    "    aero_tower *= outline\n",
    "    return aero_tower\n",
    "\n",
    "\n",
    "render(test(), outfile='./outfiles/new_tower.stl')\n"
   ]
  },
  {
   "cell_type": "code",
   "execution_count": 6,
   "metadata": {},
   "outputs": [
    {
     "data": {
      "application/vnd.jupyter.widget-view+json": {
       "model_id": "b88b196124424960bde90c99d922e963",
       "version_major": 2,
       "version_minor": 0
      },
      "text/plain": [
       "VBox(children=(HTML(value=''), Renderer(background='#cccc88', background_opacity=0.0, camera=PerspectiveCamera…"
      ]
     },
     "metadata": {},
     "output_type": "display_data"
    }
   ],
   "source": [
    "from stackable_pipe import pipe, slot, ring, socket, cube\n",
    "from solid import cylinder, translate, rotate\n",
    "\n",
    "\n",
    "def bottom_grid(d=160, fogger_diameter=100, slots=5):\n",
    "    plate = cylinder(h=2, d=d, segments=60)\n",
    "    hole = translate((fogger_diameter/2, -5, 0)\n",
    "                     )(cube(((d-fogger_diameter)/2, 10, 2)))\n",
    "\n",
    "    holes = sum([rotate((0, 0, r))(hole) for r in range(0, 360, 360//slots)])\n",
    "\n",
    "    return plate - holes\n",
    "\n",
    "\n",
    "def aero_tower_fogger_inlet(w=4, d=160, fogger_height=80, fogger_diameter=100, fogger_gap=1, fog_slots=5):\n",
    "    h = fogger_height + 7*w + 2\n",
    "\n",
    "    tower = pipe(d=d, h=h, w=w)\n",
    "\n",
    "    inlet = cylinder(segments=60, d=fogger_diameter+w, h=fogger_height + 2)\\\n",
    "        - cylinder(segments=60, d=fogger_diameter +\n",
    "                   fogger_gap, h=fogger_height + 2)\n",
    "\n",
    "    return tower + inlet + bottom_grid(d=d-4*w, slots=10, fogger_diameter=fogger_diameter+w)\n",
    "\n",
    "\n",
    "render(aero_tower_fogger_inlet(),\n",
    "       outfile='./outfiles/aero_tower_fogger_inlet.stl')\n"
   ]
  },
  {
   "cell_type": "code",
   "execution_count": null,
   "metadata": {},
   "outputs": [],
   "source": []
  },
  {
   "cell_type": "code",
   "execution_count": 7,
   "metadata": {},
   "outputs": [
    {
     "data": {
      "application/vnd.jupyter.widget-view+json": {
       "model_id": "bd9ec9c0650348e0b493f6fcc9c6c213",
       "version_major": 2,
       "version_minor": 0
      },
      "text/plain": [
       "VBox(children=(HTML(value=''), Renderer(background='#cccc88', background_opacity=0.0, camera=PerspectiveCamera…"
      ]
     },
     "metadata": {},
     "output_type": "display_data"
    },
    {
     "data": {
      "application/vnd.jupyter.widget-view+json": {
       "model_id": "af9ed16b589343e8a89180a904fa1b6e",
       "version_major": 2,
       "version_minor": 0
      },
      "text/plain": [
       "VBox(children=(HTML(value=''), Renderer(background='#cccc88', background_opacity=0.0, camera=PerspectiveCamera…"
      ]
     },
     "metadata": {},
     "output_type": "display_data"
    }
   ],
   "source": [
    "from stackable_pipe import pipe, slot, ring, socket, adapter\n",
    "from logo import logo\n",
    "from solid import cylinder, translate, rotate, cube, hull\n",
    "\n",
    "from viewscad import Renderer\n",
    "\n",
    "r = Renderer()\n",
    "r.width = 700\n",
    "r.height = 700\n",
    "\n",
    "render = r.render\n",
    "\n",
    "\n",
    "def adapter_bottom_grid(d=60, w=4):\n",
    "    plate = cylinder(h=2, d=d-4*w-w/2, segments=10)\n",
    "    hole = cylinder(h=2, d=6, segments=10)\n",
    "\n",
    "    holes = sum([rotate((0, 0, r))(translate((x, 0, 0))(hole))\n",
    "                for r in range(0, 360, 360//8) for x in [0, 10, 18]])\n",
    "\n",
    "    return plate - holes\n",
    "\n",
    "\n",
    "def aero_tower_plant_cup(w=4, pipe_wall=2, d=60, h=90, gap=2):\n",
    "    pipe_height = 5*w\n",
    "    bottom = adapter(d=d, w=w, gap=0.4)\n",
    "    grid = adapter_bottom_grid(d=d, w=w)\n",
    "    # Gap außen wegnehmen und innen beifügen (halbiert, da außen vom Durchmesser abgezogen wird)\n",
    "    pipe = ring(d1=d-w, w=pipe_wall+gap/2, h=h-pipe_height, dz=pipe_height)\n",
    "    outline = cylinder(d=d-(w+gap), h=h, segments=10)\n",
    "\n",
    "    return (bottom + grid + pipe) * outline\n",
    "\n",
    "\n",
    "l = translate((0, 0, 65))(rotate((0, 90, 0))(logo(h=40, w=30)))\\\n",
    "    * ring(d1=54, h=90, w=0.5)  # outline s.o.\n",
    "\n",
    "logos = sum((rotate(a)(l) for a in [0, 120, 240]))\n",
    "\n",
    "c = rotate(20)(aero_tower_plant_cup())\n",
    "cup_with_logo = c - logos\n",
    "\n",
    "render(logos)\n",
    "render(cup_with_logo)\n",
    "# render(cup_with_logo, outfile='./outfiles/aero_tower_plant_cup.stl')\n"
   ]
  },
  {
   "cell_type": "code",
   "execution_count": null,
   "metadata": {},
   "outputs": [
    {
     "name": "stderr",
     "output_type": "stream",
     "text": [
      "/workspace/.pip-modules/lib/python3.8/site-packages/jupyter_client/session.py:718: UserWarning: Message serialization failed with:\n",
      "Out of range float values are not JSON compliant\n",
      "Supporting this message is deprecated in jupyter-client 7, please make sure your message is JSON-compliant\n",
      "  content = self.pack(content)\n"
     ]
    },
    {
     "data": {
      "application/vnd.jupyter.widget-view+json": {
       "model_id": "4adda5660b6c4b379a49780865e7108a",
       "version_major": 2,
       "version_minor": 0
      },
      "text/plain": [
       "VBox(children=(HTML(value=''), Renderer(background='#cccc88', background_opacity=0.0, camera=PerspectiveCamera…"
      ]
     },
     "metadata": {},
     "output_type": "display_data"
    }
   ],
   "source": [
    "from solid import cylinder, sphere, translate, cube\n",
    "from stackable_pipe import socket\n",
    "from viewscad import Renderer\n",
    "\n",
    "r = Renderer()\n",
    "r.width = 700\n",
    "r.height = 700\n",
    "\n",
    "render = r.render\n",
    "\n",
    "\n",
    "def tank(size=180, wall=2, border_radius=30, socket_d=160, socket_w=4):\n",
    "    top_height = size-socket_d+socket_w*3\n",
    "\n",
    "    body = cylinder(d=size, h=size-top_height, segments=100)\\\n",
    "        - translate((0, 0, wall))(cylinder(d=(size-(wall*2)),\n",
    "                                           h=size, segments=100))\n",
    "\n",
    "    top = translate((0, 0, size-socket_d))(socket(d=socket_d, w=socket_w))\\\n",
    "        + cylinder(d1=size, d2=socket_d, h=size-socket_d, segments=100)\\\n",
    "        - cylinder(d1=size-(wall*2), d2=socket_d -\n",
    "                   (wall*2), h=size-socket_d, segments=100)\n",
    "\n",
    "    return body + translate((0, 0, size-top_height))(top)\n",
    "\n",
    "\n",
    "render(tank(), outfile='./outfiles/aero_tower_tank.stl')\n"
   ]
  },
  {
   "cell_type": "code",
   "execution_count": null,
   "metadata": {},
   "outputs": [
    {
     "data": {
      "application/vnd.jupyter.widget-view+json": {
       "model_id": "df3a66d41e884ebc92456565a48bd8a8",
       "version_major": 2,
       "version_minor": 0
      },
      "text/plain": [
       "VBox(children=(HTML(value=''), Renderer(background='#cccc88', background_opacity=0.0, camera=PerspectiveCamera…"
      ]
     },
     "metadata": {},
     "output_type": "display_data"
    }
   ],
   "source": [
    "from viewscad import Renderer\n",
    "from solid import cube, hull,square, rotate_extrude, translate\n",
    "from stackable_pipe import socket, slot\n",
    "\n",
    "r = Renderer()\n",
    "r.width = 700\n",
    "r.height = 700\n",
    "\n",
    "render = r.render\n",
    "\n",
    "\n",
    "\n",
    "render(socket(d=160,w=4))\n",
    "\n"
   ]
  },
  {
   "cell_type": "code",
   "execution_count": 2,
   "metadata": {},
   "outputs": [
    {
     "data": {
      "application/vnd.jupyter.widget-view+json": {
       "model_id": "277d49640b784d7591574851fc9ea8b2",
       "version_major": 2,
       "version_minor": 0
      },
      "text/plain": [
       "VBox(children=(HTML(value=''), Renderer(background='#cccc88', background_opacity=0.0, camera=PerspectiveCamera…"
      ]
     },
     "metadata": {},
     "output_type": "display_data"
    }
   ],
   "source": [
    "from solid import cylinder, translate, rotate\n",
    "from stackable_pipe import adapter\n",
    "from viewscad import Renderer\n",
    "\n",
    "r = Renderer()\n",
    "r.width = 700\n",
    "r.height = 700\n",
    "\n",
    "render = r.render\n",
    "\n",
    "\n",
    "def lid(d=160, wall=2, socket_w=4):\n",
    "    body = adapter(d=d, w=socket_w)\n",
    "    body = translate((0, 0, wall+7*socket_w))(rotate((180, 0, 0))(body))\n",
    "    base = cylinder(d=d, h=wall, segments=100)\n",
    "\n",
    "    return body + base\n",
    "\n",
    "\n",
    "# render(lid(), outfile='./outfiles/aero_tower_lid.stl')\n",
    "\n",
    "render(lid()-cylinder(d=72,h=40,segments=100), outfile='./outfiles/aero_tower_lid_w_hole.stl')\n",
    "\n"
   ]
  }
 ],
 "metadata": {
  "interpreter": {
   "hash": "110cc1dee26208153f2972f08a2ad52b6a56238dc66d48e87fb757ef2996db56"
  },
  "kernelspec": {
   "display_name": "Python 3.8.13 64-bit ('3.8.13')",
   "language": "python",
   "name": "python3"
  },
  "language_info": {
   "codemirror_mode": {
    "name": "ipython",
    "version": 3
   },
   "file_extension": ".py",
   "mimetype": "text/x-python",
   "name": "python",
   "nbconvert_exporter": "python",
   "pygments_lexer": "ipython3",
   "version": "3.8.13"
  },
  "orig_nbformat": 4,
  "vscode": {
   "interpreter": {
    "hash": "8b8334dab9339717f727a1deaf837b322d7a41c20d15cc86be99a8e69ceec8ce"
   }
  }
 },
 "nbformat": 4,
 "nbformat_minor": 2
}
