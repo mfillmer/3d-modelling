{
 "cells": [
  {
   "cell_type": "code",
   "execution_count": null,
   "metadata": {},
   "outputs": [],
   "source": [
    "from viewscad import Renderer\n",
    "\n",
    "r = Renderer()\n",
    "r.width = 700\n",
    "r.height = 700\n",
    "\n",
    "render = r.render\n"
   ]
  },
  {
   "cell_type": "code",
   "execution_count": 23,
   "metadata": {},
   "outputs": [
    {
     "name": "stderr",
     "output_type": "stream",
     "text": [
      "Geometries in cache: 25\n",
      "Geometry cache size in bytes: 740120\n",
      "CGAL Polyhedrons in cache: 27\n",
      "CGAL cache size in bytes: 104803928\n",
      "Total rendering time: 0:03:08.891\n",
      "   Top level object is a 3D object:\n",
      "   Simple:        yes\n",
      "   Vertices:    14639\n",
      "   Halfedges:   48064\n",
      "   Edges:       24032\n",
      "   Halffacets:  16438\n",
      "   Facets:       8219\n",
      "   Volumes:         3\n"
     ]
    },
    {
     "data": {
      "application/vnd.jupyter.widget-view+json": {
       "model_id": "f0cb053195a54096a9d9e8a8df909a44",
       "version_major": 2,
       "version_minor": 0
      },
      "text/plain": [
       "VBox(children=(HTML(value=''), Renderer(background='#cccc88', background_opacity=0.0, camera=PerspectiveCamera…"
      ]
     },
     "metadata": {},
     "output_type": "display_data"
    },
    {
     "name": "stderr",
     "output_type": "stream",
     "text": [
      "Geometries in cache: 54\n",
      "Geometry cache size in bytes: 147408\n",
      "CGAL Polyhedrons in cache: 7\n",
      "CGAL cache size in bytes: 6277296\n",
      "Total rendering time: 0:00:23.692\n",
      "   Top level object is a 3D object:\n",
      "   Simple:        yes\n",
      "   Vertices:     1096\n",
      "   Halfedges:    3576\n",
      "   Edges:        1788\n",
      "   Halffacets:   1390\n",
      "   Facets:        695\n",
      "   Volumes:         2\n"
     ]
    },
    {
     "data": {
      "application/vnd.jupyter.widget-view+json": {
       "model_id": "33c50efd80594c27898a561df4c53c97",
       "version_major": 2,
       "version_minor": 0
      },
      "text/plain": [
       "VBox(children=(HTML(value=''), Renderer(background='#cccc88', background_opacity=0.0, camera=PerspectiveCamera…"
      ]
     },
     "metadata": {},
     "output_type": "display_data"
    }
   ],
   "source": [
    "from stackable_pipe import pipe, slot, ring, socket, connection\n",
    "from solid import cylinder, translate, rotate, cube\n",
    "from viewscad import Renderer\n",
    "\n",
    "r = Renderer()\n",
    "r.width = 700\n",
    "r.height = 700\n",
    "\n",
    "render = r.render\n",
    "\n",
    "\n",
    "def bottom_grid(d=60, w=2, hole_size=6, hole_gap=2):\n",
    "    plate = cylinder(h=w, d=d, segments=100)\n",
    "    hole = cylinder(h=w, d=hole_size, segments=10)\n",
    "    pane = range(-d//2, d//2, hole_size+hole_gap)\n",
    "    transition = ring(d1=d, h=w, w=w*2)\n",
    "\n",
    "    holes = [translate((x, y, 0))(hole) for x in pane for y in pane]\n",
    "\n",
    "    return plate - holes + transition\n",
    "\n",
    "\n",
    "def spin_around_tower(obj, count=4, alpha=45, h=160):\n",
    "    angles = range(180, 540, int(360/count))\n",
    "    # drehen und dann kippen\n",
    "    return translate((0, 0, h/2))([rotate((alpha, 0, z))(obj) for z in angles])\n",
    "\n",
    "\n",
    "def cup_con(d1=52, d2=60, w=2, height=80, inlet_delta=5):\n",
    "    c = d2\n",
    "    gradient = (d2-d1)/height\n",
    "    inlet = (gradient*inlet_delta+w) * 2\n",
    "    socket_d1_delta = d1 + inlet\n",
    "    socket_d2_delta = d2 + inlet\n",
    "    cutout = cube(c)\\\n",
    "        - translate((c/2, 0, 0))(cylinder(r=c/2, h=c, segments=100))\\\n",
    "        - translate((c/2, c, 0))(cylinder(r=c/2, h=c, segments=100))\\\n",
    "        - translate((c/2, 0, 0))(cube(c))\n",
    "\n",
    "    cutout = translate((c/2, -c/2, 0))(rotate((0, -90, 0))(cutout))\n",
    "    cutout = rotate(90)(cutout)\n",
    "    cutout = translate((0, c/2, 0))(cutout)\n",
    "\n",
    "    base = ring(d1=socket_d1_delta, d2=socket_d2_delta, h=height, w=w)\n",
    "    socket = base - cutout\n",
    "\n",
    "\n",
    "    cup = ring(d1=d1, d2=d2, w=w, h=height)\n",
    "    cup += bottom_grid(d=d1, w=w)\n",
    "\n",
    "    outline = cylinder(d1=d1, d2=d2, h=height*2, segments=100)\n",
    "\n",
    "    return (socket, cup, outline)\n",
    "\n",
    "\n",
    "def aero_tower(w=2, h=160, d=160, socket_h=20, pipe_count=1, alpha=45, cup_d = 60, cup_h=80, tooth=2):\n",
    "    gap = 0.2\n",
    "    delta = w + tooth + gap\n",
    "    tower = ring(d1=d, h=h-socket_h+delta, w=w)\n",
    "    (cup_s, cup, cup_outline) = cup_con(d1=cup_d-cup_h//10,d2=cup_d, w=w, height=cup_h, inlet_delta=5)\n",
    "    outline = cylinder(d=d, h=d, segments=100)\n",
    "    holes = spin_around_tower(cup_outline, count=pipe_count, alpha=alpha)\n",
    "    sockets = spin_around_tower(\n",
    "        translate((0, 0, h/2+w))(cup_s), h=d, count=pipe_count, alpha=alpha)\n",
    "\n",
    "    holes = translate((0, 0, -h/2))(holes)\n",
    "    sockets = translate((0, 0, -h/2))(sockets)\n",
    "    (adapter, socket) = connection(d=d, h=socket_h,\n",
    "                                   wall=w, tooth_depth=tooth, tooth_height=2*tooth, gap=gap)\n",
    "    aero_tower = translate((0, 0, socket_h+delta))(tower)\n",
    "    aero_tower = aero_tower - holes + sockets\n",
    "    aero_tower += adapter + \\\n",
    "        translate((0, 0, socket_h))(ring(r2=d/2, r1=d/2-delta, h=delta))\n",
    "\n",
    "    aero_tower += translate((0, 0, h-socket_h))(socket)\n",
    "    aero_tower *= outline\n",
    "\n",
    "    return (aero_tower, cup)\n",
    "\n",
    "\n",
    "(tower, cup )= aero_tower(pipe_count=5)\n",
    "render(tower, outfile='./outfiles/aero_tower.stl')\n",
    "render(cup, outfile='./outfiles/plant_cup.stl')\n"
   ]
  },
  {
   "cell_type": "code",
   "execution_count": 1,
   "metadata": {},
   "outputs": [
    {
     "name": "stderr",
     "output_type": "stream",
     "text": [
      "Geometries in cache: 7\n",
      "Geometry cache size in bytes: 367544\n",
      "CGAL Polyhedrons in cache: 11\n",
      "CGAL cache size in bytes: 30378048\n",
      "Total rendering time: 0:01:04.390\n",
      "   Top level object is a 3D object:\n",
      "   Simple:        yes\n",
      "   Vertices:     7065\n",
      "   Halfedges:   23328\n",
      "   Edges:       11664\n",
      "   Halffacets:   7754\n",
      "   Facets:       3877\n",
      "   Volumes:         2\n",
      "/home/malte/.local/lib/python3.9/site-packages/jupyter_client/session.py:718: UserWarning: Message serialization failed with:\n",
      "Out of range float values are not JSON compliant\n",
      "Supporting this message is deprecated in jupyter-client 7, please make sure your message is JSON-compliant\n",
      "  content = self.pack(content)\n"
     ]
    },
    {
     "data": {
      "application/vnd.jupyter.widget-view+json": {
       "model_id": "af95c801e83d45cc8f1e1b16ce1388d9",
       "version_major": 2,
       "version_minor": 0
      },
      "text/plain": [
       "VBox(children=(HTML(value=''), Renderer(background='#cccc88', background_opacity=0.0, camera=PerspectiveCamera…"
      ]
     },
     "metadata": {},
     "output_type": "display_data"
    },
    {
     "name": "stderr",
     "output_type": "stream",
     "text": [
      "Geometries in cache: 6\n",
      "Geometry cache size in bytes: 175008\n",
      "CGAL Polyhedrons in cache: 8\n",
      "CGAL cache size in bytes: 15392352\n",
      "Total rendering time: 0:00:38.441\n",
      "   Top level object is a 3D object:\n",
      "   Simple:        yes\n",
      "   Vertices:     2373\n",
      "   Halfedges:    7824\n",
      "   Edges:        3912\n",
      "   Halffacets:   2710\n",
      "   Facets:       1355\n",
      "   Volumes:         2\n"
     ]
    },
    {
     "data": {
      "application/vnd.jupyter.widget-view+json": {
       "model_id": "10ba693b2e55485abdf914359b1d4feb",
       "version_major": 2,
       "version_minor": 0
      },
      "text/plain": [
       "VBox(children=(HTML(value=''), Renderer(background='#cccc88', background_opacity=0.0, camera=PerspectiveCamera…"
      ]
     },
     "metadata": {},
     "output_type": "display_data"
    }
   ],
   "source": [
    "from solid import cylinder\n",
    "from solid.utils import up\n",
    "from stackable_pipe import connection, ring, two_sided_connection \n",
    "from viewscad import Renderer\n",
    "\n",
    "r = Renderer()\n",
    "r.width = 700\n",
    "r.height = 700\n",
    "\n",
    "render = r.render\n",
    "\n",
    "def tank(width=180, height=180, wall=2, socket_h=20, tooth=4):\n",
    "    body = ring(d1=width, h=height, w=wall)\n",
    "    bottom = cylinder(d=width, h=wall, segments=100)\n",
    "    (_, socket) = connection(d=width, h=socket_h,\n",
    "                             wall=wall, tooth_depth=tooth, tooth_height=tooth*2)\n",
    "\n",
    "    return bottom + body + up(height-socket_h)(socket)\n",
    "\n",
    "\n",
    "render(two_sided_connection(), outfile='./outfiles/aero_tower_tank_adapter.stl')\n",
    "render(tank(), outfile='./outfiles/aero_tower_tank.stl')\n"
   ]
  },
  {
   "cell_type": "code",
   "execution_count": 4,
   "metadata": {},
   "outputs": [
    {
     "name": "stderr",
     "output_type": "stream",
     "text": [
      "Geometries in cache: 12\n",
      "Geometry cache size in bytes: 172896\n",
      "CGAL Polyhedrons in cache: 11\n",
      "CGAL cache size in bytes: 16514168\n",
      "Total rendering time: 0:00:24.010\n",
      "   Top level object is a 3D object:\n",
      "   Simple:        yes\n",
      "   Vertices:     2542\n",
      "   Halfedges:    8296\n",
      "   Edges:        4148\n",
      "   Halffacets:   2852\n",
      "   Facets:       1426\n",
      "   Volumes:         2\n"
     ]
    },
    {
     "data": {
      "application/vnd.jupyter.widget-view+json": {
       "model_id": "dfdb65658fbd4041bb0dcb2f56522506",
       "version_major": 2,
       "version_minor": 0
      },
      "text/plain": [
       "VBox(children=(HTML(value=''), Renderer(background='#cccc88', background_opacity=0.0, camera=PerspectiveCamera…"
      ]
     },
     "metadata": {},
     "output_type": "display_data"
    },
    {
     "name": "stderr",
     "output_type": "stream",
     "text": [
      "Geometries in cache: 8\n",
      "Geometry cache size in bytes: 198496\n",
      "CGAL Polyhedrons in cache: 6\n",
      "CGAL cache size in bytes: 12215992\n",
      "Total rendering time: 0:00:15.371\n",
      "   Top level object is a 3D object:\n",
      "   Simple:        yes\n",
      "   Vertices:     2615\n",
      "   Halfedges:    8130\n",
      "   Edges:        4065\n",
      "   Halffacets:   2904\n",
      "   Facets:       1452\n",
      "   Volumes:         2\n"
     ]
    },
    {
     "data": {
      "application/vnd.jupyter.widget-view+json": {
       "model_id": "7b6d9839f54c453cbe8929a60d4153c2",
       "version_major": 2,
       "version_minor": 0
      },
      "text/plain": [
       "VBox(children=(HTML(value=''), Renderer(background='#cccc88', background_opacity=0.0, camera=PerspectiveCamera…"
      ]
     },
     "metadata": {},
     "output_type": "display_data"
    }
   ],
   "source": [
    "\n",
    "from stackable_pipe import pipe, slot, ring, socket, connection\n",
    "from solid import cylinder, translate, rotate, cube\n",
    "from solid.utils import up, forward\n",
    "from viewscad import Renderer\n",
    "\n",
    "r = Renderer()\n",
    "r.width = 700\n",
    "r.height = 700\n",
    "\n",
    "render = r.render\n",
    "\n",
    "# add outer thread to fog_well in containing module\n",
    "\n",
    "\n",
    "def fog_well(inner_d=50, wall=2, well_depth=50, adapter_h=10, hole_h=20, tube_d=8, cable_d=15, tooth=2):\n",
    "    outer_d = inner_d+wall*2+tooth*2\n",
    "    total_h = well_depth+wall+adapter_h+hole_h\n",
    "    well = ring(d1=outer_d, w=wall, h=total_h)\n",
    "    base = cylinder(h=wall, d=outer_d, segments=100)\n",
    "\n",
    "    hole = cylinder(d=hole_h, segments=3, h=outer_d)\n",
    "    holes = [rotate((0, 270, z))(hole) for z in range(0, 360, 360//5)]\n",
    "\n",
    "    (adapter, socket) = connection(wall=wall, d=outer_d, h=adapter_h, tooth_depth=tooth, tooth_height=tooth*2, gap=0.1)\n",
    "\n",
    "    fog_well = base + well\\\n",
    "        - up(well_depth)(holes)\\\n",
    "        + up(well_depth+hole_h)(socket)\n",
    "    lid = adapter\\\n",
    "        + cylinder(d=inner_d, h=adapter_h, segments=100)\\\n",
    "        - cylinder(d=cable_d, h=adapter_h, segments=100)\\\n",
    "        - forward((inner_d-cable_d)/2)(\n",
    "            cylinder(d=tube_d, h=adapter_h, segments=100)\n",
    "        )\n",
    "\n",
    "    return (fog_well, lid)\n",
    "\n",
    "(well, lid) = fog_well()\n",
    "\n",
    "render(well, outfile='outfiles/fog_well.stl')\n",
    "render(lid, outfile='outfiles/fog_well_lid.stl')\n"
   ]
  }
 ],
 "metadata": {
  "kernelspec": {
   "display_name": "Python 3.9.2 64-bit",
   "language": "python",
   "name": "python3"
  },
  "language_info": {
   "codemirror_mode": {
    "name": "ipython",
    "version": 3
   },
   "file_extension": ".py",
   "mimetype": "text/x-python",
   "name": "python",
   "nbconvert_exporter": "python",
   "pygments_lexer": "ipython3",
   "version": "3.9.2"
  },
  "orig_nbformat": 4,
  "vscode": {
   "interpreter": {
    "hash": "31f2aee4e71d21fbe5cf8b01ff0e069b9275f58929596ceb00d14d90e3e16cd6"
   }
  }
 },
 "nbformat": 4,
 "nbformat_minor": 2
}
