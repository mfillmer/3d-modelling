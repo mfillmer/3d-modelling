{
 "cells": [
  {
   "cell_type": "code",
   "execution_count": 7,
   "metadata": {},
   "outputs": [
    {
     "data": {
      "application/vnd.jupyter.widget-view+json": {
       "model_id": "ed96d419a86b409e9a3cf1eaf045d337",
       "version_major": 2,
       "version_minor": 0
      },
      "text/plain": [
       "VBox(children=(HTML(value=''), Renderer(background='#cccc88', background_opacity=0.0, camera=PerspectiveCamera…"
      ]
     },
     "metadata": {},
     "output_type": "display_data"
    }
   ],
   "source": [
    "from viewscad import Renderer\n",
    "from solid.objects import cube, cylinder, rotate, translate\n",
    "\n",
    "from starter_kit import logo\n",
    "\n",
    "r = Renderer()\n",
    "\n",
    "scene = cube((49,32,1))+translate((16,16,1))(logo(30)) \n",
    "\n",
    "r.render(scene, outfile='logo.stl')\n"
   ]
  },
  {
   "cell_type": "code",
   "execution_count": 2,
   "metadata": {},
   "outputs": [
    {
     "data": {
      "application/vnd.jupyter.widget-view+json": {
       "model_id": "94a555d0f1ec4860a1c21b01a2ff8fec",
       "version_major": 2,
       "version_minor": 0
      },
      "text/plain": [
       "VBox(children=(HTML(value=''), Renderer(background='#cccc88', background_opacity=0.0, camera=PerspectiveCamera…"
      ]
     },
     "metadata": {},
     "output_type": "display_data"
    }
   ],
   "source": [
    "# Logo, improved method\n",
    "\n",
    "from viewscad import Renderer\n",
    "from solid.objects import cube, cylinder, rotate, translate\n",
    "from starter_kit import tube, arc, logo\n",
    "\n",
    "r = Renderer()\n",
    "\n",
    "scene = logo()\n",
    "\n",
    "r.render(scene, outfile='logo.stl')\n"
   ]
  },
  {
   "cell_type": "code",
   "execution_count": 3,
   "metadata": {},
   "outputs": [
    {
     "data": {
      "application/vnd.jupyter.widget-view+json": {
       "model_id": "25df86cc6892475192f4bd76a27da761",
       "version_major": 2,
       "version_minor": 0
      },
      "text/plain": [
       "VBox(children=(HTML(value=''), Renderer(background='#cccc88', background_opacity=0.0, camera=PerspectiveCamera…"
      ]
     },
     "metadata": {},
     "output_type": "display_data"
    },
    {
     "data": {
      "application/vnd.jupyter.widget-view+json": {
       "model_id": "b5e1aba80c8f420b9fa362e51b5c7e9f",
       "version_major": 2,
       "version_minor": 0
      },
      "text/plain": [
       "VBox(children=(HTML(value=''), Renderer(background='#cccc88', background_opacity=0.0, camera=PerspectiveCamera…"
      ]
     },
     "metadata": {},
     "output_type": "display_data"
    },
    {
     "data": {
      "application/vnd.jupyter.widget-view+json": {
       "model_id": "5035a74154f44d99b570d4729f6480e1",
       "version_major": 2,
       "version_minor": 0
      },
      "text/plain": [
       "VBox(children=(HTML(value=''), Renderer(background='#cccc88', background_opacity=0.0, camera=PerspectiveCamera…"
      ]
     },
     "metadata": {},
     "output_type": "display_data"
    },
    {
     "data": {
      "application/vnd.jupyter.widget-view+json": {
       "model_id": "32e64d6ed79344f68580f15beaad39be",
       "version_major": 2,
       "version_minor": 0
      },
      "text/plain": [
       "VBox(children=(HTML(value=''), Renderer(background='#cccc88', background_opacity=0.0, camera=PerspectiveCamera…"
      ]
     },
     "metadata": {},
     "output_type": "display_data"
    }
   ],
   "source": [
    "\n",
    "from viewscad import Renderer\n",
    "\n",
    "from starter_kit import Aufsatzschneide, Einsatzschneide,Einlegeboden, Untersatz\n",
    "    \n",
    "r = Renderer()\n",
    "r.width=1000\n",
    "r.height=800\n",
    "    \n",
    "r.render(Untersatz, outfile='Untersatz.stl')\n",
    "r.render(Einsatzschneide, outfile='Einsatzschneide.stl')\n",
    "r.render(Aufsatzschneide, outfile='Aufsatzschneide.stl')\n",
    "r.render(Einlegeboden, outfile='Einlegeboden.stl')\n"
   ]
  },
  {
   "cell_type": "code",
   "execution_count": 4,
   "metadata": {},
   "outputs": [
    {
     "name": "stderr",
     "output_type": "stream",
     "text": [
      "EXPORT-WARNING: Exported object may not be a valid 2-manifold and may need repair\n"
     ]
    },
    {
     "data": {
      "application/vnd.jupyter.widget-view+json": {
       "model_id": "421c8f93228e42b6a06c4f6c622d1e3c",
       "version_major": 2,
       "version_minor": 0
      },
      "text/plain": [
       "VBox(children=(HTML(value=''), Renderer(background='#cccc88', background_opacity=0.0, camera=PerspectiveCamera…"
      ]
     },
     "metadata": {},
     "output_type": "display_data"
    }
   ],
   "source": [
    "from viewscad import Renderer\n",
    "from solid.objects import cube, translate, rotate, mirror\n",
    "from solid.utils import right, forward, up\n",
    "from starter_kit import Einlegeboden, Untersatz, Einsatzschneide, Aufsatzschneide\n",
    "\n",
    "r = Renderer()\n",
    "\n",
    "scene = Untersatz \\\n",
    "    + translate((2, 2, 56))(Einsatzschneide)\\\n",
    "    + translate((144, 74, 0))(rotate((0, 0, 180))(translate((0, 2, 58))(Aufsatzschneide)))\\\n",
    "    + translate((2, 2, 40))(Einlegeboden)\\\n",
    "\n",
    "r.width=1200\n",
    "r.height=900\n",
    "\n",
    "r.render(scene)\n"
   ]
  }
 ],
 "metadata": {
  "interpreter": {
   "hash": "8b8334dab9339717f727a1deaf837b322d7a41c20d15cc86be99a8e69ceec8ce"
  },
  "kernelspec": {
   "display_name": "Python 3.8.12 64-bit ('3.8.12': pyenv)",
   "language": "python",
   "name": "python3"
  },
  "language_info": {
   "codemirror_mode": {
    "name": "ipython",
    "version": 3
   },
   "file_extension": ".py",
   "mimetype": "text/x-python",
   "name": "python",
   "nbconvert_exporter": "python",
   "pygments_lexer": "ipython3",
   "version": "3.8.12"
  },
  "orig_nbformat": 4
 },
 "nbformat": 4,
 "nbformat_minor": 2
}
