{
 "cells": [
  {
   "cell_type": "code",
   "execution_count": null,
   "metadata": {},
   "outputs": [],
   "source": [
    "from viewscad import Renderer\n",
    "\n",
    "r = Renderer()\n",
    "r.width = 700\n",
    "r.height = 700\n",
    "\n",
    "render = r.render\n"
   ]
  },
  {
   "cell_type": "code",
   "execution_count": 23,
   "metadata": {},
   "outputs": [
    {
     "name": "stderr",
     "output_type": "stream",
     "text": [
      "Geometries in cache: 25\n",
      "Geometry cache size in bytes: 740120\n",
      "CGAL Polyhedrons in cache: 27\n",
      "CGAL cache size in bytes: 104803928\n",
      "Total rendering time: 0:03:08.891\n",
      "   Top level object is a 3D object:\n",
      "   Simple:        yes\n",
      "   Vertices:    14639\n",
      "   Halfedges:   48064\n",
      "   Edges:       24032\n",
      "   Halffacets:  16438\n",
      "   Facets:       8219\n",
      "   Volumes:         3\n"
     ]
    },
    {
     "data": {
      "application/vnd.jupyter.widget-view+json": {
       "model_id": "f0cb053195a54096a9d9e8a8df909a44",
       "version_major": 2,
       "version_minor": 0
      },
      "text/plain": [
       "VBox(children=(HTML(value=''), Renderer(background='#cccc88', background_opacity=0.0, camera=PerspectiveCamera…"
      ]
     },
     "metadata": {},
     "output_type": "display_data"
    },
    {
     "name": "stderr",
     "output_type": "stream",
     "text": [
      "Geometries in cache: 54\n",
      "Geometry cache size in bytes: 147408\n",
      "CGAL Polyhedrons in cache: 7\n",
      "CGAL cache size in bytes: 6277296\n",
      "Total rendering time: 0:00:23.692\n",
      "   Top level object is a 3D object:\n",
      "   Simple:        yes\n",
      "   Vertices:     1096\n",
      "   Halfedges:    3576\n",
      "   Edges:        1788\n",
      "   Halffacets:   1390\n",
      "   Facets:        695\n",
      "   Volumes:         2\n"
     ]
    },
    {
     "data": {
      "application/vnd.jupyter.widget-view+json": {
       "model_id": "33c50efd80594c27898a561df4c53c97",
       "version_major": 2,
       "version_minor": 0
      },
      "text/plain": [
       "VBox(children=(HTML(value=''), Renderer(background='#cccc88', background_opacity=0.0, camera=PerspectiveCamera…"
      ]
     },
     "metadata": {},
     "output_type": "display_data"
    }
   ],
   "source": [
    "from stackable_pipe import pipe, slot, ring, socket, connection\n",
    "from solid import cylinder, translate, rotate, cube\n",
    "from viewscad import Renderer\n",
    "\n",
    "r = Renderer()\n",
    "r.width = 700\n",
    "r.height = 700\n",
    "\n",
    "render = r.render\n",
    "\n",
    "\n",
    "def bottom_grid(d=60, w=2, hole_size=6, hole_gap=2):\n",
    "    plate = cylinder(h=w, d=d, segments=100)\n",
    "    hole = cylinder(h=w, d=hole_size, segments=10)\n",
    "    pane = range(-d//2, d//2, hole_size+hole_gap)\n",
    "    transition = ring(d1=d, h=w, w=w*2)\n",
    "\n",
    "    holes = [translate((x, y, 0))(hole) for x in pane for y in pane]\n",
    "\n",
    "    return plate - holes + transition\n",
    "\n",
    "\n",
    "def spin_around_tower(obj, count=4, alpha=45, h=160):\n",
    "    angles = range(180, 540, int(360/count))\n",
    "    # drehen und dann kippen\n",
    "    return translate((0, 0, h/2))([rotate((alpha, 0, z))(obj) for z in angles])\n",
    "\n",
    "\n",
    "def cup_con(d1=52, d2=60, w=2, height=80, inlet_delta=5):\n",
    "    c = d2\n",
    "    gradient = (d2-d1)/height\n",
    "    inlet = (gradient*inlet_delta+w) * 2\n",
    "    socket_d1_delta = d1 + inlet\n",
    "    socket_d2_delta = d2 + inlet\n",
    "    cutout = cube(c)\\\n",
    "        - translate((c/2, 0, 0))(cylinder(r=c/2, h=c, segments=100))\\\n",
    "        - translate((c/2, c, 0))(cylinder(r=c/2, h=c, segments=100))\\\n",
    "        - translate((c/2, 0, 0))(cube(c))\n",
    "\n",
    "    cutout = translate((c/2, -c/2, 0))(rotate((0, -90, 0))(cutout))\n",
    "    cutout = rotate(90)(cutout)\n",
    "    cutout = translate((0, c/2, 0))(cutout)\n",
    "\n",
    "    base = ring(d1=socket_d1_delta, d2=socket_d2_delta, h=height, w=w)\n",
    "    socket = base - cutout\n",
    "\n",
    "\n",
    "    cup = ring(d1=d1, d2=d2, w=w, h=height)\n",
    "    cup += bottom_grid(d=d1, w=w)\n",
    "\n",
    "    outline = cylinder(d1=d1, d2=d2, h=height*2, segments=100)\n",
    "\n",
    "    return (socket, cup, outline)\n",
    "\n",
    "\n",
    "def aero_tower(w=2, h=160, d=160, socket_h=20, pipe_count=1, alpha=45, cup_d = 60, cup_h=80, tooth=2):\n",
    "    gap = 0.2\n",
    "    delta = w + tooth + gap\n",
    "    tower = ring(d1=d, h=h-socket_h+delta, w=w)\n",
    "    (cup_s, cup, cup_outline) = cup_con(d1=cup_d-cup_h//10,d2=cup_d, w=w, height=cup_h, inlet_delta=5)\n",
    "    outline = cylinder(d=d, h=d, segments=100)\n",
    "    holes = spin_around_tower(cup_outline, count=pipe_count, alpha=alpha)\n",
    "    sockets = spin_around_tower(\n",
    "        translate((0, 0, h/2+w))(cup_s), h=d, count=pipe_count, alpha=alpha)\n",
    "\n",
    "    holes = translate((0, 0, -h/2))(holes)\n",
    "    sockets = translate((0, 0, -h/2))(sockets)\n",
    "    (adapter, socket) = connection(d=d, h=socket_h,\n",
    "                                   wall=w, tooth_depth=tooth, tooth_height=2*tooth, gap=gap)\n",
    "    aero_tower = translate((0, 0, socket_h+delta))(tower)\n",
    "    aero_tower = aero_tower - holes + sockets\n",
    "    aero_tower += adapter + \\\n",
    "        translate((0, 0, socket_h))(ring(r2=d/2, r1=d/2-delta, h=delta))\n",
    "\n",
    "    aero_tower += translate((0, 0, h-socket_h))(socket)\n",
    "    aero_tower *= outline\n",
    "\n",
    "    return (aero_tower, cup)\n",
    "\n",
    "\n",
    "(tower, cup )= aero_tower(pipe_count=5)\n",
    "render(tower, outfile='./outfiles/aero_tower.stl')\n",
    "render(cup, outfile='./outfiles/plant_cup.stl')\n"
   ]
  },
  {
   "cell_type": "code",
   "execution_count": 31,
   "metadata": {},
   "outputs": [
    {
     "name": "stderr",
     "output_type": "stream",
     "text": [
      "Geometries in cache: 7\n",
      "Geometry cache size in bytes: 367544\n",
      "CGAL Polyhedrons in cache: 11\n",
      "CGAL cache size in bytes: 30378048\n",
      "Total rendering time: 0:00:42.168\n",
      "   Top level object is a 3D object:\n",
      "   Simple:        yes\n",
      "   Vertices:     7065\n",
      "   Halfedges:   23328\n",
      "   Edges:       11664\n",
      "   Halffacets:   7754\n",
      "   Facets:       3877\n",
      "   Volumes:         2\n"
     ]
    },
    {
     "data": {
      "application/vnd.jupyter.widget-view+json": {
       "model_id": "19166b8ef86944bba687d7dd10257e10",
       "version_major": 2,
       "version_minor": 0
      },
      "text/plain": [
       "VBox(children=(HTML(value=''), Renderer(background='#cccc88', background_opacity=0.0, camera=PerspectiveCamera…"
      ]
     },
     "metadata": {},
     "output_type": "display_data"
    },
    {
     "name": "stderr",
     "output_type": "stream",
     "text": [
      "Geometries in cache: 6\n",
      "Geometry cache size in bytes: 175008\n",
      "CGAL Polyhedrons in cache: 8\n",
      "CGAL cache size in bytes: 15392352\n",
      "Total rendering time: 0:00:27.663\n",
      "   Top level object is a 3D object:\n",
      "   Simple:        yes\n",
      "   Vertices:     2373\n",
      "   Halfedges:    7824\n",
      "   Edges:        3912\n",
      "   Halffacets:   2710\n",
      "   Facets:       1355\n",
      "   Volumes:         2\n"
     ]
    },
    {
     "data": {
      "application/vnd.jupyter.widget-view+json": {
       "model_id": "203d858157b24316be57fa6fdc3f6360",
       "version_major": 2,
       "version_minor": 0
      },
      "text/plain": [
       "VBox(children=(HTML(value=''), Renderer(background='#cccc88', background_opacity=0.0, camera=PerspectiveCamera…"
      ]
     },
     "metadata": {},
     "output_type": "display_data"
    }
   ],
   "source": [
    "from solid import cylinder\n",
    "from solid.utils import up\n",
    "from stackable_pipe import connection, ring\n",
    "from viewscad import Renderer\n",
    "\n",
    "r = Renderer()\n",
    "r.width = 700\n",
    "r.height = 700\n",
    "\n",
    "render = r.render\n",
    "\n",
    "\n",
    "def adapter_connection(outer_d=180, outer_w=2, outer_tooth=4, inner_d=160, inner_w=2, inner_tooth=2, height=20, gap=0.2):\n",
    "    (adapter, _) = connection(d=outer_d, h=height,\n",
    "                              tooth_depth=outer_tooth, wall=outer_w, tooth_height=outer_tooth*2)\n",
    "    (_, socket) = connection(d=inner_d, h=height,\n",
    "                             tooth_depth=inner_tooth, wall=inner_w, tooth_height=inner_tooth*2)\n",
    "\n",
    "    con_d = outer_d-(outer_tooth+outer_w+gap)*2\n",
    "    con_w = (con_d-inner_d) / 2\n",
    "    con = ring(d1=con_d, w=con_w, h=height)\n",
    "\n",
    "    return adapter + socket + con\n",
    "\n",
    "\n",
    "def tank(width=180, height=180, wall=2, socket_h=20, tooth=4):\n",
    "    body = ring(d1=width, h=height, w=wall)\n",
    "    bottom = cylinder(d=width, h=wall, segments=100)\n",
    "    (_, socket) = connection(d=width, h=socket_h,\n",
    "                             wall=wall, tooth_depth=tooth, tooth_height=tooth*2)\n",
    "\n",
    "    return bottom + body + up(height-socket_h)(socket)\n",
    "\n",
    "\n",
    "render(adapter_connection(), outfile='./outfiles/aero_tower_tank_adapter.stl')\n",
    "render(tank(), outfile='./outfiles/aero_tower_tank.stl')\n"
   ]
  },
  {
   "cell_type": "code",
   "execution_count": null,
   "metadata": {},
   "outputs": [],
   "source": [
    "from solid import cylinder, translate, rotate\n",
    "from stackable_pipe import adapter\n",
    "from viewscad import Renderer\n",
    "\n",
    "r = Renderer()\n",
    "r.width = 700\n",
    "r.height = 700\n",
    "\n",
    "render = r.render\n",
    "\n",
    "\n",
    "def lid(d=160, wall=2, socket_w=4):\n",
    "    body = adapter(d=d, w=socket_w)\n",
    "    body = translate((0, 0, wall+7*socket_w))(rotate((180, 0, 0))(body))\n",
    "    base = cylinder(d=d, h=wall, segments=100)\n",
    "\n",
    "    return body + base\n",
    "\n",
    "\n",
    "# render(lid(), outfile='./outfiles/aero_tower_lid.stl')\n",
    "\n",
    "render(lid()-cylinder(d=72,h=40,segments=100), outfile='./outfiles/aero_tower_lid_w_hole.stl')\n",
    "\n"
   ]
  }
 ],
 "metadata": {
  "kernelspec": {
   "display_name": "Python 3.9.2 64-bit",
   "language": "python",
   "name": "python3"
  },
  "language_info": {
   "codemirror_mode": {
    "name": "ipython",
    "version": 3
   },
   "file_extension": ".py",
   "mimetype": "text/x-python",
   "name": "python",
   "nbconvert_exporter": "python",
   "pygments_lexer": "ipython3",
   "version": "3.9.2"
  },
  "orig_nbformat": 4,
  "vscode": {
   "interpreter": {
    "hash": "31f2aee4e71d21fbe5cf8b01ff0e069b9275f58929596ceb00d14d90e3e16cd6"
   }
  }
 },
 "nbformat": 4,
 "nbformat_minor": 2
}
