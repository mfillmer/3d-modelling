{
  "cells": [
    {
      "cell_type": "code",
      "execution_count": 1,
      "metadata": {},
      "outputs": [],
      "source": [
        "from viewscad import Renderer\n",
        "\n",
        "r = Renderer()\n",
        "r.width = 700\n",
        "r.height = 700\n",
        "\n",
        "render = r.render\n"
      ]
    },
    {
      "cell_type": "code",
      "execution_count": 5,
      "metadata": {},
      "outputs": [
        {
          "name": "stderr",
          "output_type": "stream",
          "text": [
            "Geometries in cache: 28\n",
            "Geometry cache size in bytes: 1249088\n",
            "CGAL Polyhedrons in cache: 4\n",
            "CGAL cache size in bytes: 100754544\n",
            "Total rendering time: 0:03:40.718\n",
            "   Top level object is a 3D object:\n",
            "   Simple:         no\n",
            "   Vertices:    21429\n",
            "   Halfedges:   73150\n",
            "   Edges:       36575\n",
            "   Halffacets:  29046\n",
            "   Facets:      14523\n",
            "   Volumes:         3\n",
            "WARNING: Object may not be a valid 2-manifold and may need repair!\n",
            "EXPORT-WARNING: Exported object may not be a valid 2-manifold and may need repair\n"
          ]
        },
        {
          "data": {
            "application/vnd.jupyter.widget-view+json": {
              "model_id": "fa3f6883966b4052afafe1ddc014149d",
              "version_major": 2,
              "version_minor": 0
            },
            "text/plain": [
              "VBox(children=(HTML(value=''), Renderer(background='#cccc88', background_opacity=0.0, camera=PerspectiveCamera…"
            ]
          },
          "metadata": {},
          "output_type": "display_data"
        },
        {
          "name": "stderr",
          "output_type": "stream",
          "text": [
            "Geometries in cache: 54\n",
            "Geometry cache size in bytes: 147408\n",
            "CGAL Polyhedrons in cache: 7\n",
            "CGAL cache size in bytes: 6617776\n",
            "Total rendering time: 0:00:22.606\n",
            "   Top level object is a 3D object:\n",
            "   Simple:        yes\n",
            "   Vertices:     1222\n",
            "   Halfedges:    3954\n",
            "   Edges:        1977\n",
            "   Halffacets:   1516\n",
            "   Facets:        758\n",
            "   Volumes:         2\n"
          ]
        },
        {
          "data": {
            "application/vnd.jupyter.widget-view+json": {
              "model_id": "b203bb4c9b224320b18d5e6024ab2185",
              "version_major": 2,
              "version_minor": 0
            },
            "text/plain": [
              "VBox(children=(HTML(value=''), Renderer(background='#cccc88', background_opacity=0.0, camera=PerspectiveCamera…"
            ]
          },
          "metadata": {},
          "output_type": "display_data"
        },
        {
          "name": "stderr",
          "output_type": "stream",
          "text": [
            "Geometries in cache: 7\n",
            "Geometry cache size in bytes: 491384\n",
            "CGAL Polyhedrons in cache: 8\n",
            "CGAL cache size in bytes: 39119712\n",
            "Total rendering time: 0:00:44.157\n",
            "   Top level object is a 3D object:\n",
            "   Simple:        yes\n",
            "   Vertices:     5661\n",
            "   Halfedges:   19524\n",
            "   Edges:        9762\n",
            "   Halffacets:   7742\n",
            "   Facets:       3871\n",
            "   Volumes:         2\n"
          ]
        },
        {
          "data": {
            "application/vnd.jupyter.widget-view+json": {
              "model_id": "56a5ae7ebdca49df9fffad0b5d4ab84f",
              "version_major": 2,
              "version_minor": 0
            },
            "text/plain": [
              "VBox(children=(HTML(value=''), Renderer(background='#cccc88', background_opacity=0.0, camera=PerspectiveCamera…"
            ]
          },
          "metadata": {},
          "output_type": "display_data"
        },
        {
          "name": "stderr",
          "output_type": "stream",
          "text": [
            "Geometries in cache: 11\n",
            "Geometry cache size in bytes: 965032\n",
            "CGAL Polyhedrons in cache: 12\n",
            "CGAL cache size in bytes: 83080232\n",
            "Total rendering time: 0:00:57.874\n",
            "   Top level object is a 3D object:\n",
            "   Simple:         no\n",
            "   Vertices:    14565\n",
            "   Halfedges:   51354\n",
            "   Edges:       25677\n",
            "   Halffacets:  21182\n",
            "   Facets:      10591\n",
            "   Volumes:         2\n",
            "WARNING: Object may not be a valid 2-manifold and may need repair!\n",
            "EXPORT-WARNING: Exported object may not be a valid 2-manifold and may need repair\n"
          ]
        },
        {
          "data": {
            "application/vnd.jupyter.widget-view+json": {
              "model_id": "7be24ff104b1419fbfd6edaf06898138",
              "version_major": 2,
              "version_minor": 0
            },
            "text/plain": [
              "VBox(children=(HTML(value=''), Renderer(background='#cccc88', background_opacity=0.0, camera=PerspectiveCamera…"
            ]
          },
          "metadata": {},
          "output_type": "display_data"
        }
      ],
      "source": [
        "from utils import ring, connection, pipe, cutout, two_sided_connection\n",
        "from solid import cylinder, translate, rotate, cube\n",
        "from solid.utils import *\n",
        "from viewscad import Renderer\n",
        "\n",
        "r = Renderer()\n",
        "r.width = 700\n",
        "r.height = 700\n",
        "\n",
        "render = r.render\n",
        "\n",
        "\n",
        "def bottom_grid(d=60, w=2, hole_size=6, hole_gap=2):\n",
        "    plate = cylinder(h=w, d=d, segments=100)\n",
        "    hole = cylinder(h=w, d=hole_size, segments=10)\n",
        "    pane = range(-d//2, d//2, hole_size+hole_gap)\n",
        "    transition = ring(d1=d, h=w, w=w*2)\n",
        "\n",
        "    holes = [translate((x, y, 0))(hole) for x in pane for y in pane]\n",
        "\n",
        "    return plate - holes + transition\n",
        "\n",
        "\n",
        "def spin_around_tower(obj, count=4, alpha=45, h=160):\n",
        "    angles = range(180, 540, int(360/count))\n",
        "    # drehen und dann kippen\n",
        "    return translate((0, 0, h/2))([rotate((alpha, 0, z))(obj) for z in angles])\n",
        "\n",
        "\n",
        "def cup_con(d1=52, d2=60, w=2, height=80, inlet_delta=5):\n",
        "    c = d2\n",
        "    gradient = (d2-d1)/height\n",
        "    inlet = (gradient*inlet_delta+w) * 2\n",
        "    socket_d1_delta = d1 + inlet\n",
        "    socket_d2_delta = d2 + inlet\n",
        "    c = cutout(c)\n",
        "\n",
        "    base = ring(d1=socket_d1_delta, d2=socket_d2_delta, h=height, w=w)\n",
        "    socket = base - c\n",
        "\n",
        "    cup = ring(d1=d1, d2=d2, w=w, h=height)\n",
        "    cup += bottom_grid(d=d1, w=w)\n",
        "\n",
        "    outline = cylinder(d1=d1, d2=d2, h=height, segments=100)\n",
        "\n",
        "    return (socket, cup, outline)\n",
        "\n",
        "\n",
        "def aero_tank(d=180, height=180, wall=2, socket_h=20, tooth=4):\n",
        "    body = ring(d1=d, h=height, w=wall)\n",
        "    bottom = cylinder(d=d, h=wall, segments=100)\n",
        "    (_, socket) = connection(d=d, h=socket_h,\n",
        "                             wall=wall, tooth_depth=tooth, tooth_height=tooth*2)\n",
        "\n",
        "    return bottom + body + up(height-socket_h)(socket)\n",
        "\n",
        "\n",
        "def aero_tower(w=1, h=160, d=160, socket_h=20, pipe_count=1, alpha=45, cup_d=60, cup_h=80, tooth=4):\n",
        "    aero_tower = pipe(d=d, h=h, w=w, tooth=tooth, socket_h=socket_h)\n",
        "    (cup_s, cup, cup_outline) = cup_con(d1=cup_d-cup_h //\n",
        "                                        10, d2=cup_d, w=w, height=cup_h, inlet_delta=5)\n",
        "    outline = cylinder(d=d, h=d, segments=100)\n",
        "    holes = spin_around_tower(translate((0, 0, h/2-4))\n",
        "                              (cup_outline), count=pipe_count, alpha=alpha)\n",
        "    sockets = spin_around_tower(\n",
        "        translate((0, 0, h/2+w*5))(cup_s), h=d, count=pipe_count, alpha=alpha)\n",
        "\n",
        "    holes = translate((0, 0, -h/2))(holes)\n",
        "    sockets = translate((0, 0, -h/2))(sockets)\n",
        "    aero_tower = aero_tower - holes + sockets\n",
        "    aero_tower *= outline\n",
        "\n",
        "    tank = aero_tank(d=180, height=180, wall=2, tooth=tooth)\n",
        "    adapter = two_sided_connection(outer_d=180, outer_w=2, outer_tooth=tooth,\n",
        "                                   height=socket_h, inner_d=d, inner_w=w, inner_tooth=tooth)\\\n",
        "        + cylinder(r=90-2-tooth-0.2, h=w, segments=100)\\\n",
        "        - cylinder(d=6, h=w)\n",
        "\n",
        "    return (aero_tower, cup, tank, adapter)\n",
        "\n",
        "\n",
        "(tower, cup, tank, adapter) = aero_tower(pipe_count=5)\n",
        "render(tower, outfile='./outfiles/aero_tower.stl')\n",
        "render(cup, outfile='./outfiles/plant_cup.stl')\n",
        "render(tank, outfile='./outfiles/aero_tower_tank.stl')\n",
        "render(adapter, outfile='./outfiles/aero_tower_tank_adapter.stl')\n"
      ]
    },
    {
      "cell_type": "code",
      "execution_count": 7,
      "metadata": {},
      "outputs": [
        {
          "name": "stderr",
          "output_type": "stream",
          "text": [
            "Geometries in cache: 21\n",
            "Geometry cache size in bytes: 208968\n",
            "CGAL Polyhedrons in cache: 22\n",
            "CGAL cache size in bytes: 15308744\n",
            "Total rendering time: 0:00:23.583\n",
            "   Top level object is a 3D object:\n",
            "   Simple:        yes\n",
            "   Vertices:     2449\n",
            "   Halfedges:    7958\n",
            "   Edges:        3979\n",
            "   Halffacets:   2748\n",
            "   Facets:       1374\n",
            "   Volumes:         3\n"
          ]
        },
        {
          "data": {
            "application/vnd.jupyter.widget-view+json": {
              "model_id": "7404260ddbe540589f2b5b00779809bf",
              "version_major": 2,
              "version_minor": 0
            },
            "text/plain": [
              "VBox(children=(HTML(value=''), Renderer(background='#cccc88', background_opacity=0.0, camera=PerspectiveCamera…"
            ]
          },
          "metadata": {},
          "output_type": "display_data"
        },
        {
          "name": "stderr",
          "output_type": "stream",
          "text": [
            "Geometries in cache: 24\n",
            "Geometry cache size in bytes: 170544\n",
            "CGAL Polyhedrons in cache: 15\n",
            "CGAL cache size in bytes: 5858336\n",
            "Total rendering time: 0:00:06.350\n",
            "   Top level object is a 3D object:\n",
            "   Simple:        yes\n",
            "   Vertices:      735\n",
            "   Halfedges:    2258\n",
            "   Edges:        1129\n",
            "   Halffacets:    796\n",
            "   Facets:        398\n",
            "   Volumes:         3\n"
          ]
        },
        {
          "data": {
            "application/vnd.jupyter.widget-view+json": {
              "model_id": "b45bfbfc6cf040cb81e90878a9831b30",
              "version_major": 2,
              "version_minor": 0
            },
            "text/plain": [
              "VBox(children=(HTML(value=''), Renderer(background='#cccc88', background_opacity=0.0, camera=PerspectiveCamera…"
            ]
          },
          "metadata": {},
          "output_type": "display_data"
        },
        {
          "name": "stderr",
          "output_type": "stream",
          "text": [
            "Geometries in cache: 11\n",
            "Geometry cache size in bytes: 77992\n",
            "CGAL Polyhedrons in cache: 7\n",
            "CGAL cache size in bytes: 4153952\n",
            "Total rendering time: 0:00:07.833\n",
            "   Top level object is a 3D object:\n",
            "   Simple:        yes\n",
            "   Vertices:     1302\n",
            "   Halfedges:    4086\n",
            "   Edges:        2043\n",
            "   Halffacets:   1358\n",
            "   Facets:        679\n",
            "   Volumes:         3\n"
          ]
        },
        {
          "data": {
            "application/vnd.jupyter.widget-view+json": {
              "model_id": "85bd34e7d39c4657a073a45d2acd11d2",
              "version_major": 2,
              "version_minor": 0
            },
            "text/plain": [
              "VBox(children=(HTML(value=''), Renderer(background='#cccc88', background_opacity=0.0, camera=PerspectiveCamera…"
            ]
          },
          "metadata": {},
          "output_type": "display_data"
        }
      ],
      "source": [
        "\n",
        "from utils import pipe, ring, connection, mount_to_bottom, tended_obj, cutout, sliding_connector\n",
        "from solid import cylinder, translate, rotate, cube, hull\n",
        "from solid.utils import *\n",
        "from viewscad import Renderer\n",
        "from math import sqrt\n",
        "\n",
        "r = Renderer()\n",
        "r.width = 700\n",
        "r.height = 700\n",
        "\n",
        "render = r.render\n",
        "\n",
        "\n",
        "def tower_head(d=160, w=2, tooth=4, socket_h=20, h=100, gap=0.1):\n",
        "    delta_r = w + tooth + gap\n",
        "    base_d = d-delta_r*2\n",
        "    filter_d = 8\n",
        "    filter_l = 100\n",
        "    piezo_d = 20\n",
        "    piezo_h = 3\n",
        "    slider_l = 30\n",
        "    slider_w = 20\n",
        "    pump_d = 27.4\n",
        "    pump_hole_delta = -((pump_d + slider_l)/2 + w*2)\n",
        "\n",
        "    # head body\n",
        "    body = pipe(d=d, w=w, tooth=tooth, socket_h=socket_h, h=h)\n",
        "\n",
        "    base = cylinder(d=base_d, h=w, segments=100)\n",
        "    (slider_s, slider_a) = sliding_connector(\n",
        "        length=slider_l, width=slider_w, gap=0.05)\n",
        "\n",
        "    cable_hole = rotate(90)(\n",
        "        translate((-d/2, 0, h/2))(\n",
        "            rotate((0, 90, 0))(\n",
        "                cylinder(d=4, h=2*w, segments=100)\n",
        "            )\n",
        "        )\n",
        "    )\n",
        "\n",
        "    pump_hole = translate((pump_hole_delta, 0, 0))(\n",
        "            cylinder(d=pump_d, h=20, segments=100))\n",
        "    \n",
        "\n",
        "    head = body + base - cable_hole\n",
        "    head -= translate((-slider_l/2, 0, 0))(pump_hole + slider_s)\n",
        "\n",
        "    # fogger module\n",
        "\n",
        "    fogger = down(piezo_h/2)(\n",
        "        cube((slider_l, piezo_d+4, piezo_d+piezo_h+4), center=True)\n",
        "        + translate((-slider_l/2, 0, (piezo_d+piezo_h+4)/2))(slider_a)\n",
        "    )\n",
        "\n",
        "    fogger += right((slider_l+piezo_h)/2)(rotate((0, 90, 0))(\n",
        "        hull()(\n",
        "            cylinder(d=piezo_d+4, h=piezo_h+2, center=True, segments=100),\n",
        "            translate((piezo_h, 0, -(piezo_h)/2))(\n",
        "                cylinder(d=piezo_d+4, h=.1, center=True, segments=100))\n",
        "        )\n",
        "        - cylinder(d=piezo_d, h=piezo_h, center=True, segments=100)\n",
        "        - cylinder(d=piezo_d-4, h=piezo_h+2, center=True, segments=100)\n",
        "        - translate((-2*piezo_d, -piezo_d, -piezo_h)\n",
        "                    )(cube((piezo_d*2, piezo_d*2, piezo_h*2)))\n",
        "    ))\n",
        "\n",
        "    fogger -= down(4)(rotate((0, 80, 0))(\n",
        "        cylinder(d=filter_d, h=filter_l, center=True, segments=100)\n",
        "    ))\n",
        "\n",
        "    transition_delta = 4\n",
        "    tank_width_addon = 10\n",
        "    fogger += translate((-(slider_l+pump_d/2+tank_width_addon)/2, 0, -piezo_h))(\n",
        "        cube((pump_d/2+tank_width_addon, piezo_d+transition_delta, piezo_d+transition_delta), center=True)\n",
        "        - translate((1, 0, 2))(\n",
        "            cube((pump_d/2-2+tank_width_addon, piezo_d, piezo_d+2), center=True)\n",
        "        )\n",
        "        - translate((0, 0, piezo_d*0.75))(\n",
        "            cube((pump_d/2+tank_width_addon, piezo_d+transition_delta, piezo_d+2), center=True)\n",
        "        )\n",
        "    )\n",
        "\n",
        "    cable_s = 2\n",
        "    cable_rail = cube((slider_l/2+cable_s, cable_s, slider_w))\n",
        "    fogger -= translate((-cable_s, -1, piezo_d/2))(cable_rail)\n",
        "\n",
        "    # head lid\n",
        "\n",
        "    head_lid_adapter_inner_d = d-(w+gap+tooth)*2\n",
        "    head_lid_body = cylinder(d=head_lid_adapter_inner_d, segments=100, h=w)\n",
        "    handle_base_thickness = 10\n",
        "    handle_top_thickness = handle_base_thickness + (socket_h-w)*2\n",
        "\n",
        "    (head_lid_adapter, _) = connection(d=d, h=socket_h,\n",
        "                                       wall=w, tooth_depth=tooth, tooth_height=2*tooth, gap=0.2)\n",
        "\n",
        "    head_lid_body += hull()(\n",
        "        up(w/2)(cube((handle_base_thickness, head_lid_adapter_inner_d, w), center=True)),\n",
        "        up((socket_h-w/2))(cube((handle_top_thickness,\n",
        "                                 head_lid_adapter_inner_d, w), center=True)),\n",
        "    ) * cylinder(d=head_lid_adapter_inner_d, segments=100, h=socket_h)\n",
        "\n",
        "    head_lid = head_lid_adapter + head_lid_body\n",
        "\n",
        "    return (head, fogger, head_lid)\n",
        "\n",
        "\n",
        "(head, fogger, head_lid) = tower_head()\n",
        "\n",
        "render(head, outfile='outfiles/aero_tower_head.stl')\n",
        "render(fogger, outfile='outfiles/aero_tower_head_fogger.stl')\n",
        "render(head_lid, outfile='outfiles/aero_tower_head_lid.stl')\n"
      ]
    }
  ],
  "metadata": {
    "interpreter": {
      "hash": "31f2aee4e71d21fbe5cf8b01ff0e069b9275f58929596ceb00d14d90e3e16cd6"
    },
    "kernelspec": {
      "display_name": "Python 3.9.2 64-bit",
      "language": "python",
      "name": "python3"
    },
    "language_info": {
      "codemirror_mode": {
        "name": "ipython",
        "version": 3
      },
      "file_extension": ".py",
      "mimetype": "text/x-python",
      "name": "python",
      "nbconvert_exporter": "python",
      "pygments_lexer": "ipython3",
      "version": "3.9.2"
    },
    "orig_nbformat": 4,
    "vscode": {
      "interpreter": {
        "hash": "31f2aee4e71d21fbe5cf8b01ff0e069b9275f58929596ceb00d14d90e3e16cd6"
      }
    }
  },
  "nbformat": 4,
  "nbformat_minor": 2
}
