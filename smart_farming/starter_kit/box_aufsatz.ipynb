{
 "cells": [
  {
   "cell_type": "code",
   "execution_count": 89,
   "metadata": {},
   "outputs": [],
   "source": [
    "from viewscad import Renderer\n",
    "\n",
    "r = Renderer()\n",
    "r.width = 800\n",
    "r.height= 800\n",
    "\n",
    "render = r.render"
   ]
  },
  {
   "cell_type": "code",
   "execution_count": 101,
   "metadata": {},
   "outputs": [],
   "source": [
    "from solid import cylinder, cube, translate, minkowski\n",
    "\n",
    "\n",
    "def puzzle_adapter(l=8,s=4,w=20, h=8):\n",
    "    c =  cube(s)\n",
    "\n",
    "    c1 = translate((0,(w-s)/2, 0))(c)\n",
    "    c2 = translate((0,(w-s), h-s))(c)\n",
    "    c3 = translate((0,0,h-s))(c)\n",
    "    c4 = translate((l-s,(w-s)/2, h-s))(c)\n",
    "    c5 = translate((l-s,(w-s)/2, 0))(c)\n",
    "   \n",
    "    return hull()([c1,c2,c3,c4,c5])"
   ]
  },
  {
   "cell_type": "code",
   "execution_count": 137,
   "metadata": {},
   "outputs": [
    {
     "data": {
      "application/vnd.jupyter.widget-view+json": {
       "model_id": "1867f5e580bb45ceb68fba8c4d76d139",
       "version_major": 2,
       "version_minor": 0
      },
      "text/plain": [
       "VBox(children=(HTML(value=''), Renderer(background='#cccc88', background_opacity=0.0, camera=PerspectiveCamera…"
      ]
     },
     "metadata": {},
     "output_type": "display_data"
    }
   ],
   "source": [
    "from solid import rotate\n",
    "\n",
    "\n",
    "def puzzle_side(l=16, w=30, h=10):\n",
    "    male = translate((-(l-2)*1.5, 0, 0))(puzzle_adapter(l=l-2,w = w/2, h=h, s=l/2))\n",
    "    con = translate((-l/2, (w-l)/4, 0))(cube((l,(l)/2,h)))\n",
    "    side = translate((0,-w/2-2,0))(cube((l*2,w+4,h)))\n",
    "    adapter = con+ male \n",
    "    return side + adapter - rotate((0,0,180))(adapter)\n",
    "\n",
    "\n",
    "ps = puzzle_side()\n",
    "\n",
    "render(ps)\n"
   ]
  }
 ],
 "metadata": {
  "interpreter": {
   "hash": "8b8334dab9339717f727a1deaf837b322d7a41c20d15cc86be99a8e69ceec8ce"
  },
  "kernelspec": {
   "display_name": "Python 3.8.12 64-bit ('3.8.12': pyenv)",
   "language": "python",
   "name": "python3"
  },
  "language_info": {
   "codemirror_mode": {
    "name": "ipython",
    "version": 3
   },
   "file_extension": ".py",
   "mimetype": "text/x-python",
   "name": "python",
   "nbconvert_exporter": "python",
   "pygments_lexer": "ipython3",
   "version": "3.8.12"
  },
  "orig_nbformat": 4
 },
 "nbformat": 4,
 "nbformat_minor": 2
}
