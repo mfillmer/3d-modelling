{
 "cells": [
  {
   "cell_type": "code",
   "execution_count": 1,
   "metadata": {},
   "outputs": [
    {
     "name": "stderr",
     "output_type": "stream",
     "text": [
      "Geometries in cache: 9\n",
      "Geometry cache size in bytes: 199224\n",
      "CGAL Polyhedrons in cache: 9\n",
      "CGAL cache size in bytes: 16008792\n",
      "Total rendering time: 0:00:17.718\n",
      "   Top level object is a 3D object:\n",
      "   Simple:        yes\n",
      "   Vertices:     4926\n",
      "   Halfedges:   15262\n",
      "   Edges:        7631\n",
      "   Halffacets:   4636\n",
      "   Facets:       2318\n",
      "   Volumes:         2\n",
      "/usr/local/lib/python3.10/site-packages/jupyter_client/session.py:716: UserWarning: Message serialization failed with:\n",
      "Out of range float values are not JSON compliant\n",
      "Supporting this message is deprecated in jupyter-client 7, please make sure your message is JSON-compliant\n",
      "  content = self.pack(content)\n"
     ]
    },
    {
     "data": {
      "application/vnd.jupyter.widget-view+json": {
       "model_id": "d5ea94f0b4f144ff8f6ada07d36e4927",
       "version_major": 2,
       "version_minor": 0
      },
      "text/plain": [
       "VBox(children=(HTML(value=''), Renderer(background='#cccc88', background_opacity=0.0, camera=PerspectiveCamera…"
      ]
     },
     "metadata": {},
     "output_type": "display_data"
    }
   ],
   "source": [
    "from solid import cylinder, translate, square, rotate_extrude, linear_extrude, circle\n",
    "from solid.objects import cube, hull, rotate\n",
    "from solid import screw_thread\n",
    "from stackable_pipe import ring, connection\n",
    "import math\n",
    "\n",
    "from viewscad import Renderer\n",
    "\n",
    "r = Renderer()\n",
    "r.width = 700\n",
    "r.height = 700\n",
    "\n",
    "render = r.render\n",
    "\n",
    "\n",
    "(adapter, socket) = connection()\n",
    "\n",
    "render(adapter + socket)\n",
    "\n",
    "render(adapter, outfile='./outfiles/test_new_adapter.stl')\n",
    "render(socket, outfile='./outfiles/test_new_socket.stl')\n"
   ]
  }
 ],
 "metadata": {
  "kernelspec": {
   "display_name": "Python 3.10.4 64-bit",
   "language": "python",
   "name": "python3"
  },
  "language_info": {
   "codemirror_mode": {
    "name": "ipython",
    "version": 3
   },
   "file_extension": ".py",
   "mimetype": "text/x-python",
   "name": "python",
   "nbconvert_exporter": "python",
   "pygments_lexer": "ipython3",
   "version": "3.10.4"
  },
  "orig_nbformat": 4,
  "vscode": {
   "interpreter": {
    "hash": "949777d72b0d2535278d3dc13498b2535136f6dfe0678499012e853ee9abcab1"
   }
  }
 },
 "nbformat": 4,
 "nbformat_minor": 2
}
