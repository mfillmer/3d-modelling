{
 "cells": [
  {
   "cell_type": "code",
   "execution_count": null,
   "metadata": {},
   "outputs": [],
   "source": [
    "from solid import hull, cylinder, translate\n",
    "from viewscad import Renderer\n",
    "\n",
    "r = Renderer()\n",
    "r.width = 500\n",
    "r.height = 500\n",
    "\n",
    "render = r.render\n",
    "\n",
    "\n",
    "def ring(r = 10, h=2, w=2, dx=0, dy=0, dz=0):\n",
    "    return translate((dx,dy,dz))(cylinder(r=r, h=h) - cylinder(r=r-w, h=h))\n",
    "\n",
    "render(ring())"
   ]
  }
 ],
 "metadata": {
  "language_info": {
   "name": "plaintext"
  },
  "orig_nbformat": 4
 },
 "nbformat": 4,
 "nbformat_minor": 2
}
