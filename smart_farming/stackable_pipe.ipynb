{
 "cells": [
  {
   "cell_type": "code",
   "execution_count": 26,
   "metadata": {},
   "outputs": [
    {
     "data": {
      "application/vnd.jupyter.widget-view+json": {
       "model_id": "52f6021dd1ad4ebe9b288ef072757c7c",
       "version_major": 2,
       "version_minor": 0
      },
      "text/plain": [
       "VBox(children=(HTML(value=''), Renderer(background='#cccc88', background_opacity=0.0, camera=PerspectiveCamera…"
      ]
     },
     "metadata": {},
     "output_type": "display_data"
    }
   ],
   "source": [
    "from solid import hull, cylinder, translate\n",
    "from solid.objects import minkowski\n",
    "from viewscad import Renderer\n",
    "\n",
    "r = Renderer()\n",
    "r.width = 500\n",
    "r.height = 500\n",
    "\n",
    "render = r.render\n",
    "\n",
    "\n",
    "def ring(r1=10, r2=None, h=2, w=2, dx=0, dy=0, dz=0):\n",
    "    r2 = r2 or r1\n",
    "    outer = cylinder(r1=r1, r2=r2, h=h, segments=30)\n",
    "    inner = cylinder(r1=r1-w, r2=r2-w, h=h, segments=30)\n",
    "    return translate((dx, dy, dz))(outer-inner)\n",
    "\n",
    "\n",
    "scene = ring(r1=10, h=2, w=2)\\\n",
    "    + ring(r1=10, r2=8, h=2, w=2, dz=2)\\\n",
    "    + ring(r1=8, h=2, w=2, dz=4) \\\n",
    "    + ring(r1=8,r2=12, h=6, w=2, dz=6)\\\n",
    "    + ring(r1=12, dz=12)\n",
    "\n",
    "\n",
    "render(scene)\n"
   ]
  }
 ],
 "metadata": {
  "interpreter": {
   "hash": "8b8334dab9339717f727a1deaf837b322d7a41c20d15cc86be99a8e69ceec8ce"
  },
  "kernelspec": {
   "display_name": "Python 3.8.12 64-bit ('3.8.12': pyenv)",
   "language": "python",
   "name": "python3"
  },
  "language_info": {
   "codemirror_mode": {
    "name": "ipython",
    "version": 3
   },
   "file_extension": ".py",
   "mimetype": "text/x-python",
   "name": "python",
   "nbconvert_exporter": "python",
   "pygments_lexer": "ipython3",
   "version": "3.8.12"
  },
  "orig_nbformat": 4
 },
 "nbformat": 4,
 "nbformat_minor": 2
}
