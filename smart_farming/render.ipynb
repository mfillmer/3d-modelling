{
 "cells": [
  {
   "cell_type": "code",
   "execution_count": 5,
   "metadata": {},
   "outputs": [
    {
     "data": {
      "application/vnd.jupyter.widget-view+json": {
       "model_id": "8f1a3bf7417f41c2a7113c87e655e82e",
       "version_major": 2,
       "version_minor": 0
      },
      "text/plain": [
       "VBox(children=(HTML(value=''), Renderer(background='#cccc88', background_opacity=0.0, camera=PerspectiveCamera…"
      ]
     },
     "metadata": {},
     "output_type": "display_data"
    }
   ],
   "source": [
    "from solid.objects import cube, translate\n",
    "from starter_kit.box import Untersatz, box\n",
    "from viewscad import Renderer\n",
    "\n",
    "\n",
    "Untersatz = box(144, 74, 60, 4) \\\n",
    "    + translate((0, 2, 2))(box(144, 70, 40, 2)) \\\n",
    "    + translate((0, 4, 2))(box(144, 66, 40, 2)) \\\n",
    "    - translate((0, 2, 58))(cube((144, 70, 2)))\n",
    "    \n",
    "r = Renderer()\n",
    "b = Untersatz\n",
    "    \n",
    "r.render(b)"
   ]
  }
 ],
 "metadata": {
  "interpreter": {
   "hash": "8b8334dab9339717f727a1deaf837b322d7a41c20d15cc86be99a8e69ceec8ce"
  },
  "kernelspec": {
   "display_name": "Python 3.8.12 64-bit ('3.8.12': pyenv)",
   "language": "python",
   "name": "python3"
  },
  "language_info": {
   "codemirror_mode": {
    "name": "ipython",
    "version": 3
   },
   "file_extension": ".py",
   "mimetype": "text/x-python",
   "name": "python",
   "nbconvert_exporter": "python",
   "pygments_lexer": "ipython3",
   "version": "3.8.12"
  },
  "orig_nbformat": 4
 },
 "nbformat": 4,
 "nbformat_minor": 2
}
