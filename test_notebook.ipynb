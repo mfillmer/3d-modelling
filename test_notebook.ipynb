{
 "cells": [
  {
   "cell_type": "code",
   "execution_count": 1,
   "metadata": {},
   "outputs": [
    {
     "ename": "ModuleNotFoundError",
     "evalue": "No module named 'primitives'",
     "output_type": "error",
     "traceback": [
      "\u001b[0;31m---------------------------------------------------------------------------\u001b[0m",
      "\u001b[0;31mModuleNotFoundError\u001b[0m                       Traceback (most recent call last)",
      "\u001b[1;32m/workspace/3d-modelling/test_notebook.ipynb Cell 1'\u001b[0m in \u001b[0;36m<cell line: 2>\u001b[0;34m()\u001b[0m\n\u001b[1;32m      <a href='vscode-notebook-cell://ssh-remote%2Bmfillmer-3dmodelling-3v8mpz3aj03/workspace/3d-modelling/test_notebook.ipynb#ch0000000vscode-remote?line=0'>1</a>\u001b[0m \u001b[39mfrom\u001b[39;00m \u001b[39msolid\u001b[39;00m\u001b[39m.\u001b[39;00m\u001b[39mobjects\u001b[39;00m \u001b[39mimport\u001b[39;00m cube, cylinder, minkowski, sphere, translate\n\u001b[0;32m----> <a href='vscode-notebook-cell://ssh-remote%2Bmfillmer-3dmodelling-3v8mpz3aj03/workspace/3d-modelling/test_notebook.ipynb#ch0000000vscode-remote?line=1'>2</a>\u001b[0m \u001b[39mfrom\u001b[39;00m \u001b[39mprimitives\u001b[39;00m\u001b[39m.\u001b[39;00m\u001b[39mprism\u001b[39;00m \u001b[39mimport\u001b[39;00m prism\n\u001b[1;32m      <a href='vscode-notebook-cell://ssh-remote%2Bmfillmer-3dmodelling-3v8mpz3aj03/workspace/3d-modelling/test_notebook.ipynb#ch0000000vscode-remote?line=4'>5</a>\u001b[0m \u001b[39mimport\u001b[39;00m \u001b[39mviewscad\u001b[39;00m\n\u001b[1;32m      <a href='vscode-notebook-cell://ssh-remote%2Bmfillmer-3dmodelling-3v8mpz3aj03/workspace/3d-modelling/test_notebook.ipynb#ch0000000vscode-remote?line=5'>6</a>\u001b[0m r \u001b[39m=\u001b[39m viewscad\u001b[39m.\u001b[39mRenderer()\n",
      "\u001b[0;31mModuleNotFoundError\u001b[0m: No module named 'primitives'"
     ]
    }
   ],
   "source": [
    "from solid.objects import cube, cylinder, minkowski, sphere, translate\n",
    "from primitives.prism import prism\n",
    "\n",
    "\n",
    "import viewscad\n",
    "r = viewscad.Renderer()\n",
    "\n",
    "c = prism(height=10)\n",
    "r.render(c, outfile='test.stl')\n"
   ]
  }
 ],
 "metadata": {
  "interpreter": {
   "hash": "8b8334dab9339717f727a1deaf837b322d7a41c20d15cc86be99a8e69ceec8ce"
  },
  "kernelspec": {
   "display_name": "Python 3.8.12 64-bit ('3.8.12': pyenv)",
   "language": "python",
   "name": "python3"
  },
  "language_info": {
   "codemirror_mode": {
    "name": "ipython",
    "version": 3
   },
   "file_extension": ".py",
   "mimetype": "text/x-python",
   "name": "python",
   "nbconvert_exporter": "python",
   "pygments_lexer": "ipython3",
   "version": "3.8.12"
  },
  "orig_nbformat": 4
 },
 "nbformat": 4,
 "nbformat_minor": 2
}
