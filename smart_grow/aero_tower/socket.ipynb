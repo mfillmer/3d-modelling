{
 "cells": [
  {
   "cell_type": "code",
   "execution_count": 24,
   "metadata": {},
   "outputs": [
    {
     "name": "stderr",
     "output_type": "stream",
     "text": [
      "EXPORT-WARNING: Exported object may not be a valid 2-manifold and may need repair\n"
     ]
    },
    {
     "data": {
      "application/vnd.jupyter.widget-view+json": {
       "model_id": "d8198c3f287d4c7099481a73d2e1b59b",
       "version_major": 2,
       "version_minor": 0
      },
      "text/plain": [
       "VBox(children=(HTML(value=''), Renderer(background='#cccc88', background_opacity=0.0, camera=PerspectiveCamera…"
      ]
     },
     "metadata": {},
     "output_type": "display_data"
    },
    {
     "data": {
      "application/vnd.jupyter.widget-view+json": {
       "model_id": "33273a50f6124898b7410a5141e816ce",
       "version_major": 2,
       "version_minor": 0
      },
      "text/plain": [
       "VBox(children=(HTML(value=''), Renderer(background='#cccc88', background_opacity=0.0, camera=PerspectiveCamera…"
      ]
     },
     "metadata": {},
     "output_type": "display_data"
    },
    {
     "name": "stderr",
     "output_type": "stream",
     "text": [
      "EXPORT-WARNING: Exported object may not be a valid 2-manifold and may need repair\n"
     ]
    },
    {
     "data": {
      "application/vnd.jupyter.widget-view+json": {
       "model_id": "e107803384bc4f1aa64dcb071356e4ac",
       "version_major": 2,
       "version_minor": 0
      },
      "text/plain": [
       "VBox(children=(HTML(value=''), Renderer(background='#cccc88', background_opacity=0.0, camera=PerspectiveCamera…"
      ]
     },
     "metadata": {},
     "output_type": "display_data"
    }
   ],
   "source": [
    "from solid import cylinder, translate, square, rotate_extrude, linear_extrude, circle\n",
    "from solid.objects import cube, hull, rotate\n",
    "from solid import screw_thread\n",
    "from stackable_pipe import ring\n",
    "import math\n",
    "\n",
    "from viewscad import Renderer\n",
    "\n",
    "r = Renderer()\n",
    "r.width = 700\n",
    "r.height = 700\n",
    "\n",
    "render = r.render\n",
    "\n",
    "\n",
    "\n",
    "\n",
    "def hollow_screw(radius = 40,screw_height = 80, wall=2, external=True, tooth_height=10, tooth_depth=5):\n",
    "    body_radius = radius-tooth_depth if external else radius\n",
    "    body = ring(r1=body_radius, h=screw_height, w=wall)\n",
    "\n",
    "    inner_rad = body_radius if external else body_radius-wall\n",
    "\n",
    "\n",
    "    SEGMENTS = 48\n",
    "    section = screw_thread.default_thread_section(tooth_height=tooth_height, tooth_depth=tooth_depth)\n",
    "    screw = screw_thread.thread(outline_pts=section,\n",
    "                            inner_rad=inner_rad,\n",
    "                            pitch=tooth_height+.5,\n",
    "                            external=external,\n",
    "                            length=screw_height,\n",
    "                            segments_per_rot=SEGMENTS,\n",
    "                            neck_in_degrees=90,\n",
    "                            neck_out_degrees=90)\n",
    "\n",
    "    return body + screw\n",
    "\n",
    "\n",
    "\n",
    "\n",
    "def connection(d=80, h=30, wall=2, strength=2, gap=0.2):\n",
    "    radius = d/2\n",
    "    adapter =  hollow_screw(radius=radius-wall-gap, wall=wall, screw_height=h, external=True)\n",
    "    socket = hollow_screw(radius=radius, wall=wall, screw_height=h, external=False)\n",
    "    \n",
    "    return (adapter, socket)\n",
    "\n",
    "\n",
    "(adapter, socket) = connection()\n",
    "\n",
    "render(adapter + socket)\n",
    "\n",
    "render(adapter, outfile='./outfiles/test_new_adapter.stl')\n",
    "render(socket, outfile='./outfiles/test_new_socket.stl')\n"
   ]
  }
 ],
 "metadata": {
  "interpreter": {
   "hash": "110cc1dee26208153f2972f08a2ad52b6a56238dc66d48e87fb757ef2996db56"
  },
  "kernelspec": {
   "display_name": "Python 3.8.13 64-bit ('3.8.13')",
   "language": "python",
   "name": "python3"
  },
  "language_info": {
   "codemirror_mode": {
    "name": "ipython",
    "version": 3
   },
   "file_extension": ".py",
   "mimetype": "text/x-python",
   "name": "python",
   "nbconvert_exporter": "python",
   "pygments_lexer": "ipython3",
   "version": "3.8.13"
  },
  "orig_nbformat": 4
 },
 "nbformat": 4,
 "nbformat_minor": 2
}
