{
 "cells": [
  {
   "cell_type": "code",
   "execution_count": 11,
   "metadata": {},
   "outputs": [
    {
     "data": {
      "application/vnd.jupyter.widget-view+json": {
       "model_id": "28352de89e4d4213ada38d6eb65714eb",
       "version_major": 2,
       "version_minor": 0
      },
      "text/plain": [
       "VBox(children=(HTML(value=''), Renderer(background='#cccc88', background_opacity=0.0, camera=PerspectiveCamera…"
      ]
     },
     "metadata": {},
     "output_type": "display_data"
    },
    {
     "data": {
      "application/vnd.jupyter.widget-view+json": {
       "model_id": "34c0d05e68a44f5898d4e89ba497eb2e",
       "version_major": 2,
       "version_minor": 0
      },
      "text/plain": [
       "VBox(children=(HTML(value=''), Renderer(background='#cccc88', background_opacity=0.0, camera=PerspectiveCamera…"
      ]
     },
     "metadata": {},
     "output_type": "display_data"
    },
    {
     "data": {
      "application/vnd.jupyter.widget-view+json": {
       "model_id": "9175c3f18f72448da73f222968ac2a1c",
       "version_major": 2,
       "version_minor": 0
      },
      "text/plain": [
       "VBox(children=(HTML(value=''), Renderer(background='#cccc88', background_opacity=0.0, camera=PerspectiveCamera…"
      ]
     },
     "metadata": {},
     "output_type": "display_data"
    },
    {
     "data": {
      "application/vnd.jupyter.widget-view+json": {
       "model_id": "82d1e2bc05d34c52b9afa08a580f2123",
       "version_major": 2,
       "version_minor": 0
      },
      "text/plain": [
       "VBox(children=(HTML(value=''), Renderer(background='#cccc88', background_opacity=0.0, camera=PerspectiveCamera…"
      ]
     },
     "metadata": {},
     "output_type": "display_data"
    }
   ],
   "source": [
    "from numpy.core.numeric import roll\n",
    "from solid.objects import circle, cube, cylinder, linear_extrude, minkowski, offset, rotate, rotate_extrude, sphere, square, translate, import_scad, hull\n",
    "from solid.utils import right, up, forward\n",
    "from viewscad import Renderer\n",
    "\n",
    "\n",
    "r = Renderer()\n",
    "r.width = 600\n",
    "r.height = 600\n",
    "\n",
    "render = r.render\n",
    "PI = 3.14\n",
    "\n",
    "\n",
    "def spin(obj, amount=3):\n",
    "    return sum((rotate((0, 0, a))(obj) for a in range(0, 360, 360//amount)))\n",
    "\n",
    "\n",
    "def get_roll_offset(d, w, gap, roll):\n",
    "    return (d-w-gap-roll)/2\n",
    "\n",
    "\n",
    "def pump_shell(d, w, h, tube, pin=6):\n",
    "    inlet_offset = (d - tube)/2 - w\n",
    "    inlet = rotate((0, 90, 0))(cylinder(d=tube, h=d, segments=100))\n",
    "\n",
    "    return cylinder(d=d, h=h, segments=100)\\\n",
    "        - cylinder(d=d-w*2, h=h, segments=100)\\\n",
    "        + cylinder(d=d, h=w, segments=100)\\\n",
    "        + cylinder(d=pin, h=h+w, segments=100)\\\n",
    "        - translate((0, inlet_offset, h/2))(inlet)\\\n",
    "        - translate((0, -inlet_offset, h/2))(inlet)\\\n",
    "\n",
    "\n",
    "\n",
    "def pump_rolls(d, w, h, amount=3, roll=20, gap=0.2):\n",
    "    offset = get_roll_offset(d, w, gap, roll)\n",
    "    roll = cylinder(d=roll, h=h, segments=100)\n",
    "    rolls = spin(right(offset)(roll), amount)\n",
    "\n",
    "    return rolls\n",
    "\n",
    "\n",
    "def pump_spinner(d, w, h, amount=3, roll=20, gap=0.2, hole=6):\n",
    "    offset = get_roll_offset(d, w, gap, roll)\n",
    "    size = d-w-gap\n",
    "    cutout = cylinder(d=roll+gap, h=h, segments=100)\n",
    "    cutouts = spin(right(offset)(cutout), amount)\n",
    "    trim = rotate((0,0,180))(cylinder(d=size, h=h, segments=amount))\n",
    "\n",
    "    spinner = up(w)(hull()(cutouts) - cutouts)\n",
    "    spinner -= up(w)(cylinder(d=hole+gap, h=h, segments=100))\n",
    "    spinner *= up(w)(trim)\n",
    "\n",
    "    spinner += cylinder(d=size, h=w, segments=100)\\\n",
    "\n",
    "    return spinner\n",
    "\n",
    "\n",
    "def peristaltic_pump(d=60, tube=12.5, tube_wall=2.5):\n",
    "    height = PI*tube/2  # max size of squished tube\n",
    "    padding = tube_wall*2\n",
    "    shell = pump_shell(d=d, w=tube_wall, h=height+padding, tube=tube)\n",
    "    spinner = pump_spinner(d=d-tube_wall*2, w=tube_wall, h=height)\n",
    "    rolls = pump_rolls(d=d-tube_wall*2, w=tube_wall, h=height)\n",
    "\n",
    "    return (shell, spinner, rolls)\n",
    "\n",
    "\n",
    "(shell, spinner, rolls) = peristaltic_pump()\n",
    "\n",
    "render(spinner - rolls)\n",
    "\n",
    "render(shell, outfile='./outfiles/peristaltic_pump_shell.stl')\n",
    "render(spinner, outfile='./outfiles/peristaltic_pump_spinner.stl')\n",
    "render(rolls, outfile='./outfiles/peristaltic_pump_rolls.stl')\n"
   ]
  },
  {
   "cell_type": "code",
   "execution_count": 3,
   "metadata": {},
   "outputs": [
    {
     "name": "stderr",
     "output_type": "stream",
     "text": [
      "/home/gitpod/.pyenv/versions/3.8.12/lib/python3.8/site-packages/jupyter_client/session.py:716: UserWarning: Message serialization failed with:\n",
      "Out of range float values are not JSON compliant\n",
      "Supporting this message is deprecated in jupyter-client 7, please make sure your message is JSON-compliant\n",
      "  content = self.pack(content)\n"
     ]
    },
    {
     "data": {
      "application/vnd.jupyter.widget-view+json": {
       "model_id": "4d15ddbf801342f8a0a5526a062bfb88",
       "version_major": 2,
       "version_minor": 0
      },
      "text/plain": [
       "VBox(children=(HTML(value=''), Renderer(background='#cccc88', background_opacity=0.0, camera=PerspectiveCamera…"
      ]
     },
     "metadata": {},
     "output_type": "display_data"
    }
   ],
   "source": [
    "from numpy.core.numeric import roll\n",
    "from solid.objects import circle, cube, cylinder, linear_extrude, minkowski, offset, rotate, rotate_extrude, sphere, square, translate, import_scad, hull\n",
    "from solid.utils import right, up, forward\n",
    "from viewscad import Renderer\n",
    "\n",
    "\n",
    "r = Renderer()\n",
    "r.width = 600\n",
    "r.height = 600\n",
    "\n",
    "render = r.render\n",
    "\n",
    "\n",
    "def gear_belt(d=100, h=10, tooth_thickness=2, tooth_depth=2, teeth_spacing=4):\n",
    "    ring = cylinder(segments=100, d=d, h=h) -cylinder(segments=100, d=d-1, h=h)\n",
    "    tooth_base = cube((1,tooth_thickness,h))\n",
    "    tooth_peak = translate((tooth_depth,0,tooth_depth))(cube((1,tooth_thickness,h-tooth_depth*2)))\n",
    "    tooth = translate((-d/2,-tooth_thickness/2,0))(hull()(tooth_base, tooth_peak))\n",
    "\n",
    "    tooth_footprint = tooth_thickness+teeth_spacing\n",
    "    teeth = sum((rotate((0,0,z))(tooth) for z in range(0,360, tooth_footprint)))\n",
    "    \n",
    "    return ring + teeth\n",
    "\n",
    "render(gear_belt(), outfile='./outfiles/gearbelt_test.stl')"
   ]
  }
 ],
 "metadata": {
  "interpreter": {
   "hash": "8b8334dab9339717f727a1deaf837b322d7a41c20d15cc86be99a8e69ceec8ce"
  },
  "kernelspec": {
   "display_name": "Python 3.8.12 64-bit ('3.8.12')",
   "language": "python",
   "name": "python3"
  },
  "language_info": {
   "codemirror_mode": {
    "name": "ipython",
    "version": 3
   },
   "file_extension": ".py",
   "mimetype": "text/x-python",
   "name": "python",
   "nbconvert_exporter": "python",
   "pygments_lexer": "ipython3",
   "version": "3.8.12"
  },
  "orig_nbformat": 4
 },
 "nbformat": 4,
 "nbformat_minor": 2
}
