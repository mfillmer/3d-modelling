{
 "cells": [
  {
   "cell_type": "code",
   "execution_count": 3,
   "metadata": {},
   "outputs": [],
   "source": [
    "from viewscad import Renderer\n",
    "\n",
    "r = Renderer()\n",
    "r.width = 700\n",
    "r.height = 700\n",
    "\n",
    "render = r.render\n",
    "\n",
    "from stackable_pipe import adapter, socket, ring\n",
    "from solid import cube, rotate, translate\n",
    "\n",
    "props = dict(d=60, w=4)\n",
    "scene = rotate((0,0,60))(adapter(**props))\n",
    "scene += rotate((0,0,0))(translate((0,0,props['w']))(socket(**props) ))\n",
    "scene -= cube(100)\n",
    "\n",
    "render(socket(**props), outfile='test_socket_exact_fit.stl')\n"
   ]
  },
  {
   "cell_type": "code",
   "execution_count": 2,
   "metadata": {},
   "outputs": [],
   "source": [
    "from stackable_pipe import pipe, slot, ring, socket\n",
    "from solid import cylinder, translate, rotate\n",
    "\n",
    "w = 4\n",
    "h = 160\n",
    "d=120\n",
    "pipe_count = 4\n",
    "\n",
    "def spin_around_tower(obj, count=pipe_count):\n",
    "    angles = range(0,360, int(360/count))\n",
    "    return translate((0,0,h/2))( [rotate((90,0,z))(obj) for z in angles])\n",
    "\n",
    "def tower_socket(d=60, w=4):\n",
    "    r = d/2\n",
    "    base = rotate((0,0,15))(socket(d=d, w=w))\n",
    "    transition = ring(r2=r+w*3, r1=r, h=w*3, w=w*4) - cylinder(h=w*3, d=d )\n",
    "\n",
    "    return base + transition\n",
    "\n",
    "\n",
    "tower = pipe(d=d, h = h, w=w)\n",
    "outline = cylinder(d=d, h=h, segments=60)\n",
    "holes = spin_around_tower(cylinder(d=60, h=d, segments=60))\n",
    "sockets = spin_around_tower(translate((0,0,(d/2)-(3*w)))(tower_socket()))\n",
    "\n",
    "hydro_tower = tower - holes \n",
    "hydro_tower += sockets\n",
    "# hydro_tower *= outline\n",
    "\n",
    "# render(hydro_tower, outfile='hydro_tower.stl')"
   ]
  },
  {
   "cell_type": "code",
   "execution_count": 3,
   "metadata": {},
   "outputs": [],
   "source": [
    "from stackable_pipe import pipe, slot, ring, socket, adapter\n",
    "from solid import cylinder, translate, rotate, cube\n",
    "\n",
    "w=4\n",
    "d = 60\n",
    "\n",
    "bottom = adapter(d=d, w=w)\n",
    "top = translate((0,0,4*w))(cylinder(d=d*1.2,h=5, segments=6))\n",
    "\n",
    "hydro_tower_cap = top + bottom\n",
    "hydro_tower_cap *= cube((d*2, d*2, 10*w), center=True)\n",
    "\n",
    "# render(hydro_tower_cap, outfile='hydro_tower_cap.stl')"
   ]
  },
  {
   "cell_type": "code",
   "execution_count": 4,
   "metadata": {},
   "outputs": [],
   "source": [
    "from stackable_pipe import pipe, slot, ring, socket, adapter\n",
    "from solid import cylinder, translate, rotate, cube, hull\n",
    "\n",
    "w=4\n",
    "d = 60\n",
    "\n",
    "def angle_cylinder(d=d, d2=d):\n",
    "    d2 = d2 or d\n",
    "    cyl = cylinder(d=d, h=2) + translate((d2/2,0,d2/4*3))(rotate((0,45,0))(cylinder(d=d, h=2)))\n",
    "    cyl = hull()(cyl)\n",
    "    \n",
    "    return cyl\n",
    "\n",
    "def angle_pipe(d=d, w=w):\n",
    "    tube = angle_cylinder(d=d)\n",
    "    hole = angle_cylinder(d=d-2*w, d2=d+w)\n",
    "    \n",
    "    return tube - hole\n",
    "\n",
    "def adapter_bottom_grid(d=d, w=w):\n",
    "    plate = cylinder(h=2, d=d-4*w)\n",
    "    hole = cylinder(h=2, d=6)\n",
    "    \n",
    "    holes = sum([rotate((0,0,r))(translate((x,0,0))(hole)) for r in range(0,360,360//8) for x in [0, 9, 16]])\n",
    "\n",
    "    return plate - holes\n",
    "\n",
    "bottom = adapter(d=d, w=w)\n",
    "grid = adapter_bottom_grid()\n",
    "pipe = angle_pipe(d=d, w=w/2)\n",
    "\n",
    "hydro_tower_plant_cup =  bottom  +grid +  translate((0,0,7*w))(pipe)\n",
    "\n",
    "# render(hydro_tower_plant_cup, outfile='hydro_tower_plant_cup.stl')"
   ]
  },
  {
   "cell_type": "code",
   "execution_count": 5,
   "metadata": {},
   "outputs": [
    {
     "data": {
      "application/vnd.jupyter.widget-view+json": {
       "model_id": "b72761655b04424ea87f45d4cbf16a0b",
       "version_major": 2,
       "version_minor": 0
      },
      "text/plain": [
       "VBox(children=(HTML(value=''), Renderer(background='#cccc88', background_opacity=0.0, camera=PerspectiveCamera…"
      ]
     },
     "metadata": {},
     "output_type": "display_data"
    }
   ],
   "source": [
    "d = 120\n",
    "w=4\n",
    "caps =  spin_around_tower(translate((0,0, d/2- 4*w))(hydro_tower_cap))\n",
    "\n",
    "render(hydro_tower + caps - cube(200))"
   ]
  }
 ],
 "metadata": {
  "interpreter": {
   "hash": "8b8334dab9339717f727a1deaf837b322d7a41c20d15cc86be99a8e69ceec8ce"
  },
  "kernelspec": {
   "display_name": "Python 3.8.12 64-bit ('3.8.12': pyenv)",
   "language": "python",
   "name": "python3"
  },
  "language_info": {
   "codemirror_mode": {
    "name": "ipython",
    "version": 3
   },
   "file_extension": ".py",
   "mimetype": "text/x-python",
   "name": "python",
   "nbconvert_exporter": "python",
   "pygments_lexer": "ipython3",
   "version": "3.8.12"
  },
  "orig_nbformat": 4
 },
 "nbformat": 4,
 "nbformat_minor": 2
}
