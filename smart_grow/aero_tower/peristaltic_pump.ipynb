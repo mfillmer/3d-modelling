{
 "cells": [
  {
   "cell_type": "code",
   "execution_count": 64,
   "metadata": {},
   "outputs": [
    {
     "data": {
      "application/vnd.jupyter.widget-view+json": {
       "model_id": "bfb91cea5c844a1c9370b8f1a9a6a565",
       "version_major": 2,
       "version_minor": 0
      },
      "text/plain": [
       "VBox(children=(HTML(value=''), Renderer(background='#cccc88', background_opacity=0.0, camera=PerspectiveCamera…"
      ]
     },
     "metadata": {},
     "output_type": "display_data"
    },
    {
     "data": {
      "application/vnd.jupyter.widget-view+json": {
       "model_id": "f5a4f5738937402a980142d919f73a93",
       "version_major": 2,
       "version_minor": 0
      },
      "text/plain": [
       "VBox(children=(HTML(value=''), Renderer(background='#cccc88', background_opacity=0.0, camera=PerspectiveCamera…"
      ]
     },
     "metadata": {},
     "output_type": "display_data"
    },
    {
     "data": {
      "application/vnd.jupyter.widget-view+json": {
       "model_id": "da52acde927e4637926d6d8d1a3c472d",
       "version_major": 2,
       "version_minor": 0
      },
      "text/plain": [
       "VBox(children=(HTML(value=''), Renderer(background='#cccc88', background_opacity=0.0, camera=PerspectiveCamera…"
      ]
     },
     "metadata": {},
     "output_type": "display_data"
    }
   ],
   "source": [
    "from numpy.core.numeric import roll\n",
    "from solid.objects import circle, cube, cylinder, linear_extrude, minkowski, offset, rotate, rotate_extrude, sphere, square, translate, import_scad, hull\n",
    "from solid.utils import right, up, forward\n",
    "from viewscad import Renderer\n",
    "\n",
    "\n",
    "r = Renderer()\n",
    "r.width = 600\n",
    "r.height = 600\n",
    "\n",
    "render = r.render\n",
    "PI = 3.14\n",
    "\n",
    "\n",
    "def spin(obj, amount=3):\n",
    "    return sum((rotate((0, 0, a))(obj) for a in range(0, 360, 360//amount)))\n",
    "\n",
    "\n",
    "def get_roll_offset(d,w,gap,roll):\n",
    "    return (d-w-gap-roll)/2\n",
    "\n",
    "def pump_shell(d, w, h,tube):\n",
    "    inlet_offset = (d -  tube)/2 -w\n",
    "    inlet = rotate((0,90,0))(cylinder(d=tube, h=d, segments=100))\n",
    "\n",
    "    return cylinder(d=d, h=h, segments=100)\\\n",
    "        - cylinder(d=d-w*2, h=h, segments=100)\\\n",
    "        + cylinder(d=d, h=w, segments=100)\\\n",
    "        + cylinder(d=6, h=h/2, segments=100)\\\n",
    "        - translate((0,inlet_offset,h/2))(inlet)\\\n",
    "        - translate((0,-inlet_offset,h/2))(inlet)\\\n",
    "\n",
    "def pump_rolls(d, w, h, amount=3, roll=20, gap=1):\n",
    "    offset = get_roll_offset(d,w,gap,roll)\n",
    "    roll= cylinder(d=roll, h=h+w, segments=100)\n",
    "    rolls = spin(right(offset)(roll), amount)\n",
    "\n",
    "    return rolls\n",
    "\n",
    "def pump_spinner(d, w, h, amount=3, roll=20, gap=1,key_size=6):\n",
    "    offset = get_roll_offset(d,w,gap,roll)\n",
    "    cutout = cylinder(d=roll+gap, h=h+w, segments=100)\n",
    "    cutouts = spin(right(offset)(cutout), amount)\n",
    "\n",
    "    return hull()(cutouts) - cutouts\\\n",
    "        + cylinder(d=d-w-gap, h=w, segments=100)\\\n",
    "        - up(w)(cylinder(d=key_size+gap,h=h,segments=100))\\\n",
    "        - cylinder(d=key_size,h=w,segments=6)\n",
    "\n",
    "\n",
    "\n",
    "def peristaltic_pump(d=60, tube=12.5, tube_wall=2.5):\n",
    "    height = PI*tube/2  # max size of squished tube\n",
    "    padding = tube_wall*2\n",
    "    shell = pump_shell(d=d, w=tube_wall, h=height+padding, tube=tube)\n",
    "    spinner = pump_spinner(d=d-tube_wall*2, w=tube_wall, h=height)\n",
    "    rolls = pump_rolls(d=d-tube_wall*2, w=tube_wall, h=height)\n",
    "\n",
    "    return (shell, spinner, rolls)\n",
    "\n",
    "(shell, spinner, rolls) = peristaltic_pump()\n",
    "\n",
    "render(shell, outfile='./outfiles/peristaltic_pump_shell.stl')\n",
    "render(spinner, outfile='./outfiles/peristaltic_pump_spinner.stl')\n",
    "render(rolls, outfile='./outfiles/peristaltic_pump_rolls.stl')\n"
   ]
  }
 ],
 "metadata": {
  "interpreter": {
   "hash": "8b8334dab9339717f727a1deaf837b322d7a41c20d15cc86be99a8e69ceec8ce"
  },
  "kernelspec": {
   "display_name": "Python 3.8.12 64-bit ('3.8.12')",
   "language": "python",
   "name": "python3"
  },
  "language_info": {
   "codemirror_mode": {
    "name": "ipython",
    "version": 3
   },
   "file_extension": ".py",
   "mimetype": "text/x-python",
   "name": "python",
   "nbconvert_exporter": "python",
   "pygments_lexer": "ipython3",
   "version": "3.8.12"
  },
  "orig_nbformat": 4
 },
 "nbformat": 4,
 "nbformat_minor": 2
}
