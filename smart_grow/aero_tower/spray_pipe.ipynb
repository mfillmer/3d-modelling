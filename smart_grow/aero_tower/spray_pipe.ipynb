{
  "cells": [
    {
      "cell_type": "code",
      "execution_count": 10,
      "metadata": {},
      "outputs": [
        {
          "name": "stderr",
          "output_type": "stream",
          "text": [
            "EXPORT-WARNING: Exported object may not be a valid 2-manifold and may need repair\n",
            "/home/gitpod/.pyenv/versions/3.8.12/lib/python3.8/site-packages/jupyter_client/session.py:716: UserWarning: Message serialization failed with:\n",
            "Out of range float values are not JSON compliant\n",
            "Supporting this message is deprecated in jupyter-client 7, please make sure your message is JSON-compliant\n",
            "  content = self.pack(content)\n"
          ]
        },
        {
          "data": {
            "application/vnd.jupyter.widget-view+json": {
              "model_id": "713ab24bad4140a290a0824eae1de282",
              "version_major": 2,
              "version_minor": 0
            },
            "text/plain": [
              "VBox(children=(HTML(value=''), Renderer(background='#cccc88', background_opacity=0.0, camera=PerspectiveCamera…"
            ]
          },
          "metadata": {},
          "output_type": "display_data"
        }
      ],
      "source": [
        "from solid.objects import cylinder\n",
        "from viewscad import Renderer\n",
        "\n",
        "r = Renderer()\n",
        "r.width = 700\n",
        "r.height = 700\n",
        "\n",
        "render = r.render\n",
        "\n",
        "from utils import adapter, socket, ring, pipe\n",
        "from solid import cube, rotate, translate\n",
        "\n",
        "def spray_pipe(r=12, w=2,h=30, slots=5 ):\n",
        "    bottom = adapter(r=r, w=w, slots=slots)\n",
        "    middle = ring(r1=r, dz=w*7, h=h-w*10)\n",
        "    top = translate((0,0,h-3*w))(socket(w=w, r=r, slots=slots))\n",
        "\n",
        "    return sum([bottom, middle, top])\n",
        "\n",
        "def spray_pipe_cap(r=12, w=2, slots=5 ):\n",
        "    bottom = adapter(r=r, w=w, slots=slots)\n",
        "    top = translate((0,0,6*w))(cylinder(r=r, h=w,segments=60))\n",
        "\n",
        "    return sum([bottom, top])\n",
        "\n",
        "render(spray_pipe(), outfile='./outfiles/spray_pipe.stl')\n",
        "render(spray_pipe_cap(), outfile='./outfiles/spray_pipe_cap.stl')\n"
      ]
    }
  ],
  "metadata": {
    "interpreter": {
      "hash": "8b8334dab9339717f727a1deaf837b322d7a41c20d15cc86be99a8e69ceec8ce"
    },
    "kernelspec": {
      "display_name": "Python 3.8.12 64-bit ('3.8.12')",
      "language": "python",
      "name": "python3"
    },
    "language_info": {
      "codemirror_mode": {
        "name": "ipython",
        "version": 3
      },
      "file_extension": ".py",
      "mimetype": "text/x-python",
      "name": "python",
      "nbconvert_exporter": "python",
      "pygments_lexer": "ipython3",
      "version": "3.8.12"
    },
    "orig_nbformat": 4
  },
  "nbformat": 4,
  "nbformat_minor": 2
}
