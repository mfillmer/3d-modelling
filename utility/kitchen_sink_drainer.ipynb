{
 "cells": [
  {
   "cell_type": "code",
   "execution_count": 1,
   "metadata": {},
   "outputs": [
    {
     "name": "stderr",
     "output_type": "stream",
     "text": [
      "/home/gitpod/.pyenv/versions/3.8.12/lib/python3.8/site-packages/jupyter_client/session.py:716: UserWarning: Message serialization failed with:\n",
      "Out of range float values are not JSON compliant\n",
      "Supporting this message is deprecated in jupyter-client 7, please make sure your message is JSON-compliant\n",
      "  content = self.pack(content)\n"
     ]
    },
    {
     "data": {
      "application/vnd.jupyter.widget-view+json": {
       "model_id": "88b515676934401abcc763b3c17b5631",
       "version_major": 2,
       "version_minor": 0
      },
      "text/plain": [
       "VBox(children=(HTML(value=''), Renderer(background='#cccc88', background_opacity=0.0, camera=PerspectiveCamera…"
      ]
     },
     "metadata": {},
     "output_type": "display_data"
    },
    {
     "data": {
      "application/vnd.jupyter.widget-view+json": {
       "model_id": "c07b3877ef9f456aa08a9d3a79b36c5e",
       "version_major": 2,
       "version_minor": 0
      },
      "text/plain": [
       "VBox(children=(HTML(value=''), Renderer(background='#cccc88', background_opacity=0.0, camera=PerspectiveCamera…"
      ]
     },
     "metadata": {},
     "output_type": "display_data"
    }
   ],
   "source": [
    "from solid.objects import cube, cylinder, hull, rotate, translate\n",
    "from viewscad import Renderer\n",
    "from solid import utils\n",
    "\n",
    "r = Renderer()\n",
    "r.width = 700\n",
    "r.height = 700\n",
    "\n",
    "render = r.render\n",
    "\n",
    "\n",
    "def foot(h=7, w=10, d=25):\n",
    "    return cube((d,w,h)) + translate((0,w/2-1,h))(cube((d,2,1.8)))\n",
    "\n",
    "\n",
    "def drainer(w=100, d=65, h=30):\n",
    "    rail = utils.back(1)(cube((d, 2, 2)))\n",
    "    rails =  utils.forward(w*(1/5))(rail) + utils.forward(w*(4/5))(rail)\n",
    "    drain = translate((d-10, w*(2/5), 10))(rotate((0, 45, 0))\n",
    "                                           (cube((20, w/5, 20))))\n",
    "    base = cube((d, w, 5))   \n",
    "\n",
    "    line = cube((d, 1, 1), center=True)\n",
    "    point = cube(1, center=True)\n",
    "    sink = cube((d, w, 10)) - hull()(\n",
    "        translate((d/2, 0, 10))(line),\n",
    "        translate((d/2, w/2, 10))(point),\n",
    "        translate((d, w/2, 0))(point),\n",
    "        translate((d/2, w, 10))(line)\n",
    "    )\n",
    "    spike = rotate(180)(cylinder(d=5, h=15, segments=5))\n",
    "    spike_array = ((x,y,0) for x in range(0,d+10,10) for y in range(0,w+10,10))\n",
    "    spikes = sum((translate(vector)(spike) for vector in spike_array))\n",
    "    spikes *= cube((d, w, h))\n",
    "\n",
    "    body = cube((d, w, h)) - translate((1, 1, 0))(cube((d-2, w-2, h)))\n",
    "    \n",
    "    return base + utils.up(5)(sink) + body - drain + spikes - rails\n",
    "\n",
    "\n",
    "render(foot(w=10,d=25,h=7), outfile='./outfiles/kitchen_sink_drainer_foot.stl')\n",
    "render(drainer(w=120,d=70,h=30), outfile='./outfiles/kitchen_sink_drainer.stl')\n"
   ]
  }
 ],
 "metadata": {
  "interpreter": {
   "hash": "8b8334dab9339717f727a1deaf837b322d7a41c20d15cc86be99a8e69ceec8ce"
  },
  "kernelspec": {
   "display_name": "Python 3.8.12 64-bit ('3.8.12')",
   "language": "python",
   "name": "python3"
  },
  "language_info": {
   "codemirror_mode": {
    "name": "ipython",
    "version": 3
   },
   "file_extension": ".py",
   "mimetype": "text/x-python",
   "name": "python",
   "nbconvert_exporter": "python",
   "pygments_lexer": "ipython3",
   "version": "3.8.12"
  },
  "orig_nbformat": 4
 },
 "nbformat": 4,
 "nbformat_minor": 2
}
