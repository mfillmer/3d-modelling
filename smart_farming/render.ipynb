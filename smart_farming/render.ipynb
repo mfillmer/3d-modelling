{
 "cells": [
  {
   "cell_type": "code",
   "execution_count": 1,
   "metadata": {},
   "outputs": [
    {
     "name": "stderr",
     "output_type": "stream",
     "text": [
      "/home/gitpod/.pyenv/versions/3.8.12/lib/python3.8/site-packages/jupyter_client/session.py:716: UserWarning: Message serialization failed with:\n",
      "Out of range float values are not JSON compliant\n",
      "Supporting this message is deprecated in jupyter-client 7, please make sure your message is JSON-compliant\n",
      "  content = self.pack(content)\n"
     ]
    },
    {
     "data": {
      "application/vnd.jupyter.widget-view+json": {
       "model_id": "15c0afaf9592474da2f40ad8b8a15a7b",
       "version_major": 2,
       "version_minor": 0
      },
      "text/plain": [
       "VBox(children=(HTML(value=''), Renderer(background='#cccc88', background_opacity=0.0, camera=PerspectiveCamera…"
      ]
     },
     "metadata": {},
     "output_type": "display_data"
    },
    {
     "data": {
      "application/vnd.jupyter.widget-view+json": {
       "model_id": "d7736177c0924cc4bd61174bec1cce56",
       "version_major": 2,
       "version_minor": 0
      },
      "text/plain": [
       "VBox(children=(HTML(value=''), Renderer(background='#cccc88', background_opacity=0.0, camera=PerspectiveCamera…"
      ]
     },
     "metadata": {},
     "output_type": "display_data"
    },
    {
     "data": {
      "application/vnd.jupyter.widget-view+json": {
       "model_id": "8c0fb1d2d9824de3a343c60f46c6c8da",
       "version_major": 2,
       "version_minor": 0
      },
      "text/plain": [
       "VBox(children=(HTML(value=''), Renderer(background='#cccc88', background_opacity=0.0, camera=PerspectiveCamera…"
      ]
     },
     "metadata": {},
     "output_type": "display_data"
    }
   ],
   "source": [
    "\n",
    "from viewscad import Renderer\n",
    "\n",
    "from starter_kit import Aufsatzschneide, Einsatzschneide,Einlegeboden, Untersatz, translate, logo_vertical, arc, rotate, cube\n",
    "    \n",
    "r = Renderer()\n",
    "r.width=1000\n",
    "r.height=800\n",
    "    \n",
    "\n",
    "r.render(Untersatz, outfile='Untersatz.stl')\n",
    "r.render(Einsatzschneide, outfile='Einsatzschneide.stl')\n",
    "r.render(Aufsatzschneide, outfile='Aufsatzschneide.stl')\n",
    "r.render(Einlegeboden, outfile='Einlegeboden.stl')\n"
   ]
  },
  {
   "cell_type": "code",
   "execution_count": 2,
   "metadata": {},
   "outputs": [
    {
     "data": {
      "application/vnd.jupyter.widget-view+json": {
       "model_id": "47b67d38674140fe8574fb0d8b8cd068",
       "version_major": 2,
       "version_minor": 0
      },
      "text/plain": [
       "VBox(children=(HTML(value=''), Renderer(background='#cccc88', background_opacity=0.0, camera=PerspectiveCamera…"
      ]
     },
     "metadata": {},
     "output_type": "display_data"
    }
   ],
   "source": [
    "from viewscad import Renderer\n",
    "from solid.objects import cube, translate, rotate, mirror\n",
    "from solid.utils import right, forward, up\n",
    "from starter_kit import Einlegeboden, Untersatz, Einsatzschneide, Aufsatzschneide\n",
    "\n",
    "r = Renderer()\n",
    "\n",
    "scene = Untersatz \\\n",
    "    + translate((2, 2, 56))(Einsatzschneide)\\\n",
    "    + translate((144, 74, 0))(rotate((0, 0, 180))(translate((0, 2, 58))(Aufsatzschneide)))\\\n",
    "    + translate((2, 2, 40))(Einlegeboden)\\\n",
    "\n",
    "r.width=1200\n",
    "r.height=900\n",
    "\n",
    "r.render(scene)\n"
   ]
  }
 ],
 "metadata": {
  "interpreter": {
   "hash": "8b8334dab9339717f727a1deaf837b322d7a41c20d15cc86be99a8e69ceec8ce"
  },
  "kernelspec": {
   "display_name": "Python 3.8.12 64-bit ('3.8.12': pyenv)",
   "language": "python",
   "name": "python3"
  },
  "language_info": {
   "codemirror_mode": {
    "name": "ipython",
    "version": 3
   },
   "file_extension": ".py",
   "mimetype": "text/x-python",
   "name": "python",
   "nbconvert_exporter": "python",
   "pygments_lexer": "ipython3",
   "version": "3.8.12"
  },
  "orig_nbformat": 4
 },
 "nbformat": 4,
 "nbformat_minor": 2
}
