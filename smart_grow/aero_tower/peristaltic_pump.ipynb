{
 "cells": [
  {
   "cell_type": "code",
   "execution_count": 138,
   "metadata": {},
   "outputs": [],
   "source": [
    "from numpy.core.numeric import roll\n",
    "from solid.objects import circle, cube, cylinder, linear_extrude, offset, rotate, rotate_extrude, sphere, square, translate, import_scad, hull\n",
    "from solid.utils import right, up, forward\n",
    "from viewscad import Renderer\n",
    "\n",
    "\n",
    "r = Renderer()\n",
    "r.width = 600\n",
    "r.height = 600\n",
    "\n",
    "render = r.render\n",
    "\n",
    "\n",
    "def spin(obj, amount=3):\n",
    "    return sum((rotate((0, 0, a))(obj) for a in range(0, 360, 360//amount)))\n",
    "\n",
    "\n",
    "def peristaltic_pump(d=60, tube=12.5, tube_wall=2.5, rolls=5, support=4, key_size=6):\n",
    "    h = tube+2\n",
    "    sphere_center_offset = (d/2-(h//3*2))\n",
    "    out_ring = translate(((d/2-h), -h/2, 0))(square(size=h+1))\\\n",
    "        - translate((d/2-(h//2*3), -h/2, 0))(square(size=h+1))\\\n",
    "        - right(sphere_center_offset)(circle(d=tube, segments=100, ))\\\n",
    "\n",
    "    bullet = right(sphere_center_offset)(\n",
    "        sphere(d=tube-tube_wall, segments=100, ) +\n",
    "        cylinder(d=support, h=h, center=True, segments=100, )\n",
    "    )\n",
    "    bullets = spin(bullet, rolls)\n",
    "\n",
    "    socket = translate((0, -h/2, -h/2))(cube((sphere_center_offset-(tube/4), h, h)))\\\n",
    "        - right(sphere_center_offset)(sphere(d=tube, segments=100, ))\n",
    "\n",
    "    socket_roller = spin(socket, rolls)\\\n",
    "        - cylinder(d=key_size, segments=100, h=h, center=True)\n",
    "\n",
    "    socket_roller *= cylinder(h=h, r=sphere_center_offset-tube/4, segments=100, center=True)\n",
    "\n",
    "    inlet = rotate((0, 90, 0))(cylinder(d=tube, h=d, segments=100, ))\n",
    "    inlets = forward(sphere_center_offset)(inlet) + \\\n",
    "        forward(-sphere_center_offset)(inlet)\\\n",
    "\n",
    "    return rotate_extrude(segments=100, )(out_ring) - inlets + bullets + socket_roller\n",
    "\n",
    "\n",
    "render(peristaltic_pump(), outfile='./outfiles/peristaltic_pump.stl')\n"
   ]
  }
 ],
 "metadata": {
  "interpreter": {
   "hash": "8b8334dab9339717f727a1deaf837b322d7a41c20d15cc86be99a8e69ceec8ce"
  },
  "kernelspec": {
   "display_name": "Python 3.8.12 64-bit ('3.8.12')",
   "language": "python",
   "name": "python3"
  },
  "language_info": {
   "codemirror_mode": {
    "name": "ipython",
    "version": 3
   },
   "file_extension": ".py",
   "mimetype": "text/x-python",
   "name": "python",
   "nbconvert_exporter": "python",
   "pygments_lexer": "ipython3",
   "version": "3.8.12"
  },
  "orig_nbformat": 4
 },
 "nbformat": 4,
 "nbformat_minor": 2
}
