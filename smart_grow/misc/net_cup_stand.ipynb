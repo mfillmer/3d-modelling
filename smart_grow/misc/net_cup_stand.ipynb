{
 "cells": [
  {
   "cell_type": "code",
   "execution_count": 2,
   "metadata": {},
   "outputs": [],
   "source": [
    "from viewscad import Renderer\n",
    "\n",
    "r = Renderer()\n",
    "r.width = 800\n",
    "r.height= 800\n",
    "\n",
    "render = r.render"
   ]
  },
  {
   "cell_type": "code",
   "execution_count": 19,
   "metadata": {},
   "outputs": [
    {
     "name": "stderr",
     "output_type": "stream",
     "text": [
      "/home/gitpod/.pyenv/versions/3.8.12/lib/python3.8/site-packages/jupyter_client/session.py:716: UserWarning: Message serialization failed with:\n",
      "Out of range float values are not JSON compliant\n",
      "Supporting this message is deprecated in jupyter-client 7, please make sure your message is JSON-compliant\n",
      "  content = self.pack(content)\n"
     ]
    },
    {
     "data": {
      "application/vnd.jupyter.widget-view+json": {
       "model_id": "8dcd8e1118954b5397e9d6a7d5c8312d",
       "version_major": 2,
       "version_minor": 0
      },
      "text/plain": [
       "VBox(children=(HTML(value=''), Renderer(background='#cccc88', background_opacity=0.0, camera=PerspectiveCamera…"
      ]
     },
     "metadata": {},
     "output_type": "display_data"
    }
   ],
   "source": [
    "from solid import cylinder, cube, rotate, translate\n",
    "\n",
    "hole = cylinder(d=73, h=130, segments=30)\n",
    "outer = cylinder(d=77, h=130, segments=30)\n",
    "base = cylinder(d=77, h=2, segments=30) - cylinder(d=67, h=2, segments=30)\n",
    "diamondcut = rotate((45, 65, 0))(cube((300, 10, 200), center=True))\n",
    "thing = (outer - hole )*diamondcut\n",
    "scene = base\n",
    "scene += sum([rotate((0,0,r))(thing) for r in range(0,359,72) ]) \n",
    "render(scene, outfile='net_pod_stand.stl')\n"
   ]
  }
 ],
 "metadata": {
  "interpreter": {
   "hash": "8b8334dab9339717f727a1deaf837b322d7a41c20d15cc86be99a8e69ceec8ce"
  },
  "kernelspec": {
   "display_name": "Python 3.8.12 64-bit ('3.8.12': pyenv)",
   "language": "python",
   "name": "python3"
  },
  "language_info": {
   "codemirror_mode": {
    "name": "ipython",
    "version": 3
   },
   "file_extension": ".py",
   "mimetype": "text/x-python",
   "name": "python",
   "nbconvert_exporter": "python",
   "pygments_lexer": "ipython3",
   "version": "3.8.12"
  },
  "orig_nbformat": 4
 },
 "nbformat": 4,
 "nbformat_minor": 2
}
