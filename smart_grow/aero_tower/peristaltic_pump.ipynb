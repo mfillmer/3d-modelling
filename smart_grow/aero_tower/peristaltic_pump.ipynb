{
 "cells": [
  {
   "cell_type": "code",
   "execution_count": 45,
   "metadata": {},
   "outputs": [
    {
     "data": {
      "application/vnd.jupyter.widget-view+json": {
       "model_id": "0a2e1364d538474a8b32e42d2e6e5537",
       "version_major": 2,
       "version_minor": 0
      },
      "text/plain": [
       "VBox(children=(HTML(value=''), Renderer(background='#cccc88', background_opacity=0.0, camera=PerspectiveCamera…"
      ]
     },
     "metadata": {},
     "output_type": "display_data"
    },
    {
     "data": {
      "application/vnd.jupyter.widget-view+json": {
       "model_id": "22a0555df7f347c89a1a4be1d22d5fa5",
       "version_major": 2,
       "version_minor": 0
      },
      "text/plain": [
       "VBox(children=(HTML(value=''), Renderer(background='#cccc88', background_opacity=0.0, camera=PerspectiveCamera…"
      ]
     },
     "metadata": {},
     "output_type": "display_data"
    },
    {
     "data": {
      "application/vnd.jupyter.widget-view+json": {
       "model_id": "4c574cb82d5b4b89b96493ddf473b037",
       "version_major": 2,
       "version_minor": 0
      },
      "text/plain": [
       "VBox(children=(HTML(value=''), Renderer(background='#cccc88', background_opacity=0.0, camera=PerspectiveCamera…"
      ]
     },
     "metadata": {},
     "output_type": "display_data"
    },
    {
     "data": {
      "application/vnd.jupyter.widget-view+json": {
       "model_id": "8926a54cf06046e69acf79337e78abbc",
       "version_major": 2,
       "version_minor": 0
      },
      "text/plain": [
       "VBox(children=(HTML(value=''), Renderer(background='#cccc88', background_opacity=0.0, camera=PerspectiveCamera…"
      ]
     },
     "metadata": {},
     "output_type": "display_data"
    },
    {
     "data": {
      "application/vnd.jupyter.widget-view+json": {
       "model_id": "3ac58ebeff094baabacf452ae88ef84f",
       "version_major": 2,
       "version_minor": 0
      },
      "text/plain": [
       "VBox(children=(HTML(value=''), Renderer(background='#cccc88', background_opacity=0.0, camera=PerspectiveCamera…"
      ]
     },
     "metadata": {},
     "output_type": "display_data"
    }
   ],
   "source": [
    "from numpy.core.numeric import roll\n",
    "from solid.objects import cylinder, offset, rotate, translate, import_scad, hull\n",
    "from viewscad import Renderer\n",
    "\n",
    "\n",
    "r = Renderer()\n",
    "r.width = 600\n",
    "r.height = 600\n",
    "\n",
    "render = r.render\n",
    "\n",
    "\n",
    "def case(d=60, h=20, tube_size=12, wall=2):\n",
    "    body = cylinder(d=d, h=h, segments=60)\\\n",
    "        - translate((0, 0, wall))(cylinder(d=d-5, h=h, segments=60))\\\n",
    "        + cylinder(d=4, h=6, segments=60)\n",
    "\n",
    "    tube_inlet = cylinder(d=tube_size, h=d/2)\n",
    "    tube_inlet = rotate((90, 0, 0))(tube_inlet)\n",
    "    tube_offset = d/2-wall-tube_size/2\n",
    "    tube_inlet_left = translate((-tube_offset, 0, h/2))(tube_inlet)\n",
    "    tube_inlet_right = translate((tube_offset, 0, h/2))(tube_inlet)\n",
    "    tube_hole = tube_inlet_left + tube_inlet_right\n",
    "\n",
    "    return body - tube_hole\n",
    "\n",
    "\n",
    "def rollers(rolls=3, roll_size=20, d=60, gap=4, wall=2):\n",
    "    roller_offset = (d-roll_size)/2-wall-gap\n",
    "    roller = translate((roller_offset, 0, 0)\n",
    "                       )(cylinder(d=roll_size, h=11, segments=60) - cylinder(d=5, h=12, segments=60))\n",
    "    rollers = [rotate((0, 0, angle))(roller)\n",
    "               for angle in range(0, 360, 360//rolls)]\n",
    "\n",
    "    return sum(rollers)\n",
    "\n",
    "\n",
    "def base(roll_size=20, d=60, gap=4, wall=2):\n",
    "    roller_offset = (d-roll_size)/2-wall-gap\n",
    "\n",
    "    base = cylinder(d=roll_size-gap, h=2)\n",
    "    base = translate((roller_offset, 0, 0))(base)\n",
    "    base = hull()(base, cylinder(d=roll_size-gap, h=2))\n",
    "\n",
    "    return base\n",
    "\n",
    "\n",
    "def pins(roll_size=20, d=60, gap=4, wall=2):\n",
    "    roller_offset = (d-roll_size)/2-wall-gap\n",
    "    pins = translate((roller_offset, 0, 2))(cylinder(d=4, h=12, segments=60))\n",
    "    pins = pins + translate((roller_offset, 0, 0)\n",
    "                            )(cylinder(d=3, h=16, segments=60))\n",
    "\n",
    "    return pins\n",
    "\n",
    "\n",
    "def roll_mount(rolls=3):\n",
    "    mount = base() + pins()\n",
    "\n",
    "    roll_mount = sum([rotate((0, 0, a))(mount)\n",
    "                     for a in range(0, 360, 360//rolls)])\n",
    "    roll_mount -= cylinder(d=5, h=2, segments=60)\n",
    "\n",
    "    return roll_mount\n",
    "\n",
    "\n",
    "def roll_mount_cap(rolls=3):\n",
    "    cap = base() - pins()\n",
    "\n",
    "    cap = sum([rotate((0, 0, a))(cap) for a in range(0, 360, 360//rolls)])\n",
    "    cap -= cylinder(d=5, h=2, segments=6)\n",
    "    return cap\n",
    "\n",
    "\n",
    "scene = roll_mount() + translate((0, 0, 2))(rollers()) + \\\n",
    "    translate((0, 0, 14))(roll_mount_cap())\n",
    "scene = translate((0, 0, 2))(scene)\n",
    "scene += case()\n",
    "\n",
    "\n",
    "render(scene())\n",
    "\n",
    "\n",
    "render(roll_mount(), outfile='./outfiles/peristaltic_pump_roll_mount.stl')\n",
    "render(rollers(), outfile='./outfiles/peristaltic_pump_rollers.stl')\n",
    "render(roll_mount_cap(), outfile='./outfiles/peristaltic_pump_roll_mount_cap.stl')\n",
    "render(case(), outfile='./outfiles/peristaltic_pump_case.stl')\n"
   ]
  }
 ],
 "metadata": {
  "interpreter": {
   "hash": "8b8334dab9339717f727a1deaf837b322d7a41c20d15cc86be99a8e69ceec8ce"
  },
  "kernelspec": {
   "display_name": "Python 3.8.12 64-bit ('3.8.12')",
   "language": "python",
   "name": "python3"
  },
  "language_info": {
   "codemirror_mode": {
    "name": "ipython",
    "version": 3
   },
   "file_extension": ".py",
   "mimetype": "text/x-python",
   "name": "python",
   "nbconvert_exporter": "python",
   "pygments_lexer": "ipython3",
   "version": "3.8.12"
  },
  "orig_nbformat": 4
 },
 "nbformat": 4,
 "nbformat_minor": 2
}
