{
 "cells": [
  {
   "cell_type": "code",
   "execution_count": null,
   "metadata": {},
   "outputs": [],
   "source": [
    "from solid import cylinder, translate, square, rotate_extrude\n",
    "from solid.objects import cube, hull, rotate\n",
    "from stackable_pipe import ring\n",
    "import math\n",
    "\n",
    "from viewscad import Renderer\n",
    "\n",
    "r = Renderer()\n",
    "r.width = 700\n",
    "r.height = 700\n",
    "\n",
    "render = r.render\n",
    "\n",
    "\n",
    "def hook(radius=10, strength=4, angle=60, extruded_length=None):\n",
    "    out_sq = translate((radius, 0, 0))(square(strength))\n",
    "    base_sq = translate((radius, 0, 0))(square((0.1, strength)))\n",
    "    hook_sq = translate((radius+strength, strength-0.1, 0))(square((0.1)))\n",
    "\n",
    "    if extruded_length is not None:\n",
    "        angle = math.degrees(math.atan((extruded_length/radius)))\n",
    "\n",
    "    offset_angle = math.degrees(math.atan((strength/radius)))\n",
    "    base = rotate_extrude(angle, segments=100)(base_sq)\n",
    "    hook = rotate((0, 0, offset_angle))(\n",
    "        rotate_extrude(angle-(offset_angle*2), segments=100)(hook_sq)\n",
    "    )\n",
    "    outline = rotate_extrude(angle, segments=100)(out_sq)\n",
    "\n",
    "    return (rotate(-angle/2)(hull()(base + hook)*outline), rotate(-angle/2)(outline))\n",
    "\n",
    "\n",
    "def connection(d=80, h=30, angle=20, wall=2, strength=2,hook_angle = 15, gap=0.1):\n",
    "    radius = d/2\n",
    "    inner_radius_delta = (h * math.tan(math.radians(angle)))\n",
    "    inner_radius = radius - inner_radius_delta\n",
    "    base = ring(r2=radius, r1=inner_radius, h=h, w=wall)\n",
    "\n",
    "    cut = cube((d, .4, h), center=True)\n",
    "    (hook_instance, hook_slot) = hook(radius=inner_radius, angle=hook_angle-2)\n",
    "    cuts = [rotate(z+hook_angle/2)(cut)for z in range(0, 360, hook_angle)]\n",
    "    hooks = [rotate(z)(hook_instance) for z in range(0, 360, hook_angle*2)]\n",
    "\n",
    "    adapter = base + hooks - cuts\n",
    "\n",
    "    h_intercept = h - (wall / math.tan(math.radians(angle)))\n",
    "    slots = [rotate(z)(hook_slot) for z in range(0, 360, hook_angle*2)]\n",
    "    socket_base = ring(r2=radius, r1=inner_radius+wall, h=h_intercept, w=wall-gap)\n",
    "    socket = socket_base - slots\n",
    "\n",
    "    return (adapter, socket)\n",
    "\n",
    "\n",
    "(adapter, socket) = connection()\n",
    "\n",
    "render(adapter, outfile='./outfiles/test_new_adapter.stl')\n",
    "render(socket, outfile='./outfiles/test_new_socket.stl')\n"
   ]
  }
 ],
 "metadata": {
  "interpreter": {
   "hash": "110cc1dee26208153f2972f08a2ad52b6a56238dc66d48e87fb757ef2996db56"
  },
  "kernelspec": {
   "display_name": "Python 3.8.13 64-bit ('3.8.13')",
   "language": "python",
   "name": "python3"
  },
  "language_info": {
   "codemirror_mode": {
    "name": "ipython",
    "version": 3
   },
   "file_extension": ".py",
   "mimetype": "text/x-python",
   "name": "python",
   "nbconvert_exporter": "python",
   "pygments_lexer": "ipython3",
   "version": "3.8.13"
  },
  "orig_nbformat": 4
 },
 "nbformat": 4,
 "nbformat_minor": 2
}
