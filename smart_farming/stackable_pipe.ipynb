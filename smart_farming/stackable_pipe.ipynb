{
 "cells": [
  {
   "cell_type": "code",
   "execution_count": 16,
   "metadata": {},
   "outputs": [
    {
     "data": {
      "application/vnd.jupyter.widget-view+json": {
       "model_id": "cde2fd1f9d96492bb4df41ed11b4eae0",
       "version_major": 2,
       "version_minor": 0
      },
      "text/plain": [
       "VBox(children=(HTML(value=''), Renderer(background='#cccc88', background_opacity=0.0, camera=PerspectiveCamera…"
      ]
     },
     "metadata": {},
     "output_type": "display_data"
    }
   ],
   "source": [
    "from solid import hull, cylinder, translate\n",
    "from solid.objects import cube, minkowski, rotate\n",
    "from viewscad import Renderer\n",
    "\n",
    "r = Renderer()\n",
    "r.width = 700\n",
    "r.height = 700\n",
    "\n",
    "render = r.render\n",
    "\n",
    "\n",
    "def ring(r1=10, r2=None, h=2, w=2, dx=0, dy=0, dz=0):\n",
    "    r2 = r2 or r1\n",
    "    outer = cylinder(r1=r1, r2=r2, h=h, segments=40)\n",
    "    inner = cylinder(r1=r1-w, r2=r2-w, h=h, segments=40)\n",
    "    return translate((dx, dy, dz))(outer-inner)\n",
    "\n",
    "\n",
    "def slot(*args, angle=30, **kwargs):\n",
    "    half = ring(*args, **kwargs) - translate((-50, -100, 0))(cube(100))\n",
    "\n",
    "    if angle == 180:\n",
    "        return half\n",
    "    elif angle < 180:\n",
    "        return half * rotate((0, 0, 180+angle))(half)\n",
    "    else:\n",
    "        return half + rotate((0, 0, angle))(half)\n",
    "\n",
    "\n",
    "bottom = ring(r1=10, h=2, w=2)\\\n",
    "    + ring(r1=8, h=4, w=2)\\\n",
    "    + ring(r1=10, r2=8, h=2, w=2, dz=2)\\\n",
    "    + ring(r1=8, h=2, w=2, dz=4) \\\n",
    "    + ring(r1=8, r2=12, h=6, w=2, dz=6)\\\n",
    "    + ring(r1=12, dz=12)\n",
    "\n",
    "middle = ring(r1=12, dz=14, h=20)\n",
    "slots = sum([rotate((0, 0, r))(slot(r1=10.5, w=2.5, h=4, angle=40))\n",
    "            for r in [0, 120, 240]])\n",
    "stopper = sum([rotate((0, 0, r))(translate((6, -2, 0))(cube((4, 2, 10)))) for r in [0, 120, 240]]) \\\n",
    "    * (ring(r1=10, h=9) + ring(r1=8, r2=12, h=6, w=2, dz=6))\n",
    "\n",
    "hook = slot(r1=10, h=2, dz=36)\\\n",
    "    + slot(r1=12, r2=10, h=2, dz=34)\\\n",
    "    + slot(r1=10, r2=12, h=2, dz=38)\\\n",
    "    + ring(r1=12, h=6, dz=34)\\\n",
    "    + (ring(r1=12, h=2, dz=40)\n",
    "       * ring(r1=12, r2=14, h=2, dz=40))\n",
    "\n",
    "top = sum([rotate((0, 0, r))(hook) for r in [0, 120, 240]])\n",
    "\n",
    "scene = bottom + middle - slots + top + stopper\n",
    "render(scene, outfile='test_pipe.stl')\n"
   ]
  }
 ],
 "metadata": {
  "interpreter": {
   "hash": "8b8334dab9339717f727a1deaf837b322d7a41c20d15cc86be99a8e69ceec8ce"
  },
  "kernelspec": {
   "display_name": "Python 3.8.12 64-bit ('3.8.12': pyenv)",
   "language": "python",
   "name": "python3"
  },
  "language_info": {
   "codemirror_mode": {
    "name": "ipython",
    "version": 3
   },
   "file_extension": ".py",
   "mimetype": "text/x-python",
   "name": "python",
   "nbconvert_exporter": "python",
   "pygments_lexer": "ipython3",
   "version": "3.8.12"
  },
  "orig_nbformat": 4
 },
 "nbformat": 4,
 "nbformat_minor": 2
}
