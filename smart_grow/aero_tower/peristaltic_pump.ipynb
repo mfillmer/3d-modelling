{
 "cells": [
  {
   "cell_type": "code",
   "execution_count": 4,
   "metadata": {},
   "outputs": [
    {
     "data": {
      "application/vnd.jupyter.widget-view+json": {
       "model_id": "f007fc6f58114bdeb2070e639c5fa409",
       "version_major": 2,
       "version_minor": 0
      },
      "text/plain": [
       "VBox(children=(HTML(value=''), Renderer(background='#cccc88', background_opacity=0.0, camera=PerspectiveCamera…"
      ]
     },
     "metadata": {},
     "output_type": "display_data"
    }
   ],
   "source": [
    "from solid.objects import cylinder, rotate, translate, import_scad\n",
    "from viewscad import Renderer\n",
    "\n",
    "\n",
    "r = Renderer()\n",
    "r.width = 600\n",
    "r.height = 600\n",
    "\n",
    "render = r.render\n",
    "\n",
    "\n",
    "def case(d=60, h=20):\n",
    "    body = cylinder(d=d, h=h)\\\n",
    "        - translate((0, 0, 2))(cylinder(d=d-5, h=h))\\\n",
    "        + cylinder(d=4, h=14)\n",
    "\n",
    "    return body\n",
    "\n",
    "\n",
    "def spinner(rolls=3, roll_size=20, d=60, gap=2, wall=2):\n",
    "    roller_offset = (d-roll_size)/2-wall-gap\n",
    "    roller = translate((roller_offset, 0, 0)\n",
    "                       )(cylinder(d=roll_size, h=12))\n",
    "    rollers = [rotate((0, 0, angle))(roller)\n",
    "               for angle in range(0, 360, 360//rolls)]\n",
    "    rollers = translate((0, 0, 2))(sum(rollers))\n",
    "    return rollers\n",
    "\n",
    "\n",
    "def cap():\n",
    "    pass\n",
    "\n",
    "\n",
    "render(spinner()+case())\n"
   ]
  }
 ],
 "metadata": {
  "interpreter": {
   "hash": "8b8334dab9339717f727a1deaf837b322d7a41c20d15cc86be99a8e69ceec8ce"
  },
  "kernelspec": {
   "display_name": "Python 3.8.12 64-bit ('3.8.12')",
   "language": "python",
   "name": "python3"
  },
  "language_info": {
   "codemirror_mode": {
    "name": "ipython",
    "version": 3
   },
   "file_extension": ".py",
   "mimetype": "text/x-python",
   "name": "python",
   "nbconvert_exporter": "python",
   "pygments_lexer": "ipython3",
   "version": "3.8.12"
  },
  "orig_nbformat": 4
 },
 "nbformat": 4,
 "nbformat_minor": 2
}
