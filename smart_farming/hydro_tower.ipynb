{
 "cells": [
  {
   "cell_type": "code",
   "execution_count": 1,
   "metadata": {},
   "outputs": [
    {
     "name": "stderr",
     "output_type": "stream",
     "text": [
      "/home/gitpod/.pyenv/versions/3.8.12/lib/python3.8/site-packages/jupyter_client/session.py:716: UserWarning: Message serialization failed with:\n",
      "Out of range float values are not JSON compliant\n",
      "Supporting this message is deprecated in jupyter-client 7, please make sure your message is JSON-compliant\n",
      "  content = self.pack(content)\n"
     ]
    },
    {
     "data": {
      "application/vnd.jupyter.widget-view+json": {
       "model_id": "59fff2ad2e384a3cbe1cdfde34e9c0c1",
       "version_major": 2,
       "version_minor": 0
      },
      "text/plain": [
       "VBox(children=(HTML(value=''), Renderer(background='#cccc88', background_opacity=0.0, camera=PerspectiveCamera…"
      ]
     },
     "metadata": {},
     "output_type": "display_data"
    }
   ],
   "source": [
    "from viewscad import Renderer\n",
    "\n",
    "r = Renderer()\n",
    "r.width = 700\n",
    "r.height = 700\n",
    "\n",
    "render = r.render\n"
   ]
  },
  {
   "cell_type": "code",
   "execution_count": 2,
   "metadata": {},
   "outputs": [
    {
     "name": "stderr",
     "output_type": "stream",
     "text": [
      "EXPORT-WARNING: Exported object may not be a valid 2-manifold and may need repair\n"
     ]
    },
    {
     "data": {
      "application/vnd.jupyter.widget-view+json": {
       "model_id": "8b662f09bd784f78aa6a3ae54e3c4619",
       "version_major": 2,
       "version_minor": 0
      },
      "text/plain": [
       "VBox(children=(HTML(value=''), Renderer(background='#cccc88', background_opacity=0.0, camera=PerspectiveCamera…"
      ]
     },
     "metadata": {},
     "output_type": "display_data"
    }
   ],
   "source": [
    "from stackable_pipe import pipe, slot, ring, socket\n",
    "from solid import cylinder, translate, rotate\n",
    "\n",
    "\n",
    "def spin_around_tower(obj, count=4, alpha=45,h=160):\n",
    "    angles = range(0, 360, int(360/count))\n",
    "    # drehen und dann kippen\n",
    "    return translate((0, 0, h/2))([rotate((alpha, 0, z))(obj) for z in angles])\n",
    "\n",
    "\n",
    "def tower_socket(d=60, w=4):\n",
    "    r = d/2\n",
    "    base = rotate((0, 0, 15))(socket(d=d, w=w)) + ring(d1=d, h=d+2*w, w=w/2)\n",
    "    transition = ring(r2=r+w*3, r1=r, h=w*3, w=w*4) - cylinder(h=w*3, d=d)\n",
    "\n",
    "    return base # + transition\n",
    "\n",
    "\n",
    "def hydro_tower(w=4,h=160,d=160,pipe_count=5, alpha=45):\n",
    "    tower = pipe(d=d, h=h, w=w)\n",
    "    outline = cylinder(d=d, h=d, segments=60)\n",
    "    holes = spin_around_tower(cylinder(d=60, h=h, segments=60), count=pipe_count, alpha=alpha)\n",
    "    sockets = spin_around_tower(translate((0, 0, d/2))(tower_socket(w=w)), h=d, count=pipe_count, alpha=alpha)\n",
    "    \n",
    "    holes = translate((0,0,-h/2))(holes)\n",
    "    sockets = translate((0,0,-h/2))(sockets)\n",
    "\n",
    "    hydro_tower = tower - holes\n",
    "    hydro_tower += sockets\n",
    "    hydro_tower *= outline\n",
    "    return hydro_tower\n",
    "\n",
    "\n",
    "render(hydro_tower(), outfile='hydro_tower.stl')\n"
   ]
  },
  {
   "cell_type": "code",
   "execution_count": 3,
   "metadata": {},
   "outputs": [],
   "source": [
    "from stackable_pipe import pipe, slot, ring, socket, adapter\n",
    "from solid import cylinder, translate, rotate, cube\n",
    "\n",
    "w=4\n",
    "d = 60\n",
    "\n",
    "bottom = adapter(d=d, w=w)\n",
    "top = translate((0,0,4*w))(cylinder(d=d*1.2,h=5, segments=6))\n",
    "\n",
    "hydro_tower_cap = top + bottom\n",
    "hydro_tower_cap *= cube((d*2, d*2, 10*w), center=True)\n",
    "\n",
    "# render(hydro_tower_cap, outfile='hydro_tower_cap.stl')"
   ]
  },
  {
   "cell_type": "code",
   "execution_count": 4,
   "metadata": {},
   "outputs": [
    {
     "data": {
      "application/vnd.jupyter.widget-view+json": {
       "model_id": "b3675077dc8d4a54bfc42fbfa6c7b0d8",
       "version_major": 2,
       "version_minor": 0
      },
      "text/plain": [
       "VBox(children=(HTML(value=''), Renderer(background='#cccc88', background_opacity=0.0, camera=PerspectiveCamera…"
      ]
     },
     "metadata": {},
     "output_type": "display_data"
    }
   ],
   "source": [
    "from stackable_pipe import pipe, slot, ring, socket, adapter\n",
    "from solid import cylinder, translate, rotate, cube, hull\n",
    "\n",
    "\n",
    "def adapter_bottom_grid(d=60, w=4):\n",
    "    plate = cylinder(h=2, d=d-4*w)\n",
    "    hole = cylinder(h=2, d=6)\n",
    "\n",
    "    holes = sum([rotate((0, 0, r))(translate((x, 0, 0))(hole))\n",
    "                for r in range(0, 360, 360//8) for x in [0, 9, 16]])\n",
    "\n",
    "    return plate - holes\n",
    "\n",
    "\n",
    "def hydro_tower_plant_cup(w=4, d=60, h=90, gap=2):\n",
    "    bottom = adapter(d=d, w=w)\n",
    "    grid = adapter_bottom_grid(d=d, w=w)\n",
    "    pipe = translate((0, 0, 5*w))(ring(d1=d-w, w=w, h=h))\n",
    "    outline = cylinder(d=d-(w+gap), h=h, segments=60)\n",
    "\n",
    "    return (bottom + grid + pipe) * outline\n",
    "\n",
    "\n",
    "render(hydro_tower_plant_cup(), outfile='hydro_tower_plant_cup.stl')\n"
   ]
  },
  {
   "cell_type": "code",
   "execution_count": 5,
   "metadata": {},
   "outputs": [
    {
     "name": "stderr",
     "output_type": "stream",
     "text": [
      "EXPORT-WARNING: Exported object may not be a valid 2-manifold and may need repair\n"
     ]
    },
    {
     "data": {
      "application/vnd.jupyter.widget-view+json": {
       "model_id": "3823e4eb36b1448c87a88310cf456dbd",
       "version_major": 2,
       "version_minor": 0
      },
      "text/plain": [
       "VBox(children=(HTML(value=''), Renderer(background='#cccc88', background_opacity=0.0, camera=PerspectiveCamera…"
      ]
     },
     "metadata": {},
     "output_type": "display_data"
    }
   ],
   "source": [
    "d = 160\n",
    "h=160\n",
    "w=4\n",
    "pipes=5\n",
    "cups = spin_around_tower(translate((0,0, d/2-w))(hydro_tower_plant_cup()), count=pipes)\n",
    "cups = translate((0,0,-h/2))(cups)\n",
    "\n",
    "\n",
    "render(hydro_tower(pipe_count=pipes) + cups - cube(200))"
   ]
  }
 ],
 "metadata": {
  "interpreter": {
   "hash": "8b8334dab9339717f727a1deaf837b322d7a41c20d15cc86be99a8e69ceec8ce"
  },
  "kernelspec": {
   "display_name": "Python 3.8.12 64-bit ('3.8.12': pyenv)",
   "language": "python",
   "name": "python3"
  },
  "language_info": {
   "codemirror_mode": {
    "name": "ipython",
    "version": 3
   },
   "file_extension": ".py",
   "mimetype": "text/x-python",
   "name": "python",
   "nbconvert_exporter": "python",
   "pygments_lexer": "ipython3",
   "version": "3.8.12"
  },
  "orig_nbformat": 4
 },
 "nbformat": 4,
 "nbformat_minor": 2
}
