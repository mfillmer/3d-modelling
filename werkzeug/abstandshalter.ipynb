{
 "cells": [
  {
   "cell_type": "code",
   "execution_count": 42,
   "metadata": {},
   "outputs": [
    {
     "data": {
      "application/vnd.jupyter.widget-view+json": {
       "model_id": "3e57e95d982a4fdea75851c314d42b9a",
       "version_major": 2,
       "version_minor": 0
      },
      "text/plain": [
       "VBox(children=(HTML(value=''), Renderer(background='#cccc88', background_opacity=0.0, camera=PerspectiveCamera…"
      ]
     },
     "metadata": {},
     "output_type": "display_data"
    }
   ],
   "source": [
    "from solid.objects import circle, cylinder, linear_extrude, rotate, translate, import_scad, cube, text\n",
    "from viewscad import Renderer\n",
    "\n",
    "\n",
    "r = Renderer()\n",
    "r.width = 600\n",
    "r.height = 600\n",
    "\n",
    "\n",
    "def gap_holder(gap=6, width=58, height=10, strength=5, screw=4):\n",
    "    return cube((width+gap, width, strength), center=True)\\\n",
    "        + translate((0, 0, height/2 + strength/2))(cube((gap, width, height), center=True))\\\n",
    "        - translate(((width+gap)/2, 0, 0))(cylinder(d=screw, h=strength, center=True))\\\n",
    "        - translate((-(width+gap)/2, 0, 0))(cylinder(d=screw, h=strength, center=True))\\\n",
    "        + translate((0, 0, height+(strength/2)))(\n",
    "            linear_extrude(height=1)(\n",
    "                rotate((0, 0, 90))(\n",
    "                    text(text=f'{gap}mm', size=gap-2,\n",
    "                         halign='center', valign='center')\n",
    "                )\n",
    "            )\n",
    "    )\n",
    "\n",
    "\n",
    "render = r.render\n",
    "\n",
    "render(gap_holder(), outfile='gap_holder.stl')\n"
   ]
  }
 ],
 "metadata": {
  "language_info": {
   "name": "python"
  },
  "orig_nbformat": 4
 },
 "nbformat": 4,
 "nbformat_minor": 2
}
