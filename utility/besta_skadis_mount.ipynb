{
 "cells": [
  {
   "cell_type": "code",
   "execution_count": 13,
   "metadata": {},
   "outputs": [
    {
     "name": "stderr",
     "output_type": "stream",
     "text": [
      "Geometries in cache: 11\n",
      "Geometry cache size in bytes: 14920\n",
      "CGAL Polyhedrons in cache: 4\n",
      "CGAL cache size in bytes: 231600\n",
      "Total rendering time: 0:00:00.340\n",
      "   Top level object is a 3D object:\n",
      "   Simple:        yes\n",
      "   Vertices:       76\n",
      "   Halfedges:     228\n",
      "   Edges:         114\n",
      "   Halffacets:     84\n",
      "   Facets:         42\n",
      "   Volumes:         3\n"
     ]
    },
    {
     "data": {
      "application/vnd.jupyter.widget-view+json": {
       "model_id": "6c27b23be86f474ebea798b755934709",
       "version_major": 2,
       "version_minor": 0
      },
      "text/plain": [
       "VBox(children=(HTML(value=''), Renderer(background='#cccc88', background_opacity=0.0, camera=PerspectiveCamera…"
      ]
     },
     "metadata": {},
     "output_type": "display_data"
    },
    {
     "name": "stderr",
     "output_type": "stream",
     "text": [
      "Geometries in cache: 7\n",
      "Geometry cache size in bytes: 12008\n",
      "CGAL Polyhedrons in cache: 3\n",
      "CGAL cache size in bytes: 128240\n",
      "Total rendering time: 0:00:00.406\n",
      "   Top level object is a 3D object:\n",
      "   Simple:        yes\n",
      "   Vertices:       60\n",
      "   Halfedges:     180\n",
      "   Edges:          90\n",
      "   Halffacets:     64\n",
      "   Facets:         32\n",
      "   Volumes:         2\n"
     ]
    },
    {
     "data": {
      "application/vnd.jupyter.widget-view+json": {
       "model_id": "ea247c6654924253af9e8c82335d7fbc",
       "version_major": 2,
       "version_minor": 0
      },
      "text/plain": [
       "VBox(children=(HTML(value=''), Renderer(background='#cccc88', background_opacity=0.0, camera=PerspectiveCamera…"
      ]
     },
     "metadata": {},
     "output_type": "display_data"
    },
    {
     "name": "stderr",
     "output_type": "stream",
     "text": [
      "Geometries in cache: 7\n",
      "Geometry cache size in bytes: 12008\n",
      "CGAL Polyhedrons in cache: 4\n",
      "CGAL cache size in bytes: 209600\n",
      "Total rendering time: 0:00:00.457\n",
      "   Top level object is a 3D object:\n",
      "   Simple:        yes\n",
      "   Vertices:       60\n",
      "   Halfedges:     180\n",
      "   Edges:          90\n",
      "   Halffacets:     64\n",
      "   Facets:         32\n",
      "   Volumes:         2\n"
     ]
    },
    {
     "data": {
      "application/vnd.jupyter.widget-view+json": {
       "model_id": "11857335d46541d88dc82d25246c411b",
       "version_major": 2,
       "version_minor": 0
      },
      "text/plain": [
       "VBox(children=(HTML(value=''), Renderer(background='#cccc88', background_opacity=0.0, camera=PerspectiveCamera…"
      ]
     },
     "metadata": {},
     "output_type": "display_data"
    }
   ],
   "source": [
    "from solid import *\n",
    "from viewscad import renderer\n",
    "\n",
    "r = renderer.Renderer(width=700, height=700)\n",
    "render = r.render\n",
    "\n",
    "\n",
    "def besta_skadis_mount(screw=3.8):\n",
    "    outline = cube((70 + 5, 20+18+10, 30.5+5 + 10))\n",
    "    besta_top = cube((70, 10+18, 30.5 + 10))\n",
    "    hook = cube((15, 8, 10))\n",
    "    screw_hole = rotate((90, 0, 0))(cylinder(d=screw, h=20))\n",
    "\n",
    "    return outline\\\n",
    "        - besta_top\\\n",
    "        + translate((70-15, 0, 0))(hook)\\\n",
    "        - translate((70-(57.5), 48, 22.75))(screw_hole)\n",
    "\n",
    "\n",
    "# check: screw hole should align with the cubes borders\n",
    "render(besta_skadis_mount() + translate((75-62.5, 50,0))(cube((62.5, 10, 22)))+ translate((0, 50,1))(cube((12.5, 10, 22))))\n",
    "\n",
    "render(besta_skadis_mount(), outfile='outfiles/besta_skadis_mount_left.stl')\n",
    "render(mirror((1,0,0))(besta_skadis_mount()), outfile='outfiles/besta_skadis_mount_right.stl')\n"
   ]
  }
 ],
 "metadata": {
  "interpreter": {
   "hash": "31f2aee4e71d21fbe5cf8b01ff0e069b9275f58929596ceb00d14d90e3e16cd6"
  },
  "kernelspec": {
   "display_name": "Python 3.9.2 64-bit",
   "language": "python",
   "name": "python3"
  },
  "language_info": {
   "codemirror_mode": {
    "name": "ipython",
    "version": 3
   },
   "file_extension": ".py",
   "mimetype": "text/x-python",
   "name": "python",
   "nbconvert_exporter": "python",
   "pygments_lexer": "ipython3",
   "version": "3.9.2"
  },
  "orig_nbformat": 4
 },
 "nbformat": 4,
 "nbformat_minor": 2
}
