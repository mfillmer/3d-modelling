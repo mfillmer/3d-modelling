{
 "cells": [
  {
   "cell_type": "code",
   "execution_count": 1,
   "metadata": {},
   "outputs": [],
   "source": [
    "from viewscad import Renderer\n",
    "\n",
    "r = Renderer()\n",
    "r.width = 700\n",
    "r.height = 700\n",
    "\n",
    "render = r.render\n"
   ]
  },
  {
   "cell_type": "code",
   "execution_count": 2,
   "metadata": {},
   "outputs": [
    {
     "name": "stderr",
     "output_type": "stream",
     "text": [
      "Geometries in cache: 25\n",
      "Geometry cache size in bytes: 559544\n",
      "CGAL Polyhedrons in cache: 38\n",
      "CGAL cache size in bytes: 102320224\n",
      "Total rendering time: 0:03:38.087\n",
      "   Top level object is a 3D object:\n",
      "   Simple:        yes\n",
      "   Vertices:    10304\n",
      "   Halfedges:   33532\n",
      "   Edges:       16766\n",
      "   Halffacets:  11674\n",
      "   Facets:       5837\n",
      "   Volumes:         3\n",
      "/home/malte/.local/lib/python3.9/site-packages/jupyter_client/session.py:718: UserWarning: Message serialization failed with:\n",
      "Out of range float values are not JSON compliant\n",
      "Supporting this message is deprecated in jupyter-client 7, please make sure your message is JSON-compliant\n",
      "  content = self.pack(content)\n"
     ]
    },
    {
     "data": {
      "application/vnd.jupyter.widget-view+json": {
       "model_id": "d07ded26d70542918b3bec452ae61e7c",
       "version_major": 2,
       "version_minor": 0
      },
      "text/plain": [
       "VBox(children=(HTML(value=''), Renderer(background='#cccc88', background_opacity=0.0, camera=PerspectiveCamera…"
      ]
     },
     "metadata": {},
     "output_type": "display_data"
    },
    {
     "name": "stderr",
     "output_type": "stream",
     "text": [
      "Geometries in cache: 54\n",
      "Geometry cache size in bytes: 147408\n",
      "CGAL Polyhedrons in cache: 7\n",
      "CGAL cache size in bytes: 6277296\n",
      "Total rendering time: 0:00:28.359\n",
      "   Top level object is a 3D object:\n",
      "   Simple:        yes\n",
      "   Vertices:     1096\n",
      "   Halfedges:    3576\n",
      "   Edges:        1788\n",
      "   Halffacets:   1390\n",
      "   Facets:        695\n",
      "   Volumes:         2\n"
     ]
    },
    {
     "data": {
      "application/vnd.jupyter.widget-view+json": {
       "model_id": "13825e7d656d4386b8e709c016f1f770",
       "version_major": 2,
       "version_minor": 0
      },
      "text/plain": [
       "VBox(children=(HTML(value=''), Renderer(background='#cccc88', background_opacity=0.0, camera=PerspectiveCamera…"
      ]
     },
     "metadata": {},
     "output_type": "display_data"
    },
    {
     "name": "stderr",
     "output_type": "stream",
     "text": [
      "Geometries in cache: 6\n",
      "Geometry cache size in bytes: 175008\n",
      "CGAL Polyhedrons in cache: 8\n",
      "CGAL cache size in bytes: 15939168\n",
      "Total rendering time: 0:00:32.940\n",
      "   Top level object is a 3D object:\n",
      "   Simple:        yes\n",
      "   Vertices:     2469\n",
      "   Halfedges:    8112\n",
      "   Edges:        4056\n",
      "   Halffacets:   2742\n",
      "   Facets:       1371\n",
      "   Volumes:         2\n"
     ]
    },
    {
     "data": {
      "application/vnd.jupyter.widget-view+json": {
       "model_id": "96c026b1577744ea9a058c3a3e18f9a5",
       "version_major": 2,
       "version_minor": 0
      },
      "text/plain": [
       "VBox(children=(HTML(value=''), Renderer(background='#cccc88', background_opacity=0.0, camera=PerspectiveCamera…"
      ]
     },
     "metadata": {},
     "output_type": "display_data"
    },
    {
     "name": "stderr",
     "output_type": "stream",
     "text": [
      "Geometries in cache: 7\n",
      "Geometry cache size in bytes: 277256\n",
      "CGAL Polyhedrons in cache: 11\n",
      "CGAL cache size in bytes: 23139768\n",
      "Total rendering time: 0:00:38.001\n",
      "   Top level object is a 3D object:\n",
      "   Simple:        yes\n",
      "   Vertices:     5549\n",
      "   Halfedges:   18156\n",
      "   Edges:        9078\n",
      "   Halffacets:   5902\n",
      "   Facets:       2951\n",
      "   Volumes:         2\n"
     ]
    },
    {
     "data": {
      "application/vnd.jupyter.widget-view+json": {
       "model_id": "daf9e2eaf7484f20b94d10a6ee81ebab",
       "version_major": 2,
       "version_minor": 0
      },
      "text/plain": [
       "VBox(children=(HTML(value=''), Renderer(background='#cccc88', background_opacity=0.0, camera=PerspectiveCamera…"
      ]
     },
     "metadata": {},
     "output_type": "display_data"
    }
   ],
   "source": [
    "from stackable_pipe import ring, connection, pipe, cutout, two_sided_connection\n",
    "from solid import cylinder, translate, rotate, cube\n",
    "from solid.utils import *\n",
    "from viewscad import Renderer\n",
    "\n",
    "r = Renderer()\n",
    "r.width = 700\n",
    "r.height = 700\n",
    "\n",
    "render = r.render\n",
    "\n",
    "\n",
    "def bottom_grid(d=60, w=2, hole_size=6, hole_gap=2):\n",
    "    plate = cylinder(h=w, d=d, segments=100)\n",
    "    hole = cylinder(h=w, d=hole_size, segments=10)\n",
    "    pane = range(-d//2, d//2, hole_size+hole_gap)\n",
    "    transition = ring(d1=d, h=w, w=w*2)\n",
    "\n",
    "    holes = [translate((x, y, 0))(hole) for x in pane for y in pane]\n",
    "\n",
    "    return plate - holes + transition\n",
    "\n",
    "\n",
    "def spin_around_tower(obj, count=4, alpha=45, h=160):\n",
    "    angles = range(180, 540, int(360/count))\n",
    "    # drehen und dann kippen\n",
    "    return translate((0, 0, h/2))([rotate((alpha, 0, z))(obj) for z in angles])\n",
    "\n",
    "\n",
    "def cup_con(d1=52, d2=60, w=2, height=80, inlet_delta=5):\n",
    "    c = d2\n",
    "    gradient = (d2-d1)/height\n",
    "    inlet = (gradient*inlet_delta+w) * 2\n",
    "    socket_d1_delta = d1 + inlet\n",
    "    socket_d2_delta = d2 + inlet\n",
    "    c = cutout(c)\n",
    "\n",
    "    base = ring(d1=socket_d1_delta, d2=socket_d2_delta, h=height, w=w)\n",
    "    socket = base - c\n",
    "\n",
    "\n",
    "    cup = ring(d1=d1, d2=d2, w=w, h=height)\n",
    "    cup += bottom_grid(d=d1, w=w)\n",
    "\n",
    "    outline = cylinder(d1=d1, d2=d2, h=height*2, segments=100)\n",
    "\n",
    "    return (socket, cup, outline)\n",
    "\n",
    "\n",
    "def aero_tank(d=180, height=180, wall=2, socket_h=20, tooth=4):\n",
    "    body = ring(d1=d, h=height, w=wall)\n",
    "    bottom = cylinder(d=d, h=wall, segments=100)\n",
    "    (_, socket) = connection(d=d, h=socket_h,\n",
    "                             wall=wall, tooth_depth=tooth, tooth_height=tooth*2)\n",
    "\n",
    "    return bottom + body + up(height-socket_h)(socket)\n",
    "\n",
    "\n",
    "\n",
    "def aero_tower(w=2, h=160, d=160, socket_h=20, pipe_count=1, alpha=45, cup_d = 60, cup_h=80, tooth=4):\n",
    "    aero_tower = pipe(d=d, h=h, w=w, tooth=tooth, socket_h=socket_h)\n",
    "    (cup_s, cup, cup_outline) = cup_con(d1=cup_d-cup_h//10,d2=cup_d, w=w, height=cup_h, inlet_delta=5)\n",
    "    outline = cylinder(d=d, h=d, segments=100)\n",
    "    holes = spin_around_tower(cup_outline, count=pipe_count, alpha=alpha)\n",
    "    sockets = spin_around_tower(\n",
    "        translate((0, 0, h/2+w))(cup_s), h=d, count=pipe_count, alpha=alpha)\n",
    "\n",
    "    holes = translate((0, 0, -h/2))(holes)\n",
    "    sockets = translate((0, 0, -h/2))(sockets)\n",
    "    aero_tower = aero_tower - holes + sockets\n",
    "    aero_tower *= outline\n",
    "\n",
    "    tank = aero_tank(d=180, height=180, wall=w, tooth=tooth)\n",
    "    adapter = two_sided_connection(outer_d=180, outer_w=w, outer_tooth=tooth,  height=socket_h, inner_d=d, inner_w=w, inner_tooth=tooth)\n",
    "\n",
    "    return (aero_tower, cup, tank, adapter)\n",
    "\n",
    "\n",
    "(tower, cup, tank, adapter) = aero_tower(pipe_count=5)\n",
    "render(tower, outfile='./outfiles/aero_tower.stl')\n",
    "render(cup, outfile='./outfiles/plant_cup.stl')\n",
    "render(tank, outfile='./outfiles/aero_tower_tank.stl')\n",
    "render(adapter, outfile='./outfiles/aero_tower_tank_adapter.stl')\n"
   ]
  },
  {
   "cell_type": "code",
   "execution_count": 3,
   "metadata": {},
   "outputs": [
    {
     "name": "stderr",
     "output_type": "stream",
     "text": [
      "Geometries in cache: 32\n",
      "Geometry cache size in bytes: 748056\n",
      "CGAL Polyhedrons in cache: 43\n",
      "CGAL cache size in bytes: 69239368\n",
      "Total rendering time: 0:01:53.910\n",
      "   Top level object is a 3D object:\n",
      "   Simple:        yes\n",
      "   Vertices:    11059\n",
      "   Halfedges:   36600\n",
      "   Edges:       18300\n",
      "   Halffacets:  12578\n",
      "   Facets:       6289\n",
      "   Volumes:         3\n"
     ]
    },
    {
     "data": {
      "application/vnd.jupyter.widget-view+json": {
       "model_id": "16b332304c034384a0b7dd1e1dd8fcd5",
       "version_major": 2,
       "version_minor": 0
      },
      "text/plain": [
       "VBox(children=(HTML(value=''), Renderer(background='#cccc88', background_opacity=0.0, camera=PerspectiveCamera…"
      ]
     },
     "metadata": {},
     "output_type": "display_data"
    },
    {
     "name": "stderr",
     "output_type": "stream",
     "text": [
      "Geometries in cache: 16\n",
      "Geometry cache size in bytes: 409088\n",
      "CGAL Polyhedrons in cache: 17\n",
      "CGAL cache size in bytes: 51510456\n",
      "Total rendering time: 0:01:35.341\n",
      "   Top level object is a 3D object:\n",
      "   Simple:        yes\n",
      "   Vertices:     7993\n",
      "   Halfedges:   26734\n",
      "   Edges:       13367\n",
      "   Halffacets:   8682\n",
      "   Facets:       4341\n",
      "   Volumes:         2\n"
     ]
    },
    {
     "data": {
      "application/vnd.jupyter.widget-view+json": {
       "model_id": "f6f0e0fa9a1b42fdb36c8dc0b0c94b02",
       "version_major": 2,
       "version_minor": 0
      },
      "text/plain": [
       "VBox(children=(HTML(value=''), Renderer(background='#cccc88', background_opacity=0.0, camera=PerspectiveCamera…"
      ]
     },
     "metadata": {},
     "output_type": "display_data"
    },
    {
     "name": "stderr",
     "output_type": "stream",
     "text": [
      "Geometries in cache: 8\n",
      "Geometry cache size in bytes: 198496\n",
      "CGAL Polyhedrons in cache: 6\n",
      "CGAL cache size in bytes: 12713584\n",
      "Total rendering time: 0:00:20.234\n",
      "   Top level object is a 3D object:\n",
      "   Simple:        yes\n",
      "   Vertices:     2702\n",
      "   Halfedges:    8346\n",
      "   Edges:        4173\n",
      "   Halffacets:   2946\n",
      "   Facets:       1473\n",
      "   Volumes:         2\n"
     ]
    },
    {
     "data": {
      "application/vnd.jupyter.widget-view+json": {
       "model_id": "9324df2b8d2e46c8b07f18d2fac96887",
       "version_major": 2,
       "version_minor": 0
      },
      "text/plain": [
       "VBox(children=(HTML(value=''), Renderer(background='#cccc88', background_opacity=0.0, camera=PerspectiveCamera…"
      ]
     },
     "metadata": {},
     "output_type": "display_data"
    }
   ],
   "source": [
    "\n",
    "from stackable_pipe import pipe, ring, connection, mount_to_bottom, tended_obj, cutout\n",
    "from solid import cylinder, translate, rotate, cube\n",
    "from solid.utils import up, forward, down\n",
    "from viewscad import Renderer\n",
    "from math import sqrt\n",
    "\n",
    "r = Renderer()\n",
    "r.width = 700\n",
    "r.height = 700\n",
    "\n",
    "render = r.render\n",
    "\n",
    "def tank(width=180, height=180, wall=2, socket_h=20, tooth=4):\n",
    "    body = ring(d1=width, h=height, w=wall)\n",
    "    bottom = cylinder(d=width, h=wall, segments=100)\n",
    "    (_, socket) = connection(d=width, h=socket_h,\n",
    "                             wall=wall, tooth_depth=tooth, tooth_height=tooth*2)\n",
    "\n",
    "    tank = bottom + body + up(height-socket_h)(socket)\n",
    "\n",
    "\n",
    "def electronics_mounts(d=150, hole_d=67, strength=10, bb_mount_h=16, bb_w=83, bb_d=10, pump_d=25):\n",
    "    mock = ring(h=1, d1=d, w=(d-hole_d)/2)\n",
    "\n",
    "    bb_mount_delta = (hole_d + bb_d)/2\n",
    "    bb_mount = up(bb_mount_h/2)(\n",
    "        cube((bb_d+strength, bb_w+2, bb_mount_h), center=True)\n",
    "        - cube((bb_d, bb_w, bb_mount_h), center=True)\n",
    "    )\n",
    "    bb_mount = translate((-bb_mount_delta, 0, 0))(bb_mount)\n",
    "    bb_mount *= ring(r1=bb_mount_delta + strength, h=bb_mount_h, w=strength)\n",
    "\n",
    "    pm_d = pump_d + 2\n",
    "    pump_mount_delta = (hole_d + pump_d)/2\n",
    "    pump_mount = cylinder(d=pm_d, h=24, segments=100)\n",
    "    pump_mount -= mount_to_bottom(\n",
    "        tended_obj(w=pump_d)(down(2)(cutout(pm_d)))\n",
    "        )\n",
    "    pump_mount -= cylinder(d=pump_d, h=60, segments=100)\n",
    "    \n",
    "    pump_mount = rotate(90)(\n",
    "        translate((-pump_mount_delta, 0, 0))(pump_mount)\n",
    "    )\n",
    "\n",
    "    return mock + bb_mount + pump_mount\n",
    "\n",
    "def fog_well(inner_d=50, wall=2, well_depth=60, adapter_h=10, hole_h=20, tube_d=8, cable_d=15, tooth=2):\n",
    "    outer_d = inner_d+wall*2+tooth*2\n",
    "    total_h = well_depth+wall+adapter_h+hole_h\n",
    "    well = ring(d1=outer_d, w=wall, h=total_h)\n",
    "    base = cylinder(h=wall, d=outer_d, segments=100)\n",
    "\n",
    "    hole = cylinder(d=hole_h, segments=3, h=outer_d)\n",
    "    holes = [rotate((0, 270, z))(hole) for z in range(0, 360, 360//5)]\n",
    "\n",
    "    (adapter, socket) = connection(wall=wall, d=outer_d,\n",
    "                                   h=adapter_h, tooth_depth=tooth, tooth_height=tooth*2, gap=0.1)\n",
    "\n",
    "    fog_well = base + well\\\n",
    "        - up(well_depth)(holes)\\\n",
    "        + up(well_depth+hole_h)(socket)\n",
    "    lid = adapter\\\n",
    "        + cylinder(d=inner_d, h=adapter_h, segments=100)\\\n",
    "        - cylinder(d=cable_d, h=adapter_h, segments=100)\\\n",
    "        - forward((inner_d-cable_d)/2)(\n",
    "            cylinder(d=tube_d, h=adapter_h, segments=100)\n",
    "        )\n",
    "\n",
    "    return (fog_well, lid)\n",
    "\n",
    "\n",
    "def tower_head(d=160, w=2, tooth=4, socket_h=20, h=100, gap=0.1, fogger_d=50, fw_depth=60, fw_socket_h=10, fw_tooth=2, fw_hole_h=20):\n",
    "    delta_r = w + tooth + gap\n",
    "    base_d = d-delta_r*2\n",
    "    body = pipe(d=d, w=w, tooth=tooth, socket_h=socket_h, h=h)\n",
    "    fog_well_d = fogger_d + (fw_tooth + w)*2 + (fw_tooth + w + gap)*2\n",
    "\n",
    "    (adapter, socket) = connection(d=fog_well_d,\n",
    "                                   tooth_depth=fw_tooth, tooth_height=fw_tooth*2, h=socket_h, gap=gap)\n",
    "    (well, lid) = fog_well(inner_d=fogger_d, wall=w, tooth=fw_tooth,\n",
    "                           well_depth=fw_depth, adapter_h=fw_socket_h, hole_h=fw_hole_h)\n",
    "\n",
    "    well_h = fw_depth + fw_socket_h + fw_hole_h + w\n",
    "    well = well + up(well_h-socket_h)(adapter)\n",
    "\n",
    "    base = cylinder(d=base_d, h=w, segments=100)\\\n",
    "        - cylinder(d=fog_well_d, h=w, segments=100)\\\n",
    "        + socket\n",
    "    mounts = electronics_mounts(d=base_d, hole_d=fog_well_d,)\n",
    "\n",
    "    head = body + base + mounts\n",
    "\n",
    "    return (head, well, lid)\n",
    "\n",
    "\n",
    "(head, well, lid) = tower_head()\n",
    "\n",
    "render(head, outfile='outfiles/aero_tower_head.stl')\n",
    "render(well, outfile='outfiles/fog_well.stl')\n",
    "render(lid, outfile='outfiles/fog_well_lid.stl')\n"
   ]
  }
 ],
 "metadata": {
  "kernelspec": {
   "display_name": "Python 3.9.2 64-bit",
   "language": "python",
   "name": "python3"
  },
  "language_info": {
   "codemirror_mode": {
    "name": "ipython",
    "version": 3
   },
   "file_extension": ".py",
   "mimetype": "text/x-python",
   "name": "python",
   "nbconvert_exporter": "python",
   "pygments_lexer": "ipython3",
   "version": "3.9.2"
  },
  "orig_nbformat": 4,
  "vscode": {
   "interpreter": {
    "hash": "31f2aee4e71d21fbe5cf8b01ff0e069b9275f58929596ceb00d14d90e3e16cd6"
   }
  }
 },
 "nbformat": 4,
 "nbformat_minor": 2
}
