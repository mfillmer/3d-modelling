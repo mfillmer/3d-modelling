{
 "cells": [
  {
   "cell_type": "code",
   "execution_count": 12,
   "metadata": {},
   "outputs": [
    {
     "name": "stderr",
     "output_type": "stream",
     "text": [
      "Geometries in cache: 7\n",
      "Geometry cache size in bytes: 130664\n",
      "CGAL Polyhedrons in cache: 2\n",
      "CGAL cache size in bytes: 2834912\n",
      "Total rendering time: 0:00:03.933\n",
      "   Top level object is a 3D object:\n",
      "   Simple:        yes\n",
      "   Vertices:      900\n",
      "   Halfedges:    3536\n",
      "   Edges:        1768\n",
      "   Halffacets:   1744\n",
      "   Facets:        872\n",
      "   Volumes:         2\n"
     ]
    },
    {
     "data": {
      "application/vnd.jupyter.widget-view+json": {
       "model_id": "f8bac3de4f68424bac2f09962645642d",
       "version_major": 2,
       "version_minor": 0
      },
      "text/plain": [
       "VBox(children=(HTML(value=''), Renderer(background='#cccc88', background_opacity=0.0, camera=PerspectiveCamera…"
      ]
     },
     "metadata": {},
     "output_type": "display_data"
    }
   ],
   "source": [
    "from itertools import cycle\n",
    "from viewscad import Renderer\n",
    "from solid import *\n",
    "from solid.utils import up\n",
    "\n",
    "r = Renderer()\n",
    "r.width = 700\n",
    "r.height = 700\n",
    "\n",
    "render = r.render\n",
    "\n",
    "def spray_nozzle(d=8, hole=0.2, tube_inner_d=4):\n",
    "    _d = tube_inner_d\n",
    "    barb = cylinder(d1=_d/2, d2=_d, h=_d, segments=100)\n",
    "\n",
    "    nozzle = cylinder(d1=d, d2=hole*4, h=d, segments=100)\n",
    "\n",
    "    transition_h= (d-_d/2)/2\n",
    "    transition = cylinder(d1=_d/2, d2=d, h=transition_h, segments=100)\n",
    "\n",
    "    body =  barb + up(_d)(barb) + up(_d*2)(transition) + up(_d*2+transition_h)(nozzle)\n",
    "    body-= cylinder(d=hole,h=d*4, segments=100)\n",
    "    \n",
    "    return body\n",
    "\n",
    "render(spray_nozzle(), outfile='./outfiles/spray_nozzle_4_02.stl')"
   ]
  }
 ],
 "metadata": {
  "kernelspec": {
   "display_name": "Python 3.9.2 64-bit",
   "language": "python",
   "name": "python3"
  },
  "language_info": {
   "codemirror_mode": {
    "name": "ipython",
    "version": 3
   },
   "file_extension": ".py",
   "mimetype": "text/x-python",
   "name": "python",
   "nbconvert_exporter": "python",
   "pygments_lexer": "ipython3",
   "version": "3.9.2"
  },
  "orig_nbformat": 4,
  "vscode": {
   "interpreter": {
    "hash": "31f2aee4e71d21fbe5cf8b01ff0e069b9275f58929596ceb00d14d90e3e16cd6"
   }
  }
 },
 "nbformat": 4,
 "nbformat_minor": 2
}
