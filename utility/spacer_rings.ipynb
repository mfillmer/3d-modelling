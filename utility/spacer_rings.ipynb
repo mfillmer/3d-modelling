{
 "cells": [
  {
   "cell_type": "code",
   "execution_count": 2,
   "metadata": {},
   "outputs": [
    {
     "name": "stderr",
     "output_type": "stream",
     "text": [
      "Geometries in cache: 2\n",
      "Geometry cache size in bytes: 6064\n",
      "CGAL Polyhedrons in cache: 1\n",
      "CGAL cache size in bytes: 108240\n",
      "Total rendering time: 0:00:00.350\n",
      "   Top level object is a 3D object:\n",
      "   Simple:        yes\n",
      "   Vertices:       80\n",
      "   Halfedges:     240\n",
      "   Edges:         120\n",
      "   Halffacets:     84\n",
      "   Facets:         42\n",
      "   Volumes:         2\n"
     ]
    },
    {
     "data": {
      "application/vnd.jupyter.widget-view+json": {
       "model_id": "f4716a8f13f943fabf09186028104c2e",
       "version_major": 2,
       "version_minor": 0
      },
      "text/plain": [
       "VBox(children=(HTML(value=''), Renderer(background='#cccc88', background_opacity=0.0, camera=PerspectiveCamera…"
      ]
     },
     "metadata": {},
     "output_type": "display_data"
    }
   ],
   "source": [
    "from solid import cylinder\n",
    "from viewscad import Renderer\n",
    "\n",
    "render = Renderer().render\n",
    "\n",
    "spacer = cylinder(h=10, d=4.5 + 4) - cylinder(h=10, d=4.5)\n",
    "\n",
    "render(spacer, outfile='./outfiles/spacer_ring.stl')"
   ]
  }
 ],
 "metadata": {
  "interpreter": {
   "hash": "31f2aee4e71d21fbe5cf8b01ff0e069b9275f58929596ceb00d14d90e3e16cd6"
  },
  "kernelspec": {
   "display_name": "Python 3.9.2 64-bit",
   "language": "python",
   "name": "python3"
  },
  "language_info": {
   "codemirror_mode": {
    "name": "ipython",
    "version": 3
   },
   "file_extension": ".py",
   "mimetype": "text/x-python",
   "name": "python",
   "nbconvert_exporter": "python",
   "pygments_lexer": "ipython3",
   "version": "3.9.2"
  },
  "orig_nbformat": 4
 },
 "nbformat": 4,
 "nbformat_minor": 2
}
