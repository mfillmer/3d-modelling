{
 "cells": [
  {
   "cell_type": "code",
   "execution_count": 3,
   "metadata": {},
   "outputs": [],
   "source": [
    "from viewscad import Renderer\n",
    "\n",
    "r = Renderer()\n",
    "r.width = 700\n",
    "r.height = 700\n",
    "\n",
    "render = r.render\n"
   ]
  },
  {
   "cell_type": "code",
   "execution_count": 4,
   "metadata": {},
   "outputs": [
    {
     "name": "stderr",
     "output_type": "stream",
     "text": [
      "Geometries in cache: 25\n",
      "Geometry cache size in bytes: 740120\n",
      "CGAL Polyhedrons in cache: 22\n",
      "CGAL cache size in bytes: 100893376\n",
      "Total rendering time: 0:03:59.977\n",
      "   Top level object is a 3D object:\n",
      "   Simple:        yes\n",
      "   Vertices:    14639\n",
      "   Halfedges:   48064\n",
      "   Edges:       24032\n",
      "   Halffacets:  16438\n",
      "   Facets:       8219\n",
      "   Volumes:         3\n",
      "/home/malte/.local/lib/python3.9/site-packages/jupyter_client/session.py:718: UserWarning: Message serialization failed with:\n",
      "Out of range float values are not JSON compliant\n",
      "Supporting this message is deprecated in jupyter-client 7, please make sure your message is JSON-compliant\n",
      "  content = self.pack(content)\n"
     ]
    },
    {
     "data": {
      "application/vnd.jupyter.widget-view+json": {
       "model_id": "23fce7ac53694c6891cbaadb3296c432",
       "version_major": 2,
       "version_minor": 0
      },
      "text/plain": [
       "VBox(children=(HTML(value=''), Renderer(background='#cccc88', background_opacity=0.0, camera=PerspectiveCamera…"
      ]
     },
     "metadata": {},
     "output_type": "display_data"
    },
    {
     "name": "stderr",
     "output_type": "stream",
     "text": [
      "Geometries in cache: 54\n",
      "Geometry cache size in bytes: 147408\n",
      "CGAL Polyhedrons in cache: 7\n",
      "CGAL cache size in bytes: 6277296\n",
      "Total rendering time: 0:00:25.493\n",
      "   Top level object is a 3D object:\n",
      "   Simple:        yes\n",
      "   Vertices:     1096\n",
      "   Halfedges:    3576\n",
      "   Edges:        1788\n",
      "   Halffacets:   1390\n",
      "   Facets:        695\n",
      "   Volumes:         2\n"
     ]
    },
    {
     "data": {
      "application/vnd.jupyter.widget-view+json": {
       "model_id": "410ae6af738740d4af8616633ee0c586",
       "version_major": 2,
       "version_minor": 0
      },
      "text/plain": [
       "VBox(children=(HTML(value=''), Renderer(background='#cccc88', background_opacity=0.0, camera=PerspectiveCamera…"
      ]
     },
     "metadata": {},
     "output_type": "display_data"
    }
   ],
   "source": [
    "from stackable_pipe import ring, connection, pipe\n",
    "from solid import cylinder, translate, rotate, cube\n",
    "from viewscad import Renderer\n",
    "\n",
    "r = Renderer()\n",
    "r.width = 700\n",
    "r.height = 700\n",
    "\n",
    "render = r.render\n",
    "\n",
    "\n",
    "def bottom_grid(d=60, w=2, hole_size=6, hole_gap=2):\n",
    "    plate = cylinder(h=w, d=d, segments=100)\n",
    "    hole = cylinder(h=w, d=hole_size, segments=10)\n",
    "    pane = range(-d//2, d//2, hole_size+hole_gap)\n",
    "    transition = ring(d1=d, h=w, w=w*2)\n",
    "\n",
    "    holes = [translate((x, y, 0))(hole) for x in pane for y in pane]\n",
    "\n",
    "    return plate - holes + transition\n",
    "\n",
    "\n",
    "def spin_around_tower(obj, count=4, alpha=45, h=160):\n",
    "    angles = range(180, 540, int(360/count))\n",
    "    # drehen und dann kippen\n",
    "    return translate((0, 0, h/2))([rotate((alpha, 0, z))(obj) for z in angles])\n",
    "\n",
    "\n",
    "def cup_con(d1=52, d2=60, w=2, height=80, inlet_delta=5):\n",
    "    c = d2\n",
    "    gradient = (d2-d1)/height\n",
    "    inlet = (gradient*inlet_delta+w) * 2\n",
    "    socket_d1_delta = d1 + inlet\n",
    "    socket_d2_delta = d2 + inlet\n",
    "    cutout = cube(c)\\\n",
    "        - translate((c/2, 0, 0))(cylinder(r=c/2, h=c, segments=100))\\\n",
    "        - translate((c/2, c, 0))(cylinder(r=c/2, h=c, segments=100))\\\n",
    "        - translate((c/2, 0, 0))(cube(c))\n",
    "\n",
    "    cutout = translate((c/2, -c/2, 0))(rotate((0, -90, 0))(cutout))\n",
    "    cutout = rotate(90)(cutout)\n",
    "    cutout = translate((0, c/2, 0))(cutout)\n",
    "\n",
    "    base = ring(d1=socket_d1_delta, d2=socket_d2_delta, h=height, w=w)\n",
    "    socket = base - cutout\n",
    "\n",
    "\n",
    "    cup = ring(d1=d1, d2=d2, w=w, h=height)\n",
    "    cup += bottom_grid(d=d1, w=w)\n",
    "\n",
    "    outline = cylinder(d1=d1, d2=d2, h=height*2, segments=100)\n",
    "\n",
    "    return (socket, cup, outline)\n",
    "\n",
    "\n",
    "def aero_tower(w=2, h=160, d=160, socket_h=20, pipe_count=1, alpha=45, cup_d = 60, cup_h=80, tooth=2):\n",
    "    gap = 0.2\n",
    "    delta = w + tooth + gap\n",
    "    aero_tower = pipe(d=d, h=h, w=w, tooth=2, socket_h=socket_h)\n",
    "    (cup_s, cup, cup_outline) = cup_con(d1=cup_d-cup_h//10,d2=cup_d, w=w, height=cup_h, inlet_delta=5)\n",
    "    outline = cylinder(d=d, h=d, segments=100)\n",
    "    holes = spin_around_tower(cup_outline, count=pipe_count, alpha=alpha)\n",
    "    sockets = spin_around_tower(\n",
    "        translate((0, 0, h/2+w))(cup_s), h=d, count=pipe_count, alpha=alpha)\n",
    "\n",
    "    holes = translate((0, 0, -h/2))(holes)\n",
    "    sockets = translate((0, 0, -h/2))(sockets)\n",
    "    aero_tower = aero_tower - holes + sockets\n",
    "    aero_tower *= outline\n",
    "\n",
    "    return (aero_tower, cup)\n",
    "\n",
    "\n",
    "(tower, cup ) = aero_tower(pipe_count=5)\n",
    "render(tower, outfile='./outfiles/aero_tower.stl')\n",
    "render(cup, outfile='./outfiles/plant_cup.stl')\n"
   ]
  },
  {
   "cell_type": "code",
   "execution_count": 5,
   "metadata": {},
   "outputs": [
    {
     "name": "stderr",
     "output_type": "stream",
     "text": [
      "Geometries in cache: 7\n",
      "Geometry cache size in bytes: 457832\n",
      "CGAL Polyhedrons in cache: 11\n",
      "CGAL cache size in bytes: 38592576\n",
      "Total rendering time: 0:00:53.172\n",
      "   Top level object is a 3D object:\n",
      "   Simple:        yes\n",
      "   Vertices:     9876\n",
      "   Halfedges:   32684\n",
      "   Edges:       16342\n",
      "   Halffacets:  10640\n",
      "   Facets:       5320\n",
      "   Volumes:         2\n"
     ]
    },
    {
     "data": {
      "application/vnd.jupyter.widget-view+json": {
       "model_id": "4f8a1cc2b5524d91afe243eeec11d105",
       "version_major": 2,
       "version_minor": 0
      },
      "text/plain": [
       "VBox(children=(HTML(value=''), Renderer(background='#cccc88', background_opacity=0.0, camera=PerspectiveCamera…"
      ]
     },
     "metadata": {},
     "output_type": "display_data"
    },
    {
     "name": "stderr",
     "output_type": "stream",
     "text": [
      "Geometries in cache: 6\n",
      "Geometry cache size in bytes: 265296\n",
      "CGAL Polyhedrons in cache: 8\n",
      "CGAL cache size in bytes: 26447616\n",
      "Total rendering time: 0:00:46.944\n",
      "   Top level object is a 3D object:\n",
      "   Simple:        yes\n",
      "   Vertices:     4254\n",
      "   Halfedges:   14094\n",
      "   Edges:        7047\n",
      "   Halffacets:   4800\n",
      "   Facets:       2400\n",
      "   Volumes:         2\n"
     ]
    },
    {
     "data": {
      "application/vnd.jupyter.widget-view+json": {
       "model_id": "672d367639f14374afb530ecf10f7a2a",
       "version_major": 2,
       "version_minor": 0
      },
      "text/plain": [
       "VBox(children=(HTML(value=''), Renderer(background='#cccc88', background_opacity=0.0, camera=PerspectiveCamera…"
      ]
     },
     "metadata": {},
     "output_type": "display_data"
    }
   ],
   "source": [
    "from solid import cylinder\n",
    "from solid.utils import up\n",
    "from stackable_pipe import connection, ring, two_sided_connection \n",
    "from viewscad import Renderer\n",
    "\n",
    "r = Renderer()\n",
    "r.width = 700\n",
    "r.height = 700\n",
    "\n",
    "render = r.render\n",
    "\n",
    "def tank(width=180, height=180, wall=2, socket_h=20, tooth=2):\n",
    "    body = ring(d1=width, h=height, w=wall)\n",
    "    bottom = cylinder(d=width, h=wall, segments=100)\n",
    "    (_, socket) = connection(d=width, h=socket_h,\n",
    "                             wall=wall, tooth_depth=tooth, tooth_height=tooth*2)\n",
    "\n",
    "    return bottom + body + up(height-socket_h)(socket)\n",
    "\n",
    "\n",
    "render(two_sided_connection(), outfile='./outfiles/aero_tower_tank_adapter.stl')\n",
    "render(tank(), outfile='./outfiles/aero_tower_tank.stl')\n"
   ]
  },
  {
   "cell_type": "code",
   "execution_count": 7,
   "metadata": {},
   "outputs": [
    {
     "name": "stderr",
     "output_type": "stream",
     "text": [
      "Geometries in cache: 16\n",
      "Geometry cache size in bytes: 776384\n",
      "CGAL Polyhedrons in cache: 23\n",
      "CGAL cache size in bytes: 83974752\n",
      "Total rendering time: 0:01:56.991\n",
      "   Top level object is a 3D object:\n",
      "   Simple:        yes\n",
      "   Vertices:    14887\n",
      "   Halfedges:   49566\n",
      "   Edges:       24783\n",
      "   Halffacets:  16894\n",
      "   Facets:       8447\n",
      "   Volumes:         3\n"
     ]
    },
    {
     "data": {
      "application/vnd.jupyter.widget-view+json": {
       "model_id": "b3ed9f4258b84784bd1c4ab1a4107604",
       "version_major": 2,
       "version_minor": 0
      },
      "text/plain": [
       "VBox(children=(HTML(value=''), Renderer(background='#cccc88', background_opacity=0.0, camera=PerspectiveCamera…"
      ]
     },
     "metadata": {},
     "output_type": "display_data"
    },
    {
     "name": "stderr",
     "output_type": "stream",
     "text": [
      "Geometries in cache: 16\n",
      "Geometry cache size in bytes: 409088\n",
      "CGAL Polyhedrons in cache: 17\n",
      "CGAL cache size in bytes: 49833464\n",
      "Total rendering time: 0:01:13.193\n",
      "   Top level object is a 3D object:\n",
      "   Simple:        yes\n",
      "   Vertices:     7713\n",
      "   Halfedges:   25876\n",
      "   Edges:       12938\n",
      "   Halffacets:   8550\n",
      "   Facets:       4275\n",
      "   Volumes:         2\n"
     ]
    },
    {
     "data": {
      "application/vnd.jupyter.widget-view+json": {
       "model_id": "75453479e9384b1f816c205c5b73dadd",
       "version_major": 2,
       "version_minor": 0
      },
      "text/plain": [
       "VBox(children=(HTML(value=''), Renderer(background='#cccc88', background_opacity=0.0, camera=PerspectiveCamera…"
      ]
     },
     "metadata": {},
     "output_type": "display_data"
    },
    {
     "name": "stderr",
     "output_type": "stream",
     "text": [
      "Geometries in cache: 8\n",
      "Geometry cache size in bytes: 198496\n",
      "CGAL Polyhedrons in cache: 6\n",
      "CGAL cache size in bytes: 12215992\n",
      "Total rendering time: 0:00:14.445\n",
      "   Top level object is a 3D object:\n",
      "   Simple:        yes\n",
      "   Vertices:     2615\n",
      "   Halfedges:    8130\n",
      "   Edges:        4065\n",
      "   Halffacets:   2904\n",
      "   Facets:       1452\n",
      "   Volumes:         2\n"
     ]
    },
    {
     "data": {
      "application/vnd.jupyter.widget-view+json": {
       "model_id": "3f710d60b0ea4ca6bb4dae32c01ea56a",
       "version_major": 2,
       "version_minor": 0
      },
      "text/plain": [
       "VBox(children=(HTML(value=''), Renderer(background='#cccc88', background_opacity=0.0, camera=PerspectiveCamera…"
      ]
     },
     "metadata": {},
     "output_type": "display_data"
    }
   ],
   "source": [
    "\n",
    "from stackable_pipe import pipe, ring, connection\n",
    "from solid import cylinder, translate, rotate, cube\n",
    "from solid.utils import up, forward\n",
    "from viewscad import Renderer\n",
    "\n",
    "r = Renderer()\n",
    "r.width = 700\n",
    "r.height = 700\n",
    "\n",
    "render = r.render\n",
    "\n",
    "\n",
    "def fog_well(inner_d=50, wall=2, well_depth=60, adapter_h=10, hole_h=20, tube_d=8, cable_d=15, tooth=2):\n",
    "    outer_d = inner_d+wall*2+tooth*2\n",
    "    total_h = well_depth+wall+adapter_h+hole_h\n",
    "    well = ring(d1=outer_d, w=wall, h=total_h)\n",
    "    base = cylinder(h=wall, d=outer_d, segments=100)\n",
    "\n",
    "    hole = cylinder(d=hole_h, segments=3, h=outer_d)\n",
    "    holes = [rotate((0, 270, z))(hole) for z in range(0, 360, 360//5)]\n",
    "\n",
    "    (adapter, socket) = connection(wall=wall, d=outer_d,\n",
    "                                   h=adapter_h, tooth_depth=tooth, tooth_height=tooth*2, gap=0.1)\n",
    "\n",
    "    fog_well = base + well\\\n",
    "        - up(well_depth)(holes)\\\n",
    "        + up(well_depth+hole_h)(socket)\n",
    "    lid = adapter\\\n",
    "        + cylinder(d=inner_d, h=adapter_h, segments=100)\\\n",
    "        - cylinder(d=cable_d, h=adapter_h, segments=100)\\\n",
    "        - forward((inner_d-cable_d)/2)(\n",
    "            cylinder(d=tube_d, h=adapter_h, segments=100)\n",
    "        )\n",
    "\n",
    "    return (fog_well, lid)\n",
    "\n",
    "\n",
    "def tower_head(d=160, w=2, tooth=2, socket_h=20, h=50, gap=0.1, fogger_d=50, fw_depth=60, fw_socket_h=10, fw_hole_h=20):\n",
    "    delta_r = w + tooth + gap\n",
    "    body = pipe(d=d, w=w, tooth=tooth, socket_h=socket_h, h=h)\n",
    "\n",
    "    fog_well_d = fogger_d + (tooth + w)*2 + (tooth + w + gap)*2\n",
    "\n",
    "    (adapter, socket) = connection(d=fog_well_d,\n",
    "                                   tooth_depth=tooth, tooth_height=tooth*2, h=socket_h, gap=gap)\n",
    "    (well, lid) = fog_well(inner_d=fogger_d, wall=w, tooth=tooth,\n",
    "                           well_depth=fw_depth, adapter_h=fw_socket_h, hole_h=fw_hole_h)\n",
    "\n",
    "    well_h = fw_depth + fw_socket_h + fw_hole_h + w\n",
    "    well = well + up(well_h-socket_h)(adapter)\n",
    "\n",
    "    base = cylinder(r=d/2-delta_r, h=w, segments=100)\\\n",
    "        - cylinder(d=fog_well_d, h=w, segments=100)\\\n",
    "        + socket\n",
    "\n",
    "    head = body + base\n",
    "\n",
    "    return (head, well, lid)\n",
    "\n",
    "\n",
    "(head, well, lid) = tower_head()\n",
    "\n",
    "render(head, outfile='outfiles/aero_tower_head.stl')\n",
    "render(well, outfile='outfiles/fog_well.stl')\n",
    "render(lid, outfile='outfiles/fog_well_lid.stl')\n"
   ]
  }
 ],
 "metadata": {
  "kernelspec": {
   "display_name": "Python 3.9.2 64-bit",
   "language": "python",
   "name": "python3"
  },
  "language_info": {
   "codemirror_mode": {
    "name": "ipython",
    "version": 3
   },
   "file_extension": ".py",
   "mimetype": "text/x-python",
   "name": "python",
   "nbconvert_exporter": "python",
   "pygments_lexer": "ipython3",
   "version": "3.9.2"
  },
  "orig_nbformat": 4,
  "vscode": {
   "interpreter": {
    "hash": "31f2aee4e71d21fbe5cf8b01ff0e069b9275f58929596ceb00d14d90e3e16cd6"
   }
  }
 },
 "nbformat": 4,
 "nbformat_minor": 2
}
